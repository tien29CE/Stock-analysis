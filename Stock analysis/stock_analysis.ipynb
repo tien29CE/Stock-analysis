{
 "cells": [
  {
   "cell_type": "code",
   "execution_count": 68,
   "metadata": {},
   "outputs": [],
   "source": [
    "import math\n",
    "import pandas as pd\n",
    "from pandas import ExcelFile\n",
    "import cufflinks as cf\n",
    "import matplotlib.pyplot as plt\n",
    "import plotly.graph_objects as go\n",
    "import plotly.express as px\n",
    "import plotly.io as pio\n",
    "import numpy as np\n",
    "import datetime"
   ]
  },
  {
   "cell_type": "code",
   "execution_count": 69,
   "metadata": {},
   "outputs": [
    {
     "name": "stdout",
     "output_type": "stream",
     "text": [
      "353\n"
     ]
    }
   ],
   "source": [
    "label = ['AAA','AAM','AAT','ABR','ABS','ABT','ACB','ACC','ACL','ADG','ADS','AGG','AGM','AGR','AMD','ANV','APC','APG','APH','ASG'\n",
    ",'ASM','ASP','AST','BAF','BBC','BCE','BCG','BCM','BFC','BHN','BIC','BID','BKG','BMC','BMI','BMP','BRC','BSI','BTP','BTT','BVH','BWE','C32'\n",
    ",'C47','CAV','CCI','CCL','CDC','CHP','CIG','CII','CKG','CLC','CLL','CLW','CMG','CMV','CMX','CNG','COM','CRC','CRE','CSM','CSV','CTD','CTF'\n",
    ",'CTG','CTI','CTR','CVT','D2D','DAG','DAH','DAT','DBC','DBT','DC4','DCL','DCM','DGC','DGW','DHA','DHC','DHG','DHM','DIG','DLG','DMC','DPG'\n",
    ",'DQC','DRC','DRH','DRL','DSN','DTA','DTL','DTT','DVP','DXG','DXS','DXV','EIB','ELC','EMC','EVE','EVF','EVG','FMC','FPT','FRT','FTS'\n",
    ",'GAB','GAS','GDT','GEG','GEX','GIL','GMD','GSP','GTA','GVR','HAG','HAH','HAI','HAP','HAR','HAS','HAX','HBC','HCD','HCM','HDB','HDC','HDG'\n",
    ",'HHP','HHS','HID','HII','HMC','HNG','HOT','HPG','HPX','HQC','HRC','HSG','HSL','HT1','HTI','HTL','HTN','HTV','HU1','HU3','HUB','HVH'\n",
    ",'HVX','IBC','ICT','IDI','IJC','ILB','IMP','ITA','ITC','ITD','JVC','KBC','KDC','KHG','KHP','KMR','KOS','KPF','KSB','L10','LAF','LBM','LCG'\n",
    ",'LDG','LGL','LHG','LIX','LM8','LPB','LSS','MBB','MCG','MCP','MDG','MHC','MIG','MSB','MSH','MSN','MWG','NAF','NAV','NCT','NHA','NHH'\n",
    ",'NHT','NKG','NLG','NNC','NSC','NT2','NTL','NVL','NVT','OCB','OGC','OPC','ORS','PAC','PAN','PC1','PDN','PDR','PET','PGC','PGD','PGI','PGV'\n",
    ",'PHC','PHR','PIT','PJT','PLP','PLX','PMG','PNC','PNJ','POM','POW','PPC','PSH','PTB','PTC','PTL','PVD','PVT','QBS','QCG','RAL','RDP','REE'\n",
    ",'S4A','SAB','SAM','SAV','SBA','SBT','SBV','SC5','SCD','SCR','SCS','SFC','SFG','SFI','SGN','SGR','SGT','SHA','SHB','SHI','SHP','SII','SJD'\n",
    ",'SJF','SJS','SKG','SMA','SMB','SMC','SPM','SRC','SRF','SSB','SSC','SSI','ST8','STG','STK','SVC','SVD','SVI','SVT','SZC','SZL','TBC','TCB'\n",
    ",'TCD','TCH','TCL','TCM','TCO','TCR','TCT','TDC','TDG','TDH','TDM','TDP','TDW','TEG','TGG','THG','THI','TIP','TIX','TLD','TLG','TLH','TMP'\n",
    ",'TMS','TMT','TN1','TNA','TNC','TNH','TNI','TNT','TPB','TPC','TRA','TRC','TSC','TTA','TTB','VJC','VMD','VND','VNE','VNG','VNL','VNM','VNS'\n",
    ",'VOS','VPB','VPD','VPH','VPI','VPS','VRC','VRE','VSC','VSH','VSI','VTB','VTO','YBM']\n",
    "print(len(label))"
   ]
  },
  {
   "cell_type": "code",
   "execution_count": 70,
   "metadata": {},
   "outputs": [],
   "source": [
    "AAA = pd.read_excel('stock data\\AAA Historical Data.xlsx')\n",
    "AAM = pd.read_excel('stock data\\AAM Historical Data.xlsx')\n",
    "AAT = pd.read_excel('stock data\\AAT Historical Data.xlsx')\n",
    "ABR = pd.read_excel('stock data\\ABR Historical Data.xlsx')\n",
    "ABS = pd.read_excel('stock data\\ABS Historical Data.xlsx')\n",
    "ABT = pd.read_excel('stock data\\ABT Historical Data.xlsx')\n",
    "ACB = pd.read_excel('stock data\\ACB Historical Data.xlsx')\n",
    "ACC = pd.read_excel('stock data\\ACC Historical Data.xlsx')\n",
    "ACL = pd.read_excel('stock data\\ACL Historical Data.xlsx')\n",
    "ADG = pd.read_excel('stock data\\ADG Historical Data.xlsx')\n",
    "ADS = pd.read_excel('stock data\\ADS Historical Data.xlsx')\n",
    "AGG = pd.read_excel('stock data\\AGG Historical Data.xlsx')\n",
    "AGM = pd.read_excel('stock data\\AGM Historical Data.xlsx')\n",
    "AGR = pd.read_excel('stock data\\AGR Historical Data.xlsx')\n",
    "AMD = pd.read_excel('stock data\\AMD Historical Data.xlsx')\n",
    "ANV = pd.read_excel('stock data\\ANV Historical Data.xlsx')\n",
    "APC = pd.read_excel('stock data\\APC Historical Data.xlsx')\n",
    "APC = pd.read_excel('stock data\\APC Historical Data.xlsx')\n",
    "APG = pd.read_excel('stock data\\APG Historical Data.xlsx')\n",
    "APH = pd.read_excel('stock data\\APH Historical Data.xlsx')\n",
    "ASG = pd.read_excel('stock data\\ASG Historical Data.xlsx')\n",
    "ASG = pd.read_excel('stock data\\ASG Historical Data.xlsx')\n",
    "ASM = pd.read_excel('stock data\\ASM Historical Data.xlsx')\n",
    "ASP = pd.read_excel('stock data\\ASP Historical Data.xlsx')\n",
    "AST = pd.read_excel('stock data\\AST Historical Data.xlsx')\n",
    "BAF = pd.read_excel('stock data\\BAF Historical Data.xlsx')\n",
    "BBC = pd.read_excel('stock data\\BBC Historical Data.xlsx')\n",
    "BCE = pd.read_excel('stock data\\BCE Historical Data.xlsx')\n",
    "BCG = pd.read_excel('stock data\\BCG Historical Data.xlsx')\n",
    "BCM = pd.read_excel('stock data\\BCM Historical Data.xlsx')\n",
    "BFC = pd.read_excel('stock data\\BFC Historical Data.xlsx')\n",
    "BHN = pd.read_excel('stock data\\BHN Historical Data.xlsx')\n",
    "BIC = pd.read_excel('stock data\\BIC Historical Data.xlsx')\n",
    "BID = pd.read_excel('stock data\\BID Historical Data.xlsx')\n",
    "BKG = pd.read_excel('stock data\\BKG Historical Data.xlsx')\n",
    "BMC = pd.read_excel('stock data\\BMC Historical Data.xlsx')\n",
    "BMI = pd.read_excel('stock data\\BMI Historical Data.xlsx')\n",
    "BMP = pd.read_excel('stock data\\BMP Historical Data.xlsx')\n",
    "BRC = pd.read_excel('stock data\\BRC Historical Data.xlsx')\n",
    "BSI = pd.read_excel('stock data\\BSI Historical Data.xlsx')\n",
    "BTP = pd.read_excel('stock data\\BTP Historical Data.xlsx')\n",
    "BTT = pd.read_excel('stock data\\BTT Historical Data.xlsx')\n",
    "BVH = pd.read_excel('stock data\\BVH Historical Data.xlsx')\n",
    "BWE = pd.read_excel('stock data\\BWE Historical Data.xlsx')\n",
    "C32 = pd.read_excel('stock data\\C32 Historical Data.xlsx')\n",
    "C47 = pd.read_excel('stock data\\C47 Historical Data.xlsx')\n",
    "CAV = pd.read_excel('stock data\\CAV Historical Data.xlsx')\n",
    "CCI = pd.read_excel('stock data\\CCI Historical Data.xlsx')\n",
    "CCL = pd.read_excel('stock data\\CCL Historical Data.xlsx')\n",
    "CDC = pd.read_excel('stock data\\CDC Historical Data.xlsx')\n",
    "CHP = pd.read_excel('stock data\\CHP Historical Data.xlsx')\n",
    "CIG = pd.read_excel('stock data\\CIG Historical Data.xlsx')\n",
    "CII = pd.read_excel('stock data\\CII Historical Data.xlsx')\n",
    "CKG = pd.read_excel('stock data\\CKG Historical Data.xlsx')\n",
    "CLC = pd.read_excel('stock data\\CLC Historical Data.xlsx')\n",
    "CLL = pd.read_excel('stock data\\CLL Historical Data.xlsx')\n",
    "CLW = pd.read_excel('stock data\\CLW Historical Data.xlsx')\n",
    "CMG = pd.read_excel('stock data\\CMG Historical Data.xlsx')\n",
    "CMV = pd.read_excel('stock data\\CMV Historical Data.xlsx')\n",
    "CMX = pd.read_excel('stock data\\CMX Historical Data.xlsx')\n",
    "CNG = pd.read_excel('stock data\\CNG Historical Data.xlsx')\n",
    "COM = pd.read_excel('stock data\\COM Historical Data.xlsx')\n",
    "CRC = pd.read_excel('stock data\\CRC Historical Data.xlsx')\n",
    "CRE = pd.read_excel('stock data\\CRE Historical Data.xlsx')\n",
    "CSM = pd.read_excel('stock data\\CSM Historical Data.xlsx')\n",
    "CSV = pd.read_excel('stock data\\CSV Historical Data.xlsx')\n",
    "CTD = pd.read_excel('stock data\\CTD Historical Data.xlsx')\n",
    "CTF = pd.read_excel('stock data\\CTF Historical Data.xlsx')\n",
    "CTG = pd.read_excel('stock data\\CTG Historical Data.xlsx')\n",
    "CTI = pd.read_excel('stock data\\CTI Historical Data.xlsx')\n",
    "CTR = pd.read_excel('stock data\\CTR Historical Data.xlsx')\n",
    "CVT = pd.read_excel('stock data\\CVT Historical Data.xlsx')\n",
    "D2D = pd.read_excel('stock data\\D2D Historical Data.xlsx')\n",
    "DAG = pd.read_excel('stock data\\DAG Historical Data.xlsx')\n",
    "DAH = pd.read_excel('stock data\\DAH Historical Data.xlsx')\n",
    "DAT = pd.read_excel('stock data\\DAT Historical Data.xlsx')\n",
    "DBC = pd.read_excel('stock data\\DBC Historical Data.xlsx')\n",
    "DBT = pd.read_excel('stock data\\DBT Historical Data.xlsx')\n",
    "DC4 = pd.read_excel('stock data\\DC4 Historical Data.xlsx')\n",
    "DCL = pd.read_excel('stock data\\DCL Historical Data.xlsx')\n",
    "DCM = pd.read_excel('stock data\\DCM Historical Data.xlsx')\n",
    "DGC = pd.read_excel('stock data\\DGC Historical Data.xlsx')\n",
    "DGW = pd.read_excel('stock data\\DGW Historical Data.xlsx')\n",
    "DHA = pd.read_excel('stock data\\DHA Historical Data.xlsx')\n",
    "DHC = pd.read_excel('stock data\\DHC Historical Data.xlsx')\n",
    "DHG = pd.read_excel('stock data\\DHG Historical Data.xlsx')\n",
    "DHM = pd.read_excel('stock data\\DHM Historical Data.xlsx')\n",
    "DIG = pd.read_excel('stock data\\DIG Historical Data.xlsx')\n",
    "DLG = pd.read_excel('stock data\\DLG Historical Data.xlsx')\n",
    "DMC = pd.read_excel('stock data\\DMC Historical Data.xlsx')\n",
    "DPG = pd.read_excel('stock data\\DPG Historical Data.xlsx')\n",
    "DQC = pd.read_excel('stock data\\DQC Historical Data.xlsx')\n",
    "DRC = pd.read_excel('stock data\\DRC Historical Data.xlsx')\n",
    "DRH = pd.read_excel('stock data\\DRH Historical Data.xlsx')\n",
    "DRL = pd.read_excel('stock data\\DRL Historical Data.xlsx')\n",
    "DSN = pd.read_excel('stock data\\DSN Historical Data.xlsx')\n",
    "DTA = pd.read_excel('stock data\\DTA Historical Data.xlsx')\n",
    "DTL = pd.read_excel('stock data\\DTL Historical Data.xlsx')\n",
    "DTT = pd.read_excel('stock data\\DTT Historical Data.xlsx')\n",
    "DVP = pd.read_excel('stock data\\DVP Historical Data.xlsx')\n",
    "DXG = pd.read_excel('stock data\\DXG Historical Data.xlsx')\n",
    "DXS = pd.read_excel('stock data\\DXS Historical Data.xlsx')\n",
    "DXV = pd.read_excel('stock data\\DXV Historical Data.xlsx')\n",
    "EIB = pd.read_excel('stock data\\EIB Historical Data.xlsx')\n",
    "ELC = pd.read_excel('stock data\\ELC Historical Data.xlsx')\n",
    "EMC = pd.read_excel('stock data\\EMC Historical Data.xlsx')\n",
    "EVE = pd.read_excel('stock data\\EVE Historical Data.xlsx')\n",
    "EVF = pd.read_excel('stock data\\EVF Historical Data.xlsx')\n",
    "EVG = pd.read_excel('stock data\\EVG Historical Data.xlsx')\n",
    "FMC = pd.read_excel('stock data\\FMC Historical Data.xlsx')\n",
    "FMC = pd.read_excel('stock data\\FMC Historical Data.xlsx')\n",
    "FPT = pd.read_excel('stock data\\\\FPT Historical Data.xlsx')\n",
    "FRT = pd.read_excel('stock data\\FRT Historical Data.xlsx')\n",
    "FTS = pd.read_excel('stock data\\FTS Historical Data.xlsx')\n",
    "GAB = pd.read_excel('stock data\\GAB Historical Data.xlsx')\n",
    "GAS = pd.read_excel('stock data\\GAS Historical Data.xlsx')\n",
    "GDT = pd.read_excel('stock data\\GDT Historical Data.xlsx')\n",
    "GEG = pd.read_excel('stock data\\GEG Historical Data.xlsx')\n",
    "GEX = pd.read_excel('stock data\\GEX Historical Data.xlsx')\n",
    "GIL = pd.read_excel('stock data\\GIL Historical Data.xlsx')\n",
    "GMD = pd.read_excel('stock data\\GMD Historical Data.xlsx')\n",
    "GSP = pd.read_excel('stock data\\GSP Historical Data.xlsx')\n",
    "GTA = pd.read_excel('stock data\\GTA Historical Data.xlsx')\n",
    "GVR = pd.read_excel('stock data\\GVR Historical Data.xlsx')\n",
    "HAG = pd.read_excel('stock data\\HAG Historical Data.xlsx')\n",
    "HAH = pd.read_excel('stock data\\HAH Historical Data.xlsx')\n",
    "HAI = pd.read_excel('stock data\\HAI Historical Data.xlsx')\n",
    "HAP = pd.read_excel('stock data\\HAP Historical Data.xlsx')\n",
    "HAR = pd.read_excel('stock data\\HAR Historical Data.xlsx')\n",
    "HAS = pd.read_excel('stock data\\HAS Historical Data.xlsx')\n",
    "HAX = pd.read_excel('stock data\\HAX Historical Data.xlsx')\n",
    "HBC = pd.read_excel('stock data\\HBC Historical Data.xlsx')\n",
    "HCD = pd.read_excel('stock data\\HCD Historical Data.xlsx')\n",
    "HCM = pd.read_excel('stock data\\HCM Historical Data.xlsx')\n",
    "HDB = pd.read_excel('stock data\\HDB Historical Data.xlsx')\n",
    "HDC = pd.read_excel('stock data\\HDC Historical Data.xlsx')\n",
    "HDG = pd.read_excel('stock data\\HDG Historical Data.xlsx')\n",
    "HHP = pd.read_excel('stock data\\HHP Historical Data.xlsx')\n",
    "HHS = pd.read_excel('stock data\\HHS Historical Data.xlsx')\n",
    "HID = pd.read_excel('stock data\\HID Historical Data.xlsx')\n",
    "HII = pd.read_excel('stock data\\HII Historical Data.xlsx')\n",
    "HMC = pd.read_excel('stock data\\HMC Historical Data.xlsx')\n",
    "HNG = pd.read_excel('stock data\\HNG Historical Data.xlsx')\n",
    "HOT = pd.read_excel('stock data\\HOT Historical Data.xlsx')\n",
    "HPG = pd.read_excel('stock data\\HPG Historical Data.xlsx')\n",
    "HPX = pd.read_excel('stock data\\HPX Historical Data.xlsx')\n",
    "HQC = pd.read_excel('stock data\\HQC Historical Data.xlsx')\n",
    "HRC = pd.read_excel('stock data\\HRC Historical Data.xlsx')\n",
    "HSG = pd.read_excel('stock data\\HSG Historical Data.xlsx')\n",
    "HSL = pd.read_excel('stock data\\HSL Historical Data.xlsx')\n",
    "HT1 = pd.read_excel('stock data\\HT1 Historical Data.xlsx')\n",
    "HTI = pd.read_excel('stock data\\HTI Historical Data.xlsx')\n",
    "HTL = pd.read_excel('stock data\\HTL Historical Data.xlsx')\n",
    "HTN = pd.read_excel('stock data\\HTN Historical Data.xlsx')\n",
    "HTV = pd.read_excel('stock data\\HTV Historical Data.xlsx')\n",
    "HU1 = pd.read_excel('stock data\\HU1 Historical Data.xlsx')\n",
    "HU3 = pd.read_excel('stock data\\HU3 Historical Data.xlsx')\n",
    "HUB = pd.read_excel('stock data\\HUB Historical Data.xlsx')\n",
    "HVH = pd.read_excel('stock data\\HVH Historical Data.xlsx')\n",
    "HVX = pd.read_excel('stock data\\HVX Historical Data.xlsx')\n",
    "IBC = pd.read_excel('stock data\\IBC Historical Data.xlsx')\n",
    "ICT = pd.read_excel('stock data\\ICT Historical Data.xlsx')\n",
    "IDI = pd.read_excel('stock data\\IDI Historical Data.xlsx')\n",
    "IJC = pd.read_excel('stock data\\IJC Historical Data.xlsx')\n",
    "ILB = pd.read_excel('stock data\\ILB Historical Data.xlsx')\n",
    "IMP = pd.read_excel('stock data\\IMP Historical Data.xlsx')\n",
    "ITA = pd.read_excel('stock data\\ITA Historical Data.xlsx')\n",
    "ITC = pd.read_excel('stock data\\ITC Historical Data.xlsx')\n",
    "ITD = pd.read_excel('stock data\\ITD Historical Data.xlsx')\n",
    "JVC = pd.read_excel('stock data\\JVC Historical Data.xlsx')\n",
    "KBC = pd.read_excel('stock data\\KBC Historical Data.xlsx')\n",
    "KDC = pd.read_excel('stock data\\KDC Historical Data.xlsx')\n",
    "KHG = pd.read_excel('stock data\\KHG Historical Data.xlsx')\n",
    "KHP = pd.read_excel('stock data\\KHP Historical Data.xlsx')\n",
    "KMR = pd.read_excel('stock data\\KMR Historical Data.xlsx')\n",
    "KOS = pd.read_excel('stock data\\KOS Historical Data.xlsx')\n",
    "KPF = pd.read_excel('stock data\\KPF Historical Data.xlsx')\n",
    "KSB = pd.read_excel('stock data\\KSB Historical Data.xlsx')\n",
    "L10 = pd.read_excel('stock data\\L10 Historical Data.xlsx')\n",
    "LAF = pd.read_excel('stock data\\LAF Historical Data.xlsx')\n",
    "LBM = pd.read_excel('stock data\\LBM Historical Data.xlsx')\n",
    "LCG = pd.read_excel('stock data\\LCG Historical Data.xlsx')\n",
    "LDG = pd.read_excel('stock data\\LDG Historical Data.xlsx')\n",
    "LGL = pd.read_excel('stock data\\LGL Historical Data.xlsx')\n",
    "LHG = pd.read_excel('stock data\\LHG Historical Data.xlsx')\n",
    "LIX = pd.read_excel('stock data\\LIX Historical Data.xlsx')\n",
    "LM8 = pd.read_excel('stock data\\LM8 Historical Data.xlsx')\n",
    "LPB = pd.read_excel('stock data\\LPB Historical Data.xlsx')\n",
    "LSS = pd.read_excel('stock data\\LSS Historical Data.xlsx')\n",
    "MBB = pd.read_excel('stock data\\MBB Historical Data.xlsx')\n",
    "MCG = pd.read_excel('stock data\\MCG Historical Data.xlsx')\n",
    "MCP = pd.read_excel('stock data\\MCP Historical Data.xlsx')\n",
    "MDG = pd.read_excel('stock data\\MDG Historical Data.xlsx')\n",
    "MHC = pd.read_excel('stock data\\MHC Historical Data.xlsx')\n",
    "MIG = pd.read_excel('stock data\\MIG Historical Data.xlsx')\n",
    "MSB = pd.read_excel('stock data\\MSB Historical Data.xlsx')\n",
    "MSH = pd.read_excel('stock data\\MSH Historical Data.xlsx')\n",
    "MSN = pd.read_excel('stock data\\MSN Historical Data.xlsx')\n",
    "MWG = pd.read_excel('stock data\\MWG Historical Data.xlsx')\n",
    "NAF = pd.read_excel('stock data\\\\NAF Historical Data.xlsx')\n",
    "NAV = pd.read_excel('stock data\\\\NAV Historical Data.xlsx')\n",
    "NCT = pd.read_excel('stock data\\\\NCT Historical Data.xlsx')\n",
    "NHA = pd.read_excel('stock data\\\\NHA Historical Data.xlsx')\n",
    "NHH = pd.read_excel('stock data\\\\NHH Historical Data.xlsx')\n",
    "NHT = pd.read_excel('stock data\\\\NHT Historical Data.xlsx')\n",
    "NKG = pd.read_excel('stock data\\\\NKG Historical Data.xlsx')\n",
    "NLG = pd.read_excel('stock data\\\\NLG Historical Data.xlsx')\n",
    "NNC = pd.read_excel('stock data\\\\NNC Historical Data.xlsx')\n",
    "NSC = pd.read_excel('stock data\\\\NSC Historical Data.xlsx')\n",
    "NT2 = pd.read_excel('stock data\\\\NT2 Historical Data.xlsx')\n",
    "NTL = pd.read_excel('stock data\\\\NTL Historical Data.xlsx')\n",
    "NVL = pd.read_excel('stock data\\\\NVL Historical Data.xlsx')\n",
    "NVT = pd.read_excel('stock data\\\\NVT Historical Data.xlsx')\n",
    "OCB = pd.read_excel('stock data\\OCB Historical Data.xlsx')\n",
    "OGC = pd.read_excel('stock data\\OGC Historical Data.xlsx')\n",
    "OPC = pd.read_excel('stock data\\OPC Historical Data.xlsx')\n",
    "ORS = pd.read_excel('stock data\\ORS Historical Data.xlsx')\n",
    "PAC = pd.read_excel('stock data\\PAC Historical Data.xlsx')\n",
    "PAN = pd.read_excel('stock data\\PAN Historical Data.xlsx')\n",
    "PC1 = pd.read_excel('stock data\\PC1 Historical Data.xlsx')\n",
    "PDN = pd.read_excel('stock data\\PDN Historical Data.xlsx')\n",
    "PDR = pd.read_excel('stock data\\PDR Historical Data.xlsx')\n",
    "PET = pd.read_excel('stock data\\PET Historical Data.xlsx')\n",
    "PGC = pd.read_excel('stock data\\PGC Historical Data.xlsx')\n",
    "PGD = pd.read_excel('stock data\\PGD Historical Data.xlsx')\n",
    "PGI = pd.read_excel('stock data\\PGI Historical Data.xlsx')\n",
    "PGV = pd.read_excel('stock data\\PGV Historical Data.xlsx')\n",
    "PHC = pd.read_excel('stock data\\PHC Historical Data.xlsx')\n",
    "PHR = pd.read_excel('stock data\\PHR Historical Data.xlsx')\n",
    "PIT = pd.read_excel('stock data\\PIT Historical Data.xlsx')\n",
    "PJT = pd.read_excel('stock data\\PJT Historical Data.xlsx')\n",
    "PLP = pd.read_excel('stock data\\PLP Historical Data.xlsx')\n",
    "PLX = pd.read_excel('stock data\\PLX Historical Data.xlsx')\n",
    "PMG = pd.read_excel('stock data\\PMG Historical Data.xlsx')\n",
    "PNC = pd.read_excel('stock data\\PNC Historical Data.xlsx')\n",
    "PNJ = pd.read_excel('stock data\\PNJ Historical Data.xlsx')\n",
    "POM = pd.read_excel('stock data\\POM Historical Data.xlsx')\n",
    "POW = pd.read_excel('stock data\\POW Historical Data.xlsx')\n",
    "PPC = pd.read_excel('stock data\\PPC Historical Data.xlsx')\n",
    "PSH = pd.read_excel('stock data\\PSH Historical Data.xlsx')\n",
    "PTB = pd.read_excel('stock data\\PTB Historical Data.xlsx')\n",
    "PTC = pd.read_excel('stock data\\PTC Historical Data.xlsx')\n",
    "PTL = pd.read_excel('stock data\\PTL Historical Data.xlsx')\n",
    "PVD = pd.read_excel('stock data\\PVD Historical Data.xlsx')\n",
    "PVT = pd.read_excel('stock data\\PVT Historical Data.xlsx')\n",
    "QBS = pd.read_excel('stock data\\QBS Historical Data.xlsx')\n",
    "QCG = pd.read_excel('stock data\\QCG Historical Data.xlsx')\n",
    "RAL = pd.read_excel('stock data\\RAL Historical Data.xlsx')\n",
    "RDP = pd.read_excel('stock data\\RDP Historical Data.xlsx')\n",
    "REE = pd.read_excel('stock data\\REE Historical Data.xlsx')\n",
    "S4A = pd.read_excel('stock data\\S4A Historical Data.xlsx')\n",
    "SAB = pd.read_excel('stock data\\SAB Historical Data.xlsx')\n",
    "SAM = pd.read_excel('stock data\\SAM Historical Data.xlsx')\n",
    "SAV = pd.read_excel('stock data\\SAV Historical Data.xlsx')\n",
    "SBA = pd.read_excel('stock data\\SBA Historical Data.xlsx')\n",
    "SBT = pd.read_excel('stock data\\SBT Historical Data.xlsx')\n",
    "SBV = pd.read_excel('stock data\\SBV Historical Data.xlsx')\n",
    "SC5 = pd.read_excel('stock data\\SC5 Historical Data.xlsx')\n",
    "SCD = pd.read_excel('stock data\\SCD Historical Data.xlsx')\n",
    "SCR = pd.read_excel('stock data\\SCR Historical Data.xlsx')\n",
    "SCS = pd.read_excel('stock data\\SCS Historical Data.xlsx')\n",
    "SFC = pd.read_excel('stock data\\SFC Historical Data.xlsx')\n",
    "SFG = pd.read_excel('stock data\\SFG Historical Data.xlsx')\n",
    "SFI = pd.read_excel('stock data\\SFI Historical Data.xlsx')\n",
    "SGN = pd.read_excel('stock data\\SGN Historical Data.xlsx')\n",
    "SGR = pd.read_excel('stock data\\SGR Historical Data.xlsx')\n",
    "SGT = pd.read_excel('stock data\\SGT Historical Data.xlsx')\n",
    "SHA = pd.read_excel('stock data\\SHA Historical Data.xlsx')\n",
    "SHB = pd.read_excel('stock data\\SHB Historical Data.xlsx')\n",
    "SHI = pd.read_excel('stock data\\SHI Historical Data.xlsx')\n",
    "SHP = pd.read_excel('stock data\\SHP Historical Data.xlsx')\n",
    "SII = pd.read_excel('stock data\\SII Historical Data.xlsx')\n",
    "SJD = pd.read_excel('stock data\\SJD Historical Data.xlsx')\n",
    "SJF = pd.read_excel('stock data\\SJF Historical Data.xlsx')\n",
    "SJS = pd.read_excel('stock data\\SJS Historical Data.xlsx')\n",
    "SKG = pd.read_excel('stock data\\SKG Historical Data.xlsx')\n",
    "SMA = pd.read_excel('stock data\\SMA Historical Data.xlsx')\n",
    "SMB = pd.read_excel('stock data\\SMB Historical Data.xlsx')\n",
    "SMC = pd.read_excel('stock data\\SMC Historical Data.xlsx')\n",
    "SPM = pd.read_excel('stock data\\SPM Historical Data.xlsx')\n",
    "SRC = pd.read_excel('stock data\\SRC Historical Data.xlsx')\n",
    "SRF = pd.read_excel('stock data\\SRF Historical Data.xlsx')\n",
    "SSB = pd.read_excel('stock data\\SSB Historical Data.xlsx')\n",
    "SSC = pd.read_excel('stock data\\SSC Historical Data.xlsx')\n",
    "SSI = pd.read_excel('stock data\\SSI Historical Data.xlsx')\n",
    "ST8 = pd.read_excel('stock data\\ST8 Historical Data.xlsx')\n",
    "STG = pd.read_excel('stock data\\STG Historical Data.xlsx')\n",
    "STK = pd.read_excel('stock data\\STK Historical Data.xlsx')\n",
    "SVC = pd.read_excel('stock data\\SVC Historical Data.xlsx')\n",
    "SVD = pd.read_excel('stock data\\SVD Historical Data.xlsx')\n",
    "SVI = pd.read_excel('stock data\\SVI Historical Data.xlsx')\n",
    "SVT = pd.read_excel('stock data\\SVT Historical Data.xlsx')\n",
    "SZC = pd.read_excel('stock data\\SZC Historical Data.xlsx')\n",
    "SZL = pd.read_excel('stock data\\SZL Historical Data.xlsx')\n",
    "TBC = pd.read_excel('stock data\\TBC Historical Data.xlsx')\n",
    "TCB = pd.read_excel('stock data\\TCB Historical Data.xlsx')\n",
    "TCD = pd.read_excel('stock data\\TCD Historical Data.xlsx')\n",
    "TCH = pd.read_excel('stock data\\TCH Historical Data.xlsx')\n",
    "TCL = pd.read_excel('stock data\\TCL Historical Data.xlsx')\n",
    "TCM = pd.read_excel('stock data\\TCM Historical Data.xlsx')\n",
    "TCO = pd.read_excel('stock data\\TCO Historical Data.xlsx')\n",
    "TCR = pd.read_excel('stock data\\TCR Historical Data.xlsx')\n",
    "TCT = pd.read_excel('stock data\\TCT Historical Data.xlsx')\n",
    "TDC = pd.read_excel('stock data\\TDC Historical Data.xlsx')\n",
    "TDG = pd.read_excel('stock data\\TDG Historical Data.xlsx')\n",
    "TDH = pd.read_excel('stock data\\TDH Historical Data.xlsx')\n",
    "TDM = pd.read_excel('stock data\\TDM Historical Data.xlsx')\n",
    "TDP = pd.read_excel('stock data\\TDP Historical Data.xlsx')\n",
    "TDW = pd.read_excel('stock data\\TDW Historical Data.xlsx')\n",
    "TEG = pd.read_excel('stock data\\TEG Historical Data.xlsx')\n",
    "TGG = pd.read_excel('stock data\\TGG Historical Data.xlsx')\n",
    "THG = pd.read_excel('stock data\\THG Historical Data.xlsx')\n",
    "THI = pd.read_excel('stock data\\THI Historical Data.xlsx')\n",
    "TIP = pd.read_excel('stock data\\TIP Historical Data.xlsx')\n",
    "TIX = pd.read_excel('stock data\\TIX Historical Data.xlsx')\n",
    "TLD = pd.read_excel('stock data\\TLD Historical Data.xlsx')\n",
    "TLG = pd.read_excel('stock data\\TLG Historical Data.xlsx')\n",
    "TLH = pd.read_excel('stock data\\TLH Historical Data.xlsx')\n",
    "TMP = pd.read_excel('stock data\\TMP Historical Data.xlsx')\n",
    "TMS = pd.read_excel('stock data\\TMS Historical Data.xlsx')\n",
    "TMT = pd.read_excel('stock data\\TMT Historical Data.xlsx')\n",
    "TN1 = pd.read_excel('stock data\\TN1 Historical Data.xlsx')\n",
    "TNA = pd.read_excel('stock data\\TNA Historical Data.xlsx')\n",
    "TNC = pd.read_excel('stock data\\TNC Historical Data.xlsx')\n",
    "TNH = pd.read_excel('stock data\\TNH Historical Data.xlsx')\n",
    "TNI = pd.read_excel('stock data\\TNI Historical Data.xlsx')\n",
    "TNT = pd.read_excel('stock data\\TNT Historical Data.xlsx')\n",
    "TPB = pd.read_excel('stock data\\TPB Historical Data.xlsx')\n",
    "TPC = pd.read_excel('stock data\\TPC Historical Data.xlsx')\n",
    "TRA = pd.read_excel('stock data\\TRA Historical Data.xlsx')\n",
    "TRC = pd.read_excel('stock data\\TRC Historical Data.xlsx')\n",
    "TSC = pd.read_excel('stock data\\TSC Historical Data.xlsx')\n",
    "TTA = pd.read_excel('stock data\\TTA Historical Data.xlsx')\n",
    "TTB = pd.read_excel('stock data\\TTB Historical Data.xlsx')\n",
    "VJC = pd.read_excel('stock data\\VJC Historical Data.xlsx')\n",
    "VMD = pd.read_excel('stock data\\VMD Historical Data.xlsx')\n",
    "VND = pd.read_excel('stock data\\VND Historical Data.xlsx')\n",
    "VNE = pd.read_excel('stock data\\VNE Historical Data.xlsx')\n",
    "VNG = pd.read_excel('stock data\\VNG Historical Data.xlsx')\n",
    "VNL = pd.read_excel('stock data\\VNL Historical Data.xlsx')\n",
    "VNM = pd.read_excel('stock data\\VNM Historical Data.xlsx')\n",
    "VNS = pd.read_excel('stock data\\VNS Historical Data.xlsx')\n",
    "VOS = pd.read_excel('stock data\\VOS Historical Data.xlsx')\n",
    "VPB = pd.read_excel('stock data\\VPB Historical Data.xlsx')\n",
    "VPD = pd.read_excel('stock data\\VPD Historical Data.xlsx')\n",
    "VPH = pd.read_excel('stock data\\VPH Historical Data.xlsx')\n",
    "VPI = pd.read_excel('stock data\\VPI Historical Data.xlsx')\n",
    "VPS = pd.read_excel('stock data\\VPS Historical Data.xlsx')\n",
    "VRC = pd.read_excel('stock data\\VRC Historical Data.xlsx')\n",
    "VRE = pd.read_excel('stock data\\VRE Historical Data.xlsx')\n",
    "VSC = pd.read_excel('stock data\\VSC Historical Data.xlsx')\n",
    "VSH = pd.read_excel('stock data\\VSH Historical Data.xlsx')\n",
    "VSI = pd.read_excel('stock data\\VSI Historical Data.xlsx')\n",
    "VTB = pd.read_excel('stock data\\VTB Historical Data.xlsx')\n",
    "VTO = pd.read_excel('stock data\\VTO Historical Data.xlsx')\n",
    "YBM = pd.read_excel('stock data\\YBM Historical Data.xlsx')\n",
    "YEG = pd.read_excel('stock data\\YEG Historical Data.xlsx')\n",
    "VNINDEX = pd.read_excel('VNINDEX Historical Data_excel.xlsx')"
   ]
  },
  {
   "cell_type": "code",
   "execution_count": 71,
   "metadata": {},
   "outputs": [
    {
     "data": {
      "text/html": [
       "<div>\n",
       "<style scoped>\n",
       "    .dataframe tbody tr th:only-of-type {\n",
       "        vertical-align: middle;\n",
       "    }\n",
       "\n",
       "    .dataframe tbody tr th {\n",
       "        vertical-align: top;\n",
       "    }\n",
       "\n",
       "    .dataframe thead tr th {\n",
       "        text-align: left;\n",
       "    }\n",
       "</style>\n",
       "<table border=\"1\" class=\"dataframe\">\n",
       "  <thead>\n",
       "    <tr>\n",
       "      <th></th>\n",
       "      <th colspan=\"7\" halign=\"left\">AAA</th>\n",
       "      <th colspan=\"3\" halign=\"left\">AAM</th>\n",
       "      <th>...</th>\n",
       "      <th colspan=\"3\" halign=\"left\">VTO</th>\n",
       "      <th colspan=\"7\" halign=\"left\">YBM</th>\n",
       "    </tr>\n",
       "    <tr>\n",
       "      <th></th>\n",
       "      <th>Date</th>\n",
       "      <th>Price</th>\n",
       "      <th>Open</th>\n",
       "      <th>High</th>\n",
       "      <th>Low</th>\n",
       "      <th>Vol.</th>\n",
       "      <th>Change %</th>\n",
       "      <th>Date</th>\n",
       "      <th>Price</th>\n",
       "      <th>Open</th>\n",
       "      <th>...</th>\n",
       "      <th>Low</th>\n",
       "      <th>Vol.</th>\n",
       "      <th>Change %</th>\n",
       "      <th>Date</th>\n",
       "      <th>Price</th>\n",
       "      <th>Open</th>\n",
       "      <th>High</th>\n",
       "      <th>Low</th>\n",
       "      <th>Vol.</th>\n",
       "      <th>Change %</th>\n",
       "    </tr>\n",
       "  </thead>\n",
       "  <tbody>\n",
       "    <tr>\n",
       "      <th>0</th>\n",
       "      <td>2021-07-01</td>\n",
       "      <td>17184</td>\n",
       "      <td>17228</td>\n",
       "      <td>17360</td>\n",
       "      <td>16698</td>\n",
       "      <td>11.87M</td>\n",
       "      <td>-0.0026</td>\n",
       "      <td>2021-07-01</td>\n",
       "      <td>11100.0</td>\n",
       "      <td>10700.0</td>\n",
       "      <td>...</td>\n",
       "      <td>8957.6</td>\n",
       "      <td>657.80K</td>\n",
       "      <td>-0.0376</td>\n",
       "      <td>2021-07-01</td>\n",
       "      <td>6829.6</td>\n",
       "      <td>6877.1</td>\n",
       "      <td>6877.1</td>\n",
       "      <td>6810.7</td>\n",
       "      <td>13.60K</td>\n",
       "      <td>0.0014</td>\n",
       "    </tr>\n",
       "    <tr>\n",
       "      <th>1</th>\n",
       "      <td>2021-07-02</td>\n",
       "      <td>16477</td>\n",
       "      <td>17051</td>\n",
       "      <td>17051</td>\n",
       "      <td>16389</td>\n",
       "      <td>18.94M</td>\n",
       "      <td>-0.0411</td>\n",
       "      <td>2021-07-02</td>\n",
       "      <td>10700.0</td>\n",
       "      <td>11100.0</td>\n",
       "      <td>...</td>\n",
       "      <td>9013.3</td>\n",
       "      <td>545.40K</td>\n",
       "      <td>0.0700</td>\n",
       "      <td>2021-07-02</td>\n",
       "      <td>6829.6</td>\n",
       "      <td>6877.1</td>\n",
       "      <td>6877.1</td>\n",
       "      <td>6791.7</td>\n",
       "      <td>16.60K</td>\n",
       "      <td>0.0000</td>\n",
       "    </tr>\n",
       "    <tr>\n",
       "      <th>2</th>\n",
       "      <td>2021-07-05</td>\n",
       "      <td>16389</td>\n",
       "      <td>16433</td>\n",
       "      <td>16786</td>\n",
       "      <td>15947</td>\n",
       "      <td>7.77M</td>\n",
       "      <td>-0.0053</td>\n",
       "      <td>2021-07-05</td>\n",
       "      <td>11000.0</td>\n",
       "      <td>10700.0</td>\n",
       "      <td>...</td>\n",
       "      <td>8985.5</td>\n",
       "      <td>436.50K</td>\n",
       "      <td>-0.0385</td>\n",
       "      <td>2021-07-05</td>\n",
       "      <td>6820.1</td>\n",
       "      <td>6829.6</td>\n",
       "      <td>6829.6</td>\n",
       "      <td>6658.9</td>\n",
       "      <td>27.30K</td>\n",
       "      <td>-0.0014</td>\n",
       "    </tr>\n",
       "    <tr>\n",
       "      <th>3</th>\n",
       "      <td>2021-07-06</td>\n",
       "      <td>15284</td>\n",
       "      <td>16389</td>\n",
       "      <td>16875</td>\n",
       "      <td>15284</td>\n",
       "      <td>7.46M</td>\n",
       "      <td>-0.0674</td>\n",
       "      <td>2021-07-06</td>\n",
       "      <td>10900.0</td>\n",
       "      <td>11000.0</td>\n",
       "      <td>...</td>\n",
       "      <td>8818.4</td>\n",
       "      <td>347.50K</td>\n",
       "      <td>-0.0500</td>\n",
       "      <td>2021-07-06</td>\n",
       "      <td>6734.8</td>\n",
       "      <td>6820.1</td>\n",
       "      <td>6820.1</td>\n",
       "      <td>6734.8</td>\n",
       "      <td>14.40K</td>\n",
       "      <td>-0.0125</td>\n",
       "    </tr>\n",
       "    <tr>\n",
       "      <th>4</th>\n",
       "      <td>2021-07-07</td>\n",
       "      <td>15284</td>\n",
       "      <td>15108</td>\n",
       "      <td>15461</td>\n",
       "      <td>14622</td>\n",
       "      <td>9.24M</td>\n",
       "      <td>0.0000</td>\n",
       "      <td>2021-07-07</td>\n",
       "      <td>10900.0</td>\n",
       "      <td>10300.0</td>\n",
       "      <td>...</td>\n",
       "      <td>8307.8</td>\n",
       "      <td>427.30K</td>\n",
       "      <td>-0.0316</td>\n",
       "      <td>2021-07-07</td>\n",
       "      <td>6639.9</td>\n",
       "      <td>6734.8</td>\n",
       "      <td>6734.8</td>\n",
       "      <td>6545.1</td>\n",
       "      <td>7.10K</td>\n",
       "      <td>-0.0141</td>\n",
       "    </tr>\n",
       "    <tr>\n",
       "      <th>...</th>\n",
       "      <td>...</td>\n",
       "      <td>...</td>\n",
       "      <td>...</td>\n",
       "      <td>...</td>\n",
       "      <td>...</td>\n",
       "      <td>...</td>\n",
       "      <td>...</td>\n",
       "      <td>...</td>\n",
       "      <td>...</td>\n",
       "      <td>...</td>\n",
       "      <td>...</td>\n",
       "      <td>...</td>\n",
       "      <td>...</td>\n",
       "      <td>...</td>\n",
       "      <td>...</td>\n",
       "      <td>...</td>\n",
       "      <td>...</td>\n",
       "      <td>...</td>\n",
       "      <td>...</td>\n",
       "      <td>...</td>\n",
       "      <td>...</td>\n",
       "    </tr>\n",
       "    <tr>\n",
       "      <th>125</th>\n",
       "      <td>2021-12-27</td>\n",
       "      <td>21900</td>\n",
       "      <td>21350</td>\n",
       "      <td>22250</td>\n",
       "      <td>21050</td>\n",
       "      <td>8.67M</td>\n",
       "      <td>0.0258</td>\n",
       "      <td>2021-12-28</td>\n",
       "      <td>12400.0</td>\n",
       "      <td>12600.0</td>\n",
       "      <td>...</td>\n",
       "      <td>11603.1</td>\n",
       "      <td>322.20K</td>\n",
       "      <td>-0.0079</td>\n",
       "      <td>2021-12-27</td>\n",
       "      <td>9400.0</td>\n",
       "      <td>9500.0</td>\n",
       "      <td>9500.0</td>\n",
       "      <td>9360.0</td>\n",
       "      <td>14.30K</td>\n",
       "      <td>-0.0105</td>\n",
       "    </tr>\n",
       "    <tr>\n",
       "      <th>126</th>\n",
       "      <td>2021-12-28</td>\n",
       "      <td>21300</td>\n",
       "      <td>22000</td>\n",
       "      <td>22250</td>\n",
       "      <td>21100</td>\n",
       "      <td>10.86M</td>\n",
       "      <td>-0.0274</td>\n",
       "      <td>2021-12-29</td>\n",
       "      <td>12350.0</td>\n",
       "      <td>11700.0</td>\n",
       "      <td>...</td>\n",
       "      <td>11556.7</td>\n",
       "      <td>511.70K</td>\n",
       "      <td>0.0080</td>\n",
       "      <td>2021-12-28</td>\n",
       "      <td>9420.0</td>\n",
       "      <td>9400.0</td>\n",
       "      <td>9500.0</td>\n",
       "      <td>9250.0</td>\n",
       "      <td>30.00K</td>\n",
       "      <td>0.0021</td>\n",
       "    </tr>\n",
       "    <tr>\n",
       "      <th>127</th>\n",
       "      <td>2021-12-29</td>\n",
       "      <td>21550</td>\n",
       "      <td>21300</td>\n",
       "      <td>21800</td>\n",
       "      <td>21050</td>\n",
       "      <td>7.50M</td>\n",
       "      <td>0.0117</td>\n",
       "      <td>2021-12-30</td>\n",
       "      <td>12550.0</td>\n",
       "      <td>12500.0</td>\n",
       "      <td>...</td>\n",
       "      <td>11696.0</td>\n",
       "      <td>794.70K</td>\n",
       "      <td>0.0277</td>\n",
       "      <td>2021-12-29</td>\n",
       "      <td>9420.0</td>\n",
       "      <td>9420.0</td>\n",
       "      <td>9450.0</td>\n",
       "      <td>9300.0</td>\n",
       "      <td>46.70K</td>\n",
       "      <td>0.0000</td>\n",
       "    </tr>\n",
       "    <tr>\n",
       "      <th>128</th>\n",
       "      <td>2021-12-30</td>\n",
       "      <td>21000</td>\n",
       "      <td>21700</td>\n",
       "      <td>21850</td>\n",
       "      <td>21000</td>\n",
       "      <td>5.19M</td>\n",
       "      <td>-0.0255</td>\n",
       "      <td>2021-12-31</td>\n",
       "      <td>12600.0</td>\n",
       "      <td>13300.0</td>\n",
       "      <td>...</td>\n",
       "      <td>11835.2</td>\n",
       "      <td>432.50K</td>\n",
       "      <td>-0.0154</td>\n",
       "      <td>2021-12-30</td>\n",
       "      <td>9440.0</td>\n",
       "      <td>9320.0</td>\n",
       "      <td>9440.0</td>\n",
       "      <td>9300.0</td>\n",
       "      <td>27.20K</td>\n",
       "      <td>0.0021</td>\n",
       "    </tr>\n",
       "    <tr>\n",
       "      <th>129</th>\n",
       "      <td>2021-12-31</td>\n",
       "      <td>20200</td>\n",
       "      <td>21000</td>\n",
       "      <td>21250</td>\n",
       "      <td>20000</td>\n",
       "      <td>10.38M</td>\n",
       "      <td>-0.0381</td>\n",
       "      <td>NaT</td>\n",
       "      <td>NaN</td>\n",
       "      <td>NaN</td>\n",
       "      <td>...</td>\n",
       "      <td>11696.0</td>\n",
       "      <td>444.90K</td>\n",
       "      <td>0.0078</td>\n",
       "      <td>2021-12-31</td>\n",
       "      <td>9390.0</td>\n",
       "      <td>9440.0</td>\n",
       "      <td>9500.0</td>\n",
       "      <td>9390.0</td>\n",
       "      <td>19.60K</td>\n",
       "      <td>-0.0053</td>\n",
       "    </tr>\n",
       "  </tbody>\n",
       "</table>\n",
       "<p>130 rows × 2471 columns</p>\n",
       "</div>"
      ],
      "text/plain": [
       "           AAA                                                     AAM  \\\n",
       "          Date  Price   Open   High    Low    Vol. Change %       Date   \n",
       "0   2021-07-01  17184  17228  17360  16698  11.87M  -0.0026 2021-07-01   \n",
       "1   2021-07-02  16477  17051  17051  16389  18.94M  -0.0411 2021-07-02   \n",
       "2   2021-07-05  16389  16433  16786  15947   7.77M  -0.0053 2021-07-05   \n",
       "3   2021-07-06  15284  16389  16875  15284   7.46M  -0.0674 2021-07-06   \n",
       "4   2021-07-07  15284  15108  15461  14622   9.24M   0.0000 2021-07-07   \n",
       "..         ...    ...    ...    ...    ...     ...      ...        ...   \n",
       "125 2021-12-27  21900  21350  22250  21050   8.67M   0.0258 2021-12-28   \n",
       "126 2021-12-28  21300  22000  22250  21100  10.86M  -0.0274 2021-12-29   \n",
       "127 2021-12-29  21550  21300  21800  21050   7.50M   0.0117 2021-12-30   \n",
       "128 2021-12-30  21000  21700  21850  21000   5.19M  -0.0255 2021-12-31   \n",
       "129 2021-12-31  20200  21000  21250  20000  10.38M  -0.0381        NaT   \n",
       "\n",
       "                       ...      VTO                          YBM          \\\n",
       "       Price     Open  ...      Low     Vol. Change %       Date   Price   \n",
       "0    11100.0  10700.0  ...   8957.6  657.80K  -0.0376 2021-07-01  6829.6   \n",
       "1    10700.0  11100.0  ...   9013.3  545.40K   0.0700 2021-07-02  6829.6   \n",
       "2    11000.0  10700.0  ...   8985.5  436.50K  -0.0385 2021-07-05  6820.1   \n",
       "3    10900.0  11000.0  ...   8818.4  347.50K  -0.0500 2021-07-06  6734.8   \n",
       "4    10900.0  10300.0  ...   8307.8  427.30K  -0.0316 2021-07-07  6639.9   \n",
       "..       ...      ...  ...      ...      ...      ...        ...     ...   \n",
       "125  12400.0  12600.0  ...  11603.1  322.20K  -0.0079 2021-12-27  9400.0   \n",
       "126  12350.0  11700.0  ...  11556.7  511.70K   0.0080 2021-12-28  9420.0   \n",
       "127  12550.0  12500.0  ...  11696.0  794.70K   0.0277 2021-12-29  9420.0   \n",
       "128  12600.0  13300.0  ...  11835.2  432.50K  -0.0154 2021-12-30  9440.0   \n",
       "129      NaN      NaN  ...  11696.0  444.90K   0.0078 2021-12-31  9390.0   \n",
       "\n",
       "                                              \n",
       "       Open    High     Low    Vol. Change %  \n",
       "0    6877.1  6877.1  6810.7  13.60K   0.0014  \n",
       "1    6877.1  6877.1  6791.7  16.60K   0.0000  \n",
       "2    6829.6  6829.6  6658.9  27.30K  -0.0014  \n",
       "3    6820.1  6820.1  6734.8  14.40K  -0.0125  \n",
       "4    6734.8  6734.8  6545.1   7.10K  -0.0141  \n",
       "..      ...     ...     ...     ...      ...  \n",
       "125  9500.0  9500.0  9360.0  14.30K  -0.0105  \n",
       "126  9400.0  9500.0  9250.0  30.00K   0.0021  \n",
       "127  9420.0  9450.0  9300.0  46.70K   0.0000  \n",
       "128  9320.0  9440.0  9300.0  27.20K   0.0021  \n",
       "129  9440.0  9500.0  9390.0  19.60K  -0.0053  \n",
       "\n",
       "[130 rows x 2471 columns]"
      ]
     },
     "execution_count": 71,
     "metadata": {},
     "output_type": "execute_result"
    }
   ],
   "source": [
    "stocks = pd.concat([AAA, AAM, AAT, ABR, ABS, ABT, ACB, ACC, ACL, ADG, ADS, AGG, AGM, AGR, AMD, ANV, APC, APG, APH, ASG, ASM, ASP, AST, BAF, \n",
    "BBC, BCE, BCG, BCM, BFC, BHN, BIC, BID, BKG, BMC, BMI, BMP, BRC, BSI, BTP, BTT, BVH, BWE, C32, C47, CAV, CCI, CCL, CDC, CHP, CIG, CII, CKG,\n",
    "CLC, CLL, CLW, CMG, CMV, CMX, CNG, COM, CRC, CRE, CSM, CSV, CTD, CTF, CTG, CTI, CTR, CVT, D2D, DAG, DAH, DAT, DBC, DBT, DC4, DCL, DCM, DGC,\n",
    "DGW, DHA, DHC, DHG, DHM, DIG, DLG, DMC, DPG, DQC, DRC, DRH, DRL, DSN, DTA, DTL, DTT, DVP, DXG, DXS, DXV, EIB, ELC, EMC, EVE, EVF, EVG, FMC,\n",
    "FPT, FRT, FTS, GAB, GAS, GDT, GEG, GEX, GIL, GMD, GSP, GTA, GVR, HAG, HAH, HAI, HAP, HAR, HAS, HAX, HBC, HCD, HCM, HDB, HDC, HDG, HHP, HHS,\n",
    "HID, HII, HMC, HNG, HOT, HPG, HPX, HQC, HRC, HSG, HSL, HT1, HTI, HTL, HTN, HTV, HU1, HU3, HUB, HVH, HVX, IBC, ICT, IDI, IJC, ILB, IMP, ITA,\n",
    "ITC, ITD, JVC, KBC, KDC, KHG, KHP, KMR, KOS, KPF, KSB, L10, LAF, LBM, LCG, LDG, LGL, LHG, LIX, LM8, LPB, LSS, MBB, MCG, MCP, MDG, MHC, MIG,\n",
    "MSB, MSH, MSN, MWG, NAF, NAV, NCT, NHA, NHH, NHT, NKG, NLG, NNC, NSC, NT2, NTL, NVL, NVT, OCB, OGC, OPC, ORS, PAC, PAN, PC1, PDN, PDR, PET,\n",
    "PGC, PGD, PGI, PGV, PHC, PHR, PIT, PJT, PLP, PLX, PMG, PNC, PNJ, POM, POW, PPC, PSH, PTB, PTC, PTL, PVD, PVT, QBS, QCG, RAL, RDP, REE, S4A,\n",
    "SAB, SAM, SAV, SBA, SBT, SBV, SC5, SCD, SCR, SCS, SFC, SFG, SFI, SGN, SGR, SGT, SHA, SHB, SHI, SHP, SII, SJD, SJF, SJS, SKG, SMA, SMB, SMC,\n",
    "SPM, SRC, SRF, SSB, SSC, SSI, ST8, STG, STK, SVC, SVD, SVI, SVT, SZC, SZL, TBC, TCB, TCD, TCH, TCL, TCM, TCO, TCR, TCT, TDC, TDG, TDH, TDM, \n",
    "TDP, TDW, TEG, TGG, THG, THI, TIP, TIX, TLD, TLG, TLH, TMP, TMS, TMT, TN1, TNA, TNC, TNH, TNI, TNT, TPB, TPC, TRA, TRC, TSC, TTA, TTB, VJC, \n",
    "VMD, VND, VNE, VNG, VNL, VNM, VNS, VOS, VPB, VPD, VPH, VPI, VPS, VRC, VRE, VSC, VSH, VSI, VTB, VTO, YBM],axis=1, keys = label)\n",
    "stocks"
   ]
  },
  {
   "cell_type": "code",
   "execution_count": 72,
   "metadata": {},
   "outputs": [
    {
     "name": "stdout",
     "output_type": "stream",
     "text": [
      "     Percentage change\n",
      "AAA           0.175512\n",
      "AAM           0.135135\n",
      "AAT           0.050866\n",
      "ABR           0.082251\n",
      "ABS          -0.051381\n",
      "..                 ...\n",
      "VSH           0.316504\n",
      "VSI           0.292766\n",
      "VTB           0.120651\n",
      "VTO           0.327156\n",
      "YBM           0.374898\n",
      "\n",
      "[353 rows x 1 columns]\n"
     ]
    }
   ],
   "source": [
    "array = np.array([1.1 for i in range(0,len(label))])\n",
    "i = 0\n",
    "for name in label:\n",
    "    j = len(stocks[name]['Price']) - 1\n",
    "    while(j > - 1):\n",
    "        if(np.isnan(stocks[name]['Price'][j]) == 0):\n",
    "            array[i] = (stocks[name]['Price'][j] - stocks[name]['Price'][0])/stocks[name]['Price'][0]\n",
    "            break\n",
    "        j = j - 1\n",
    "    i = i + 1\n",
    "percentage_change = pd.DataFrame(data = array, index= [name for name in label], columns= ['Percentage change'])\n",
    "print(percentage_change)"
   ]
  },
  {
   "cell_type": "code",
   "execution_count": 73,
   "metadata": {},
   "outputs": [
    {
     "name": "stdout",
     "output_type": "stream",
     "text": [
      "0.40625\n"
     ]
    }
   ],
   "source": [
    "print(percentage_change['Percentage change']['PNC'])"
   ]
  },
  {
   "cell_type": "code",
   "execution_count": 74,
   "metadata": {},
   "outputs": [
    {
     "data": {
      "application/vnd.plotly.v1+json": {
       "config": {
        "plotlyServerURL": "https://plot.ly"
       },
       "data": [
        {
         "alignmentgroup": "True",
         "hovertemplate": "index=%{x}<br>Percentage change=%{y}<extra></extra>",
         "legendgroup": "",
         "marker": {
          "color": "#636efa",
          "pattern": {
           "shape": ""
          }
         },
         "name": "",
         "offsetgroup": "",
         "orientation": "v",
         "showlegend": false,
         "textposition": "auto",
         "type": "bar",
         "x": [
          "AAA",
          "AAM",
          "AAT",
          "ABR",
          "ABS",
          "ABT",
          "ACB",
          "ACC",
          "ACL",
          "ADG",
          "ADS",
          "AGG",
          "AGM",
          "AGR",
          "AMD",
          "ANV",
          "APC",
          "APG",
          "APH",
          "ASG",
          "ASM",
          "ASP",
          "AST",
          "BAF",
          "BBC",
          "BCE",
          "BCG",
          "BCM",
          "BFC",
          "BHN",
          "BIC",
          "BID",
          "BKG",
          "BMC",
          "BMI",
          "BMP",
          "BRC",
          "BSI",
          "BTP",
          "BTT",
          "BVH",
          "BWE",
          "C32",
          "C47",
          "CAV",
          "CCI",
          "CCL",
          "CDC",
          "CHP",
          "CIG",
          "CII",
          "CKG",
          "CLC",
          "CLL",
          "CLW",
          "CMG",
          "CMV",
          "CMX",
          "CNG",
          "COM",
          "CRC",
          "CRE",
          "CSM",
          "CSV",
          "CTD",
          "CTF",
          "CTG",
          "CTI",
          "CTR",
          "CVT",
          "D2D",
          "DAG",
          "DAH",
          "DAT",
          "DBC",
          "DBT",
          "DC4",
          "DCL",
          "DCM",
          "DGC",
          "DGW",
          "DHA",
          "DHC",
          "DHG",
          "DHM",
          "DIG",
          "DLG",
          "DMC",
          "DPG",
          "DQC",
          "DRC",
          "DRH",
          "DRL",
          "DSN",
          "DTA",
          "DTL",
          "DTT",
          "DVP",
          "DXG",
          "DXS",
          "DXV",
          "EIB",
          "ELC",
          "EMC",
          "EVE",
          "EVF",
          "EVG",
          "FMC",
          "FPT",
          "FRT",
          "FTS",
          "GAB",
          "GAS",
          "GDT",
          "GEG",
          "GEX",
          "GIL",
          "GMD",
          "GSP",
          "GTA",
          "GVR",
          "HAG",
          "HAH",
          "HAI",
          "HAP",
          "HAR",
          "HAS",
          "HAX",
          "HBC",
          "HCD",
          "HCM",
          "HDB",
          "HDC",
          "HDG",
          "HHP",
          "HHS",
          "HID",
          "HII",
          "HMC",
          "HNG",
          "HOT",
          "HPG",
          "HPX",
          "HQC",
          "HRC",
          "HSG",
          "HSL",
          "HT1",
          "HTI",
          "HTL",
          "HTN",
          "HTV",
          "HU1",
          "HU3",
          "HUB",
          "HVH",
          "HVX",
          "IBC",
          "ICT",
          "IDI",
          "IJC",
          "ILB",
          "IMP",
          "ITA",
          "ITC",
          "ITD",
          "JVC",
          "KBC",
          "KDC",
          "KHG",
          "KHP",
          "KMR",
          "KOS",
          "KPF",
          "KSB",
          "L10",
          "LAF",
          "LBM",
          "LCG",
          "LDG",
          "LGL",
          "LHG",
          "LIX",
          "LM8",
          "LPB",
          "LSS",
          "MBB",
          "MCG",
          "MCP",
          "MDG",
          "MHC",
          "MIG",
          "MSB",
          "MSH",
          "MSN",
          "MWG",
          "NAF",
          "NAV",
          "NCT",
          "NHA",
          "NHH",
          "NHT",
          "NKG",
          "NLG",
          "NNC",
          "NSC",
          "NT2",
          "NTL",
          "NVL",
          "NVT",
          "OCB",
          "OGC",
          "OPC",
          "ORS",
          "PAC",
          "PAN",
          "PC1",
          "PDN",
          "PDR",
          "PET",
          "PGC",
          "PGD",
          "PGI",
          "PGV",
          "PHC",
          "PHR",
          "PIT",
          "PJT",
          "PLP",
          "PLX",
          "PMG",
          "PNC",
          "PNJ",
          "POM",
          "POW",
          "PPC",
          "PSH",
          "PTB",
          "PTC",
          "PTL",
          "PVD",
          "PVT",
          "QBS",
          "QCG",
          "RAL",
          "RDP",
          "REE",
          "S4A",
          "SAB",
          "SAM",
          "SAV",
          "SBA",
          "SBT",
          "SBV",
          "SC5",
          "SCD",
          "SCR",
          "SCS",
          "SFC",
          "SFG",
          "SFI",
          "SGN",
          "SGR",
          "SGT",
          "SHA",
          "SHB",
          "SHI",
          "SHP",
          "SII",
          "SJD",
          "SJF",
          "SJS",
          "SKG",
          "SMA",
          "SMB",
          "SMC",
          "SPM",
          "SRC",
          "SRF",
          "SSB",
          "SSC",
          "SSI",
          "ST8",
          "STG",
          "STK",
          "SVC",
          "SVD",
          "SVI",
          "SVT",
          "SZC",
          "SZL",
          "TBC",
          "TCB",
          "TCD",
          "TCH",
          "TCL",
          "TCM",
          "TCO",
          "TCR",
          "TCT",
          "TDC",
          "TDG",
          "TDH",
          "TDM",
          "TDP",
          "TDW",
          "TEG",
          "TGG",
          "THG",
          "THI",
          "TIP",
          "TIX",
          "TLD",
          "TLG",
          "TLH",
          "TMP",
          "TMS",
          "TMT",
          "TN1",
          "TNA",
          "TNC",
          "TNH",
          "TNI",
          "TNT",
          "TPB",
          "TPC",
          "TRA",
          "TRC",
          "TSC",
          "TTA",
          "TTB",
          "VJC",
          "VMD",
          "VND",
          "VNE",
          "VNG",
          "VNL",
          "VNM",
          "VNS",
          "VOS",
          "VPB",
          "VPD",
          "VPH",
          "VPI",
          "VPS",
          "VRC",
          "VRE",
          "VSC",
          "VSH",
          "VSI",
          "VTB",
          "VTO",
          "YBM"
         ],
         "xaxis": "x",
         "y": [
          0.175512104283054,
          0.13513513513513514,
          0.05086586616786339,
          0.08225108225108226,
          -0.0513809518606337,
          0.2570289855072464,
          -0.04033379694019471,
          1.2830465919141774,
          0.4549411575044333,
          0.22678906933267104,
          0.7298508687919004,
          0.0038579087128613656,
          0.20333333333333334,
          0.7288135593220338,
          0.55893536121673,
          0.026159359775169456,
          0.12280701754385964,
          1.6545828512662295,
          -0.36495726495726494,
          -0.09230769230769231,
          0.6379859842695794,
          0.8476274329317911,
          0.019305019305019305,
          0.6023888103096023,
          0.013852221244418369,
          0.6010720221365611,
          1.3255854346315747,
          0.20195729537366547,
          0.14137866616850364,
          -0.024209096853152715,
          0.38738958567175835,
          -0.008938254983357603,
          0.21495693030540317,
          0.5900689581008965,
          0.42951382923896236,
          0.01698679791751808,
          0.3550698991328968,
          0.7738210783493423,
          0.07898405770746196,
          -0.13722644913326534,
          -0.0373375507116826,
          0.2596159492630219,
          0.3632672874100878,
          1.5238904550126702,
          0.05407754515909606,
          0.45640108534780466,
          0.3082694736842106,
          0.2642857142857143,
          0.27520675908847514,
          1.3220338983050848,
          1.4356955380577427,
          1.1506301346294465,
          0.14512825094893458,
          0.021341463414634148,
          -0.06717769584061065,
          0.5544039628150313,
          0.004089669797031203,
          0.4574929598904026,
          0.32594495712684024,
          -0.0011862103052020265,
          0.3114754098360656,
          0.576777412108865,
          0.06179775280898876,
          0.5172729613418178,
          0.7152255639097744,
          0.039419726071804766,
          -0.14455937237406216,
          0.8547959724430313,
          0.22006421938731233,
          0.1206896551724138,
          0.14019838429287249,
          1.61986301369863,
          0.15458937198067632,
          -0.19229537447957176,
          0.1914587332053743,
          -0.11666666666666667,
          0.7085334091380542,
          -0.15319148936170213,
          0.7772418464317232,
          0.9338284694520261,
          0.914756306293667,
          0.28440401562413603,
          0.058999778057261226,
          0.18076773692387363,
          0.1320754716981132,
          2.7263957123715947,
          1.6590909090909092,
          0.05886093389007821,
          1.263822875231881,
          0.5848170612404617,
          0.046922779046321965,
          1.6111144502277945,
          0.15865281458319958,
          0.2540113552209331,
          1.436842105263158,
          0.30434782608695654,
          0.291044776119403,
          0.23981961365013124,
          0.2962962962962963,
          0.24333324056668618,
          0.7834394904458599,
          0.1950354609929078,
          0.6890896253204194,
          0.020588235294117647,
          0.28057661487872315,
          0.07261490923136346,
          0.8965473416649016,
          0.41303617426363537,
          0.05724734684864958,
          2.636957586976643,
          0.517755913207793,
          0.008722009497791791,
          0.021232510714402558,
          0.07123464525070722,
          0.5506413401556038,
          1.004907083465855,
          0.2467387338076993,
          0.08513615820505173,
          0.41110065851364064,
          0.17056953285984386,
          0.01511903418706984,
          1.293103448275862,
          1.112148503247297,
          0.8925233644859814,
          0.27258564036711125,
          1.6843100189035918,
          -0.08108108108108109,
          0.2320664210306779,
          1.08279306889845,
          1.3070475068708285,
          0.1176093476354579,
          0.057956104252400546,
          0.7857142857142857,
          0.8303074964828834,
          0.1875,
          0.8743591036697094,
          1,
          0.13145025520429707,
          -0.04299328193959511,
          0.13425925925925927,
          -0.05263157894736842,
          -0.12121280370767998,
          0.10360278253722582,
          1.3466666666666667,
          -0.20060331825037708,
          -0.12206478873239435,
          0.44131367501365165,
          0.46442143886777615,
          0.1561591780259648,
          0.2277522000116557,
          1.1485354150254243,
          0.11327685733563235,
          0.5333333333333333,
          0.12823499435809702,
          0.435142367962564,
          0.19069767441860466,
          0.38971779350328245,
          -0.059907834101382486,
          0.06378402852453449,
          1.3952095808383234,
          0.016728926425207083,
          0.22388164489568266,
          -0.02138308137664844,
          1.2281879194630871,
          0.7046388819885733,
          0.10389818181818185,
          1.5248756218905473,
          0.5392405063291139,
          -0.032294638285421694,
          -0.06542086426729546,
          2.4464499640603785,
          0.0784313725490196,
          0.11053540587219343,
          0.865538508588613,
          0.7182521620391443,
          0.8064516129032258,
          0.5909090909090909,
          0.4548200274006724,
          0.8267202503865992,
          1.9291553133514987,
          0.9696969696969697,
          0.21859308731048605,
          -0.108155303030303,
          0.5998037037436499,
          -0.16470588235294117,
          0.33905579399141633,
          -0.1020730024980426,
          2.3125,
          0.3237343241987924,
          0.14304387608383076,
          0.285108720531014,
          0.2891775968173059,
          0.2161284747871284,
          0.3451986163688868,
          0.5066139820218974,
          0.3518422106527833,
          -0.17206132879045996,
          0.3882874877575773,
          0.17293106868714614,
          1.7272648725572415,
          -0.29203259393390674,
          0.04491477148240656,
          0.2774701743025645,
          0.8203183534038552,
          0.07692307692307693,
          -0.011124845488257108,
          0.31809901414487785,
          0.5588843378193875,
          -0.00658275383993974,
          0.16355140186915887,
          0.10436893203883495,
          0.8566775244299675,
          0.021388303137238024,
          1.1112790477989798,
          -0.013385198428476536,
          0.41544117647058826,
          0.7852525473868741,
          0.15574786876776026,
          -0.007298232648043263,
          0.6463963963963963,
          0.36390127680371437,
          0.1516991189753461,
          0.33102151169625016,
          1.2340552829962905,
          0.18651295878501076,
          0.34130970521286,
          0.5932203389830508,
          0.127400468384075,
          0.6227324675324675,
          -0.02882882882882883,
          -0.06629834254143646,
          0.40625,
          -0.0339177486980092,
          -0.15072463768115943,
          0.47039053572628886,
          -0.02447960033305579,
          -0.08816744980777445,
          0.126288329812432,
          2.373914132323248,
          2.2061068702290076,
          0.3325798968919264,
          0.20016334173281683,
          1.7733333333333334,
          1.1091644204851752,
          -0.1109260470078117,
          0.3271604938271605,
          0.19964864100803684,
          0.06814122455157802,
          -0.0995794734275963,
          1.5245231607629428,
          0.04104412254120611,
          0.2799546348737407,
          0.2131509046258708,
          0.28464428534571723,
          0.184130511051339,
          0.03414634146341464,
          0.8247902301237852,
          0.161099874268846,
          0.0412421550248594,
          0.8979598161252003,
          0.9242730315063029,
          0.042101097429184615,
          0.4662189799394993,
          0.7031598880755208,
          0.42153299410386885,
          -0.02925300365662546,
          -0.20796556608913588,
          0.2092841512972804,
          0.028481012658227847,
          0.18518428533249126,
          2.22192513368984,
          0.3355048859934853,
          0.5374449339207048,
          0.03726082578046324,
          0.09180695038488512,
          0.027304458621586987,
          0.5846189124435623,
          0.1851661234059587,
          0.4902865253260002,
          0.28990878303574985,
          -0.12084130019120459,
          0.3150181998960008,
          0.3081403297694895,
          0.6111111111111112,
          0.48460923477021944,
          0.663358147229115,
          0.20847567156614305,
          -0.04684586155162018,
          0.19910148176691073,
          0.8043000699835446,
          0.2929812635425076,
          0.1842030413329432,
          -0.06191369606003752,
          2.102121851346321,
          0.44345531131476396,
          0.09163515353199213,
          -0.269870705197548,
          0.7346639933316812,
          1.0103092783505154,
          0.37409575048166055,
          0.44329858366623226,
          1.7817745803357314,
          0.7900403768506057,
          0.2666015271595556,
          0.08086963682780203,
          0.05142857142857143,
          0.16496726244540458,
          0.7961165048543689,
          0.1354060958113168,
          0.11499085211569154,
          0.07142287552165014,
          0.10203473945409429,
          1.2590757053044497,
          0.22567567567567567,
          0.16905444126074498,
          0.3005938906495513,
          0.5525057442712538,
          1.1468319792713493,
          0.03964619534533593,
          0.6487804878048781,
          0.286738746690203,
          0.8664383561643836,
          1.418848167539267,
          1.1839080459770115,
          0.4897153391688079,
          0.16351605686485712,
          0.19998640195811804,
          0.20025229840019862,
          0.34309362431103835,
          0.20006283874008327,
          0.8455284552845529,
          0.06296603148301574,
          0.2724014336917563,
          0.7672403979074622,
          0.8957055214723927,
          0.09486166007905138,
          0.43710314055259997,
          -0.03307938652602893,
          0.171875,
          1.7496382054992765,
          -0.08466925413432334,
          0.25188862508094106,
          1.3811179087875416,
          0.6868557136580254,
          0.013067447083645272,
          2.8177339901477834,
          -0.05345911949685535,
          0.29289329006876375,
          0.31650356923367845,
          0.2927663734115347,
          0.12065091330820532,
          0.3271562520781149,
          0.3748975049783296
         ],
         "yaxis": "y"
        }
       ],
       "layout": {
        "barmode": "relative",
        "legend": {
         "tracegroupgap": 0
        },
        "template": {
         "data": {
          "bar": [
           {
            "error_x": {
             "color": "#2a3f5f"
            },
            "error_y": {
             "color": "#2a3f5f"
            },
            "marker": {
             "line": {
              "color": "#E5ECF6",
              "width": 0.5
             },
             "pattern": {
              "fillmode": "overlay",
              "size": 10,
              "solidity": 0.2
             }
            },
            "type": "bar"
           }
          ],
          "barpolar": [
           {
            "marker": {
             "line": {
              "color": "#E5ECF6",
              "width": 0.5
             },
             "pattern": {
              "fillmode": "overlay",
              "size": 10,
              "solidity": 0.2
             }
            },
            "type": "barpolar"
           }
          ],
          "carpet": [
           {
            "aaxis": {
             "endlinecolor": "#2a3f5f",
             "gridcolor": "white",
             "linecolor": "white",
             "minorgridcolor": "white",
             "startlinecolor": "#2a3f5f"
            },
            "baxis": {
             "endlinecolor": "#2a3f5f",
             "gridcolor": "white",
             "linecolor": "white",
             "minorgridcolor": "white",
             "startlinecolor": "#2a3f5f"
            },
            "type": "carpet"
           }
          ],
          "choropleth": [
           {
            "colorbar": {
             "outlinewidth": 0,
             "ticks": ""
            },
            "type": "choropleth"
           }
          ],
          "contour": [
           {
            "colorbar": {
             "outlinewidth": 0,
             "ticks": ""
            },
            "colorscale": [
             [
              0,
              "#0d0887"
             ],
             [
              0.1111111111111111,
              "#46039f"
             ],
             [
              0.2222222222222222,
              "#7201a8"
             ],
             [
              0.3333333333333333,
              "#9c179e"
             ],
             [
              0.4444444444444444,
              "#bd3786"
             ],
             [
              0.5555555555555556,
              "#d8576b"
             ],
             [
              0.6666666666666666,
              "#ed7953"
             ],
             [
              0.7777777777777778,
              "#fb9f3a"
             ],
             [
              0.8888888888888888,
              "#fdca26"
             ],
             [
              1,
              "#f0f921"
             ]
            ],
            "type": "contour"
           }
          ],
          "contourcarpet": [
           {
            "colorbar": {
             "outlinewidth": 0,
             "ticks": ""
            },
            "type": "contourcarpet"
           }
          ],
          "heatmap": [
           {
            "colorbar": {
             "outlinewidth": 0,
             "ticks": ""
            },
            "colorscale": [
             [
              0,
              "#0d0887"
             ],
             [
              0.1111111111111111,
              "#46039f"
             ],
             [
              0.2222222222222222,
              "#7201a8"
             ],
             [
              0.3333333333333333,
              "#9c179e"
             ],
             [
              0.4444444444444444,
              "#bd3786"
             ],
             [
              0.5555555555555556,
              "#d8576b"
             ],
             [
              0.6666666666666666,
              "#ed7953"
             ],
             [
              0.7777777777777778,
              "#fb9f3a"
             ],
             [
              0.8888888888888888,
              "#fdca26"
             ],
             [
              1,
              "#f0f921"
             ]
            ],
            "type": "heatmap"
           }
          ],
          "heatmapgl": [
           {
            "colorbar": {
             "outlinewidth": 0,
             "ticks": ""
            },
            "colorscale": [
             [
              0,
              "#0d0887"
             ],
             [
              0.1111111111111111,
              "#46039f"
             ],
             [
              0.2222222222222222,
              "#7201a8"
             ],
             [
              0.3333333333333333,
              "#9c179e"
             ],
             [
              0.4444444444444444,
              "#bd3786"
             ],
             [
              0.5555555555555556,
              "#d8576b"
             ],
             [
              0.6666666666666666,
              "#ed7953"
             ],
             [
              0.7777777777777778,
              "#fb9f3a"
             ],
             [
              0.8888888888888888,
              "#fdca26"
             ],
             [
              1,
              "#f0f921"
             ]
            ],
            "type": "heatmapgl"
           }
          ],
          "histogram": [
           {
            "marker": {
             "pattern": {
              "fillmode": "overlay",
              "size": 10,
              "solidity": 0.2
             }
            },
            "type": "histogram"
           }
          ],
          "histogram2d": [
           {
            "colorbar": {
             "outlinewidth": 0,
             "ticks": ""
            },
            "colorscale": [
             [
              0,
              "#0d0887"
             ],
             [
              0.1111111111111111,
              "#46039f"
             ],
             [
              0.2222222222222222,
              "#7201a8"
             ],
             [
              0.3333333333333333,
              "#9c179e"
             ],
             [
              0.4444444444444444,
              "#bd3786"
             ],
             [
              0.5555555555555556,
              "#d8576b"
             ],
             [
              0.6666666666666666,
              "#ed7953"
             ],
             [
              0.7777777777777778,
              "#fb9f3a"
             ],
             [
              0.8888888888888888,
              "#fdca26"
             ],
             [
              1,
              "#f0f921"
             ]
            ],
            "type": "histogram2d"
           }
          ],
          "histogram2dcontour": [
           {
            "colorbar": {
             "outlinewidth": 0,
             "ticks": ""
            },
            "colorscale": [
             [
              0,
              "#0d0887"
             ],
             [
              0.1111111111111111,
              "#46039f"
             ],
             [
              0.2222222222222222,
              "#7201a8"
             ],
             [
              0.3333333333333333,
              "#9c179e"
             ],
             [
              0.4444444444444444,
              "#bd3786"
             ],
             [
              0.5555555555555556,
              "#d8576b"
             ],
             [
              0.6666666666666666,
              "#ed7953"
             ],
             [
              0.7777777777777778,
              "#fb9f3a"
             ],
             [
              0.8888888888888888,
              "#fdca26"
             ],
             [
              1,
              "#f0f921"
             ]
            ],
            "type": "histogram2dcontour"
           }
          ],
          "mesh3d": [
           {
            "colorbar": {
             "outlinewidth": 0,
             "ticks": ""
            },
            "type": "mesh3d"
           }
          ],
          "parcoords": [
           {
            "line": {
             "colorbar": {
              "outlinewidth": 0,
              "ticks": ""
             }
            },
            "type": "parcoords"
           }
          ],
          "pie": [
           {
            "automargin": true,
            "type": "pie"
           }
          ],
          "scatter": [
           {
            "fillpattern": {
             "fillmode": "overlay",
             "size": 10,
             "solidity": 0.2
            },
            "type": "scatter"
           }
          ],
          "scatter3d": [
           {
            "line": {
             "colorbar": {
              "outlinewidth": 0,
              "ticks": ""
             }
            },
            "marker": {
             "colorbar": {
              "outlinewidth": 0,
              "ticks": ""
             }
            },
            "type": "scatter3d"
           }
          ],
          "scattercarpet": [
           {
            "marker": {
             "colorbar": {
              "outlinewidth": 0,
              "ticks": ""
             }
            },
            "type": "scattercarpet"
           }
          ],
          "scattergeo": [
           {
            "marker": {
             "colorbar": {
              "outlinewidth": 0,
              "ticks": ""
             }
            },
            "type": "scattergeo"
           }
          ],
          "scattergl": [
           {
            "marker": {
             "colorbar": {
              "outlinewidth": 0,
              "ticks": ""
             }
            },
            "type": "scattergl"
           }
          ],
          "scattermapbox": [
           {
            "marker": {
             "colorbar": {
              "outlinewidth": 0,
              "ticks": ""
             }
            },
            "type": "scattermapbox"
           }
          ],
          "scatterpolar": [
           {
            "marker": {
             "colorbar": {
              "outlinewidth": 0,
              "ticks": ""
             }
            },
            "type": "scatterpolar"
           }
          ],
          "scatterpolargl": [
           {
            "marker": {
             "colorbar": {
              "outlinewidth": 0,
              "ticks": ""
             }
            },
            "type": "scatterpolargl"
           }
          ],
          "scatterternary": [
           {
            "marker": {
             "colorbar": {
              "outlinewidth": 0,
              "ticks": ""
             }
            },
            "type": "scatterternary"
           }
          ],
          "surface": [
           {
            "colorbar": {
             "outlinewidth": 0,
             "ticks": ""
            },
            "colorscale": [
             [
              0,
              "#0d0887"
             ],
             [
              0.1111111111111111,
              "#46039f"
             ],
             [
              0.2222222222222222,
              "#7201a8"
             ],
             [
              0.3333333333333333,
              "#9c179e"
             ],
             [
              0.4444444444444444,
              "#bd3786"
             ],
             [
              0.5555555555555556,
              "#d8576b"
             ],
             [
              0.6666666666666666,
              "#ed7953"
             ],
             [
              0.7777777777777778,
              "#fb9f3a"
             ],
             [
              0.8888888888888888,
              "#fdca26"
             ],
             [
              1,
              "#f0f921"
             ]
            ],
            "type": "surface"
           }
          ],
          "table": [
           {
            "cells": {
             "fill": {
              "color": "#EBF0F8"
             },
             "line": {
              "color": "white"
             }
            },
            "header": {
             "fill": {
              "color": "#C8D4E3"
             },
             "line": {
              "color": "white"
             }
            },
            "type": "table"
           }
          ]
         },
         "layout": {
          "annotationdefaults": {
           "arrowcolor": "#2a3f5f",
           "arrowhead": 0,
           "arrowwidth": 1
          },
          "autotypenumbers": "strict",
          "coloraxis": {
           "colorbar": {
            "outlinewidth": 0,
            "ticks": ""
           }
          },
          "colorscale": {
           "diverging": [
            [
             0,
             "#8e0152"
            ],
            [
             0.1,
             "#c51b7d"
            ],
            [
             0.2,
             "#de77ae"
            ],
            [
             0.3,
             "#f1b6da"
            ],
            [
             0.4,
             "#fde0ef"
            ],
            [
             0.5,
             "#f7f7f7"
            ],
            [
             0.6,
             "#e6f5d0"
            ],
            [
             0.7,
             "#b8e186"
            ],
            [
             0.8,
             "#7fbc41"
            ],
            [
             0.9,
             "#4d9221"
            ],
            [
             1,
             "#276419"
            ]
           ],
           "sequential": [
            [
             0,
             "#0d0887"
            ],
            [
             0.1111111111111111,
             "#46039f"
            ],
            [
             0.2222222222222222,
             "#7201a8"
            ],
            [
             0.3333333333333333,
             "#9c179e"
            ],
            [
             0.4444444444444444,
             "#bd3786"
            ],
            [
             0.5555555555555556,
             "#d8576b"
            ],
            [
             0.6666666666666666,
             "#ed7953"
            ],
            [
             0.7777777777777778,
             "#fb9f3a"
            ],
            [
             0.8888888888888888,
             "#fdca26"
            ],
            [
             1,
             "#f0f921"
            ]
           ],
           "sequentialminus": [
            [
             0,
             "#0d0887"
            ],
            [
             0.1111111111111111,
             "#46039f"
            ],
            [
             0.2222222222222222,
             "#7201a8"
            ],
            [
             0.3333333333333333,
             "#9c179e"
            ],
            [
             0.4444444444444444,
             "#bd3786"
            ],
            [
             0.5555555555555556,
             "#d8576b"
            ],
            [
             0.6666666666666666,
             "#ed7953"
            ],
            [
             0.7777777777777778,
             "#fb9f3a"
            ],
            [
             0.8888888888888888,
             "#fdca26"
            ],
            [
             1,
             "#f0f921"
            ]
           ]
          },
          "colorway": [
           "#636efa",
           "#EF553B",
           "#00cc96",
           "#ab63fa",
           "#FFA15A",
           "#19d3f3",
           "#FF6692",
           "#B6E880",
           "#FF97FF",
           "#FECB52"
          ],
          "font": {
           "color": "#2a3f5f"
          },
          "geo": {
           "bgcolor": "white",
           "lakecolor": "white",
           "landcolor": "#E5ECF6",
           "showlakes": true,
           "showland": true,
           "subunitcolor": "white"
          },
          "hoverlabel": {
           "align": "left"
          },
          "hovermode": "closest",
          "mapbox": {
           "style": "light"
          },
          "paper_bgcolor": "white",
          "plot_bgcolor": "#E5ECF6",
          "polar": {
           "angularaxis": {
            "gridcolor": "white",
            "linecolor": "white",
            "ticks": ""
           },
           "bgcolor": "#E5ECF6",
           "radialaxis": {
            "gridcolor": "white",
            "linecolor": "white",
            "ticks": ""
           }
          },
          "scene": {
           "xaxis": {
            "backgroundcolor": "#E5ECF6",
            "gridcolor": "white",
            "gridwidth": 2,
            "linecolor": "white",
            "showbackground": true,
            "ticks": "",
            "zerolinecolor": "white"
           },
           "yaxis": {
            "backgroundcolor": "#E5ECF6",
            "gridcolor": "white",
            "gridwidth": 2,
            "linecolor": "white",
            "showbackground": true,
            "ticks": "",
            "zerolinecolor": "white"
           },
           "zaxis": {
            "backgroundcolor": "#E5ECF6",
            "gridcolor": "white",
            "gridwidth": 2,
            "linecolor": "white",
            "showbackground": true,
            "ticks": "",
            "zerolinecolor": "white"
           }
          },
          "shapedefaults": {
           "line": {
            "color": "#2a3f5f"
           }
          },
          "ternary": {
           "aaxis": {
            "gridcolor": "white",
            "linecolor": "white",
            "ticks": ""
           },
           "baxis": {
            "gridcolor": "white",
            "linecolor": "white",
            "ticks": ""
           },
           "bgcolor": "#E5ECF6",
           "caxis": {
            "gridcolor": "white",
            "linecolor": "white",
            "ticks": ""
           }
          },
          "title": {
           "x": 0.05
          },
          "xaxis": {
           "automargin": true,
           "gridcolor": "white",
           "linecolor": "white",
           "ticks": "",
           "title": {
            "standoff": 15
           },
           "zerolinecolor": "white",
           "zerolinewidth": 2
          },
          "yaxis": {
           "automargin": true,
           "gridcolor": "white",
           "linecolor": "white",
           "ticks": "",
           "title": {
            "standoff": 15
           },
           "zerolinecolor": "white",
           "zerolinewidth": 2
          }
         }
        },
        "title": {
         "text": "PERCENTAGE CHANGE OF STOCKS"
        },
        "xaxis": {
         "anchor": "y",
         "domain": [
          0,
          1
         ],
         "title": {
          "text": "index"
         }
        },
        "yaxis": {
         "anchor": "x",
         "domain": [
          0,
          1
         ],
         "title": {
          "text": "Percentage change"
         }
        }
       }
      }
     },
     "metadata": {},
     "output_type": "display_data"
    }
   ],
   "source": [
    "fig = px.bar(percentage_change,y= percentage_change['Percentage change'],title='PERCENTAGE CHANGE OF STOCKS')\n",
    "fig.show()\n"
   ]
  },
  {
   "cell_type": "code",
   "execution_count": 75,
   "metadata": {},
   "outputs": [
    {
     "data": {
      "text/html": [
       "<div>\n",
       "<style scoped>\n",
       "    .dataframe tbody tr th:only-of-type {\n",
       "        vertical-align: middle;\n",
       "    }\n",
       "\n",
       "    .dataframe tbody tr th {\n",
       "        vertical-align: top;\n",
       "    }\n",
       "\n",
       "    .dataframe thead th {\n",
       "        text-align: right;\n",
       "    }\n",
       "</style>\n",
       "<table border=\"1\" class=\"dataframe\">\n",
       "  <thead>\n",
       "    <tr style=\"text-align: right;\">\n",
       "      <th></th>\n",
       "      <th>Percentage change</th>\n",
       "    </tr>\n",
       "  </thead>\n",
       "  <tbody>\n",
       "    <tr>\n",
       "      <th>VRC</th>\n",
       "      <td>2.817734</td>\n",
       "    </tr>\n",
       "    <tr>\n",
       "      <th>DIG</th>\n",
       "      <td>2.726396</td>\n",
       "    </tr>\n",
       "    <tr>\n",
       "      <th>FRT</th>\n",
       "      <td>2.636958</td>\n",
       "    </tr>\n",
       "    <tr>\n",
       "      <th>KHP</th>\n",
       "      <td>2.446450</td>\n",
       "    </tr>\n",
       "    <tr>\n",
       "      <th>PTC</th>\n",
       "      <td>2.373914</td>\n",
       "    </tr>\n",
       "  </tbody>\n",
       "</table>\n",
       "</div>"
      ],
      "text/plain": [
       "     Percentage change\n",
       "VRC           2.817734\n",
       "DIG           2.726396\n",
       "FRT           2.636958\n",
       "KHP           2.446450\n",
       "PTC           2.373914"
      ]
     },
     "execution_count": 75,
     "metadata": {},
     "output_type": "execute_result"
    }
   ],
   "source": [
    "percentage_label = np.copy(label) \n",
    "new_array = np.copy(array)\n",
    "for i in range(0, len(label) - 1):\n",
    "    for j in range(i+1, len(label)):\n",
    "        if(new_array[i] < new_array[j]):\n",
    "            swap = new_array[i]\n",
    "            new_array[i] = new_array[j]\n",
    "            new_array[j] = swap\n",
    "            new_swap = percentage_label[i]\n",
    "            percentage_label[i] = percentage_label[j]\n",
    "            percentage_label[j] = new_swap\n",
    "sorted_percentage_change = pd.DataFrame(data = new_array, index = [name for name in percentage_label], columns= ['Percentage change'])\n",
    "sorted_percentage_change.head(5)"
   ]
  },
  {
   "cell_type": "code",
   "execution_count": 76,
   "metadata": {},
   "outputs": [
    {
     "data": {
      "text/html": [
       "<div>\n",
       "<style scoped>\n",
       "    .dataframe tbody tr th:only-of-type {\n",
       "        vertical-align: middle;\n",
       "    }\n",
       "\n",
       "    .dataframe tbody tr th {\n",
       "        vertical-align: top;\n",
       "    }\n",
       "\n",
       "    .dataframe thead th {\n",
       "        text-align: right;\n",
       "    }\n",
       "</style>\n",
       "<table border=\"1\" class=\"dataframe\">\n",
       "  <thead>\n",
       "    <tr style=\"text-align: right;\">\n",
       "      <th></th>\n",
       "      <th>Percentage change</th>\n",
       "    </tr>\n",
       "  </thead>\n",
       "  <tbody>\n",
       "    <tr>\n",
       "      <th>HRC</th>\n",
       "      <td>-0.200603</td>\n",
       "    </tr>\n",
       "    <tr>\n",
       "      <th>SHI</th>\n",
       "      <td>-0.207966</td>\n",
       "    </tr>\n",
       "    <tr>\n",
       "      <th>TCM</th>\n",
       "      <td>-0.269871</td>\n",
       "    </tr>\n",
       "    <tr>\n",
       "      <th>NHH</th>\n",
       "      <td>-0.292033</td>\n",
       "    </tr>\n",
       "    <tr>\n",
       "      <th>APH</th>\n",
       "      <td>-0.364957</td>\n",
       "    </tr>\n",
       "  </tbody>\n",
       "</table>\n",
       "</div>"
      ],
      "text/plain": [
       "     Percentage change\n",
       "HRC          -0.200603\n",
       "SHI          -0.207966\n",
       "TCM          -0.269871\n",
       "NHH          -0.292033\n",
       "APH          -0.364957"
      ]
     },
     "execution_count": 76,
     "metadata": {},
     "output_type": "execute_result"
    }
   ],
   "source": [
    "sorted_percentage_change.tail(5)"
   ]
  },
  {
   "cell_type": "code",
   "execution_count": 78,
   "metadata": {},
   "outputs": [
    {
     "data": {
      "application/vnd.plotly.v1+json": {
       "config": {
        "plotlyServerURL": "https://plot.ly"
       },
       "data": [
        {
         "alignmentgroup": "True",
         "hovertemplate": "index=%{x}<br>Percentage change=%{y}<extra></extra>",
         "legendgroup": "",
         "marker": {
          "color": "#636efa",
          "pattern": {
           "shape": ""
          }
         },
         "name": "",
         "offsetgroup": "",
         "orientation": "v",
         "showlegend": false,
         "textposition": "auto",
         "type": "bar",
         "x": [
          "VRC",
          "DIG",
          "FRT",
          "KHP",
          "PTC",
          "MCG",
          "SJF",
          "PTL",
          "TCD",
          "LDG",
          "TDG",
          "QBS",
          "VOS",
          "NHA",
          "HAR",
          "DLG",
          "APG",
          "DAG",
          "DRH",
          "JVC",
          "SAM",
          "C47",
          "DTA",
          "CII",
          "TNI",
          "IDI",
          "VPH",
          "HQC",
          "BCG",
          "CIG",
          "HCD",
          "HAG",
          "ACC",
          "DPG",
          "TLD",
          "PGV",
          "ITA",
          "TNT",
          "CKG",
          "HTN",
          "TMT",
          "HAH",
          "ORS",
          "QCG",
          "HBC",
          "TCR",
          "GEX",
          "HID",
          "LGL",
          "DGC",
          "SFI",
          "DGW",
          "SFG",
          "EVG",
          "VNE",
          "HAI",
          "HHS",
          "TNH",
          "KPF",
          "OGC",
          "CTI",
          "ASP",
          "TTB",
          "HDG",
          "LCG",
          "SCR",
          "NLG",
          "L10",
          "SZC",
          "TGG",
          "TDH",
          "HDC",
          "PC1",
          "DXV",
          "DCM",
          "BSI",
          "VND",
          "TCO",
          "ADS",
          "AGR",
          "KSB",
          "CTD",
          "DC4",
          "ITC",
          "SGT",
          "ELC",
          "VPI",
          "SVC",
          "TNA",
          "PET",
          "ASM",
          "PLP",
          "STG",
          "BAF",
          "BCE",
          "LM8",
          "PIT",
          "LAF",
          "BMC",
          "DQC",
          "SPM",
          "CRE",
          "AMD",
          "NTL",
          "CMG",
          "TMS",
          "GEG",
          "KBC",
          "SKG",
          "HU1",
          "FTS",
          "CSV",
          "MSN",
          "SRF",
          "TPB",
          "STK",
          "POW",
          "SGR",
          "HT1",
          "CMX",
          "CCI",
          "ACL",
          "LBM",
          "TCH",
          "TDC",
          "HSL",
          "VNL",
          "HUB",
          "BMI",
          "SHA",
          "PAN",
          "FMC",
          "GSP",
          "PNC",
          "HVX",
          "NAV",
          "BIC",
          "YBM",
          "TCT",
          "PGC",
          "C32",
          "BRC",
          "MWG",
          "MSH",
          "TSC",
          "PHR",
          "LSS",
          "SJS",
          "PVD",
          "PGI",
          "RDP",
          "VTO",
          "CNG",
          "MCP",
          "NT2",
          "VSH",
          "SSI",
          "CRC",
          "CCL",
          "ST8",
          "DTL",
          "TMP",
          "DXG",
          "SZL",
          "VSC",
          "VSI",
          "DTT",
          "SSB",
          "MIG",
          "TNC",
          "MHC",
          "SBV",
          "DHA",
          "EVE",
          "SBA",
          "NKG",
          "CHP",
          "HAP",
          "VMD",
          "TDM",
          "CDC",
          "BWE",
          "ABT",
          "DSN",
          "VPD",
          "GIL",
          "DXS",
          "DVP",
          "HAX",
          "HTL",
          "ADG",
          "TLG",
          "ILB",
          "CTR",
          "LHG",
          "MSB",
          "BKG",
          "SBT",
          "SHP",
          "SVD",
          "AGM",
          "BCM",
          "TRC",
          "PVT",
          "TTA",
          "TRA",
          "REE",
          "SVT",
          "EIB",
          "DBC",
          "HVH",
          "HHP",
          "PHC",
          "SJD",
          "SRC",
          "TBC",
          "SC5",
          "DHG",
          "AAA",
          "NCT",
          "VNS",
          "GTA",
          "TLH",
          "TEG",
          "NVT",
          "TPC",
          "SCS",
          "DRL",
          "HTI",
          "PDN",
          "DAH",
          "PGD",
          "CLC",
          "MDG",
          "BFC",
          "D2D",
          "THG",
          "AAM",
          "HNG",
          "DHM",
          "HII",
          "HU3",
          "PJT",
          "PTB",
          "APC",
          "CVT",
          "VTB",
          "HCM",
          "THI",
          "HTV",
          "KOS",
          "OCB",
          "ITD",
          "HPX",
          "TIX",
          "VNG",
          "SMB",
          "TCL",
          "GMD",
          "ABR",
          "TDP",
          "BTP",
          "KMR",
          "NNC",
          "EVF",
          "TIP",
          "GDT",
          "S4A",
          "ICT",
          "VJC",
          "CSM",
          "DHC",
          "DMC",
          "HDB",
          "FPT",
          "CAV",
          "TDW",
          "AAT",
          "DRC",
          "NHT",
          "SGN",
          "SFC",
          "SAV",
          "TN1",
          "CTF",
          "SMA",
          "SCD",
          "SII",
          "SMC",
          "ANV",
          "OPC",
          "CLL",
          "GAS",
          "EMC",
          "AST",
          "BMP",
          "IJC",
          "GVR",
          "BBC",
          "VPS",
          "GAB",
          "CMV",
          "AGG",
          "COM",
          "NVL",
          "PDR",
          "BID",
          "NSC",
          "PAC",
          "IMP",
          "BHN",
          "PPC",
          "PLX",
          "SHB",
          "KDC",
          "VNM",
          "PNJ",
          "BVH",
          "ACB",
          "HMC",
          "SVI",
          "ABS",
          "HOT",
          "VRE",
          "IBC",
          "TCB",
          "KHG",
          "PMG",
          "CLW",
          "HAS",
          "VPB",
          "PSH",
          "ASG",
          "SAB",
          "MBB",
          "LIX",
          "RAL",
          "DBT",
          "SSC",
          "HPG",
          "HSG",
          "BTT",
          "CTG",
          "POM",
          "DCL",
          "LPB",
          "NAF",
          "DAT",
          "HRC",
          "SHI",
          "TCM",
          "NHH",
          "APH"
         ],
         "xaxis": "x",
         "y": [
          2.8177339901477834,
          2.7263957123715947,
          2.636957586976643,
          2.4464499640603785,
          2.373914132323248,
          2.3125,
          2.22192513368984,
          2.2061068702290076,
          2.102121851346321,
          1.9291553133514987,
          1.7817745803357314,
          1.7733333333333334,
          1.7496382054992765,
          1.7272648725572415,
          1.6843100189035918,
          1.6590909090909092,
          1.6545828512662295,
          1.61986301369863,
          1.6111144502277945,
          1.5248756218905473,
          1.5245231607629428,
          1.5238904550126702,
          1.436842105263158,
          1.4356955380577427,
          1.418848167539267,
          1.3952095808383234,
          1.3811179087875416,
          1.3466666666666667,
          1.3255854346315747,
          1.3220338983050848,
          1.3070475068708285,
          1.293103448275862,
          1.2830465919141774,
          1.263822875231881,
          1.2590757053044497,
          1.2340552829962905,
          1.2281879194630871,
          1.1839080459770115,
          1.1506301346294465,
          1.1485354150254243,
          1.1468319792713493,
          1.112148503247297,
          1.1112790477989798,
          1.1091644204851752,
          1.08279306889845,
          1.0103092783505154,
          1.004907083465855,
          1,
          0.9696969696969697,
          0.9338284694520261,
          0.9242730315063029,
          0.914756306293667,
          0.8979598161252003,
          0.8965473416649016,
          0.8957055214723927,
          0.8925233644859814,
          0.8743591036697094,
          0.8664383561643836,
          0.865538508588613,
          0.8566775244299675,
          0.8547959724430313,
          0.8476274329317911,
          0.8455284552845529,
          0.8303074964828834,
          0.8267202503865992,
          0.8247902301237852,
          0.8203183534038552,
          0.8064516129032258,
          0.8043000699835446,
          0.7961165048543689,
          0.7900403768506057,
          0.7857142857142857,
          0.7852525473868741,
          0.7834394904458599,
          0.7772418464317232,
          0.7738210783493423,
          0.7672403979074622,
          0.7346639933316812,
          0.7298508687919004,
          0.7288135593220338,
          0.7182521620391443,
          0.7152255639097744,
          0.7085334091380542,
          0.7046388819885733,
          0.7031598880755208,
          0.6890896253204194,
          0.6868557136580254,
          0.663358147229115,
          0.6487804878048781,
          0.6463963963963963,
          0.6379859842695794,
          0.6227324675324675,
          0.6111111111111112,
          0.6023888103096023,
          0.6010720221365611,
          0.5998037037436499,
          0.5932203389830508,
          0.5909090909090909,
          0.5900689581008965,
          0.5848170612404617,
          0.5846189124435623,
          0.576777412108865,
          0.55893536121673,
          0.5588843378193875,
          0.5544039628150313,
          0.5525057442712538,
          0.5506413401556038,
          0.5392405063291139,
          0.5374449339207048,
          0.5333333333333333,
          0.517755913207793,
          0.5172729613418178,
          0.5066139820218974,
          0.4902865253260002,
          0.4897153391688079,
          0.48460923477021944,
          0.47039053572628886,
          0.4662189799394993,
          0.46442143886777615,
          0.4574929598904026,
          0.45640108534780466,
          0.4549411575044333,
          0.4548200274006724,
          0.44345531131476396,
          0.44329858366623226,
          0.44131367501365165,
          0.43710314055259997,
          0.435142367962564,
          0.42951382923896236,
          0.42153299410386885,
          0.41544117647058826,
          0.41303617426363537,
          0.41110065851364064,
          0.40625,
          0.38971779350328245,
          0.3882874877575773,
          0.38738958567175835,
          0.3748975049783296,
          0.37409575048166055,
          0.36390127680371437,
          0.3632672874100878,
          0.3550698991328968,
          0.3518422106527833,
          0.3451986163688868,
          0.34309362431103835,
          0.34130970521286,
          0.33905579399141633,
          0.3355048859934853,
          0.3325798968919264,
          0.33102151169625016,
          0.3271604938271605,
          0.3271562520781149,
          0.32594495712684024,
          0.3237343241987924,
          0.31809901414487785,
          0.31650356923367845,
          0.3150181998960008,
          0.3114754098360656,
          0.3082694736842106,
          0.3081403297694895,
          0.30434782608695654,
          0.3005938906495513,
          0.2962962962962963,
          0.2929812635425076,
          0.29289329006876375,
          0.2927663734115347,
          0.291044776119403,
          0.28990878303574985,
          0.2891775968173059,
          0.286738746690203,
          0.285108720531014,
          0.28464428534571723,
          0.28440401562413603,
          0.28057661487872315,
          0.2799546348737407,
          0.2774701743025645,
          0.27520675908847514,
          0.27258564036711125,
          0.2724014336917563,
          0.2666015271595556,
          0.2642857142857143,
          0.2596159492630219,
          0.2570289855072464,
          0.2540113552209331,
          0.25188862508094106,
          0.2467387338076993,
          0.24333324056668618,
          0.23981961365013124,
          0.2320664210306779,
          0.2277522000116557,
          0.22678906933267104,
          0.22567567567567567,
          0.22388164489568266,
          0.22006421938731233,
          0.21859308731048605,
          0.2161284747871284,
          0.21495693030540317,
          0.2131509046258708,
          0.2092841512972804,
          0.20847567156614305,
          0.20333333333333334,
          0.20195729537366547,
          0.20025229840019862,
          0.20016334173281683,
          0.20006283874008327,
          0.19998640195811804,
          0.19964864100803684,
          0.19910148176691073,
          0.1950354609929078,
          0.1914587332053743,
          0.19069767441860466,
          0.1875,
          0.18651295878501076,
          0.18518428533249126,
          0.1851661234059587,
          0.1842030413329432,
          0.184130511051339,
          0.18076773692387363,
          0.175512104283054,
          0.17293106868714614,
          0.171875,
          0.17056953285984386,
          0.16905444126074498,
          0.16496726244540458,
          0.16355140186915887,
          0.16351605686485712,
          0.161099874268846,
          0.15865281458319958,
          0.1561591780259648,
          0.15574786876776026,
          0.15458937198067632,
          0.1516991189753461,
          0.14512825094893458,
          0.14304387608383076,
          0.14137866616850364,
          0.14019838429287249,
          0.1354060958113168,
          0.13513513513513514,
          0.13425925925925927,
          0.1320754716981132,
          0.13145025520429707,
          0.12823499435809702,
          0.127400468384075,
          0.126288329812432,
          0.12280701754385964,
          0.1206896551724138,
          0.12065091330820532,
          0.1176093476354579,
          0.11499085211569154,
          0.11327685733563235,
          0.11053540587219343,
          0.10436893203883495,
          0.10389818181818185,
          0.10360278253722582,
          0.10203473945409429,
          0.09486166007905138,
          0.09180695038488512,
          0.09163515353199213,
          0.08513615820505173,
          0.08225108225108226,
          0.08086963682780203,
          0.07898405770746196,
          0.0784313725490196,
          0.07692307692307693,
          0.07261490923136346,
          0.07142287552165014,
          0.07123464525070722,
          0.06814122455157802,
          0.06378402852453449,
          0.06296603148301574,
          0.06179775280898876,
          0.058999778057261226,
          0.05886093389007821,
          0.057956104252400546,
          0.05724734684864958,
          0.05407754515909606,
          0.05142857142857143,
          0.05086586616786339,
          0.046922779046321965,
          0.04491477148240656,
          0.042101097429184615,
          0.0412421550248594,
          0.04104412254120611,
          0.03964619534533593,
          0.039419726071804766,
          0.03726082578046324,
          0.03414634146341464,
          0.028481012658227847,
          0.027304458621586987,
          0.026159359775169456,
          0.021388303137238024,
          0.021341463414634148,
          0.021232510714402558,
          0.020588235294117647,
          0.019305019305019305,
          0.01698679791751808,
          0.016728926425207083,
          0.01511903418706984,
          0.013852221244418369,
          0.013067447083645272,
          0.008722009497791791,
          0.004089669797031203,
          0.0038579087128613656,
          -0.0011862103052020265,
          -0.00658275383993974,
          -0.007298232648043263,
          -0.008938254983357603,
          -0.011124845488257108,
          -0.013385198428476536,
          -0.02138308137664844,
          -0.024209096853152715,
          -0.02447960033305579,
          -0.02882882882882883,
          -0.02925300365662546,
          -0.032294638285421694,
          -0.03307938652602893,
          -0.0339177486980092,
          -0.0373375507116826,
          -0.04033379694019471,
          -0.04299328193959511,
          -0.04684586155162018,
          -0.0513809518606337,
          -0.05263157894736842,
          -0.05345911949685535,
          -0.059907834101382486,
          -0.06191369606003752,
          -0.06542086426729546,
          -0.06629834254143646,
          -0.06717769584061065,
          -0.08108108108108109,
          -0.08466925413432334,
          -0.08816744980777445,
          -0.09230769230769231,
          -0.0995794734275963,
          -0.1020730024980426,
          -0.108155303030303,
          -0.1109260470078117,
          -0.11666666666666667,
          -0.12084130019120459,
          -0.12121280370767998,
          -0.12206478873239435,
          -0.13722644913326534,
          -0.14455937237406216,
          -0.15072463768115943,
          -0.15319148936170213,
          -0.16470588235294117,
          -0.17206132879045996,
          -0.19229537447957176,
          -0.20060331825037708,
          -0.20796556608913588,
          -0.269870705197548,
          -0.29203259393390674,
          -0.36495726495726494
         ],
         "yaxis": "y"
        }
       ],
       "layout": {
        "barmode": "relative",
        "legend": {
         "tracegroupgap": 0
        },
        "template": {
         "data": {
          "bar": [
           {
            "error_x": {
             "color": "#2a3f5f"
            },
            "error_y": {
             "color": "#2a3f5f"
            },
            "marker": {
             "line": {
              "color": "#E5ECF6",
              "width": 0.5
             },
             "pattern": {
              "fillmode": "overlay",
              "size": 10,
              "solidity": 0.2
             }
            },
            "type": "bar"
           }
          ],
          "barpolar": [
           {
            "marker": {
             "line": {
              "color": "#E5ECF6",
              "width": 0.5
             },
             "pattern": {
              "fillmode": "overlay",
              "size": 10,
              "solidity": 0.2
             }
            },
            "type": "barpolar"
           }
          ],
          "carpet": [
           {
            "aaxis": {
             "endlinecolor": "#2a3f5f",
             "gridcolor": "white",
             "linecolor": "white",
             "minorgridcolor": "white",
             "startlinecolor": "#2a3f5f"
            },
            "baxis": {
             "endlinecolor": "#2a3f5f",
             "gridcolor": "white",
             "linecolor": "white",
             "minorgridcolor": "white",
             "startlinecolor": "#2a3f5f"
            },
            "type": "carpet"
           }
          ],
          "choropleth": [
           {
            "colorbar": {
             "outlinewidth": 0,
             "ticks": ""
            },
            "type": "choropleth"
           }
          ],
          "contour": [
           {
            "colorbar": {
             "outlinewidth": 0,
             "ticks": ""
            },
            "colorscale": [
             [
              0,
              "#0d0887"
             ],
             [
              0.1111111111111111,
              "#46039f"
             ],
             [
              0.2222222222222222,
              "#7201a8"
             ],
             [
              0.3333333333333333,
              "#9c179e"
             ],
             [
              0.4444444444444444,
              "#bd3786"
             ],
             [
              0.5555555555555556,
              "#d8576b"
             ],
             [
              0.6666666666666666,
              "#ed7953"
             ],
             [
              0.7777777777777778,
              "#fb9f3a"
             ],
             [
              0.8888888888888888,
              "#fdca26"
             ],
             [
              1,
              "#f0f921"
             ]
            ],
            "type": "contour"
           }
          ],
          "contourcarpet": [
           {
            "colorbar": {
             "outlinewidth": 0,
             "ticks": ""
            },
            "type": "contourcarpet"
           }
          ],
          "heatmap": [
           {
            "colorbar": {
             "outlinewidth": 0,
             "ticks": ""
            },
            "colorscale": [
             [
              0,
              "#0d0887"
             ],
             [
              0.1111111111111111,
              "#46039f"
             ],
             [
              0.2222222222222222,
              "#7201a8"
             ],
             [
              0.3333333333333333,
              "#9c179e"
             ],
             [
              0.4444444444444444,
              "#bd3786"
             ],
             [
              0.5555555555555556,
              "#d8576b"
             ],
             [
              0.6666666666666666,
              "#ed7953"
             ],
             [
              0.7777777777777778,
              "#fb9f3a"
             ],
             [
              0.8888888888888888,
              "#fdca26"
             ],
             [
              1,
              "#f0f921"
             ]
            ],
            "type": "heatmap"
           }
          ],
          "heatmapgl": [
           {
            "colorbar": {
             "outlinewidth": 0,
             "ticks": ""
            },
            "colorscale": [
             [
              0,
              "#0d0887"
             ],
             [
              0.1111111111111111,
              "#46039f"
             ],
             [
              0.2222222222222222,
              "#7201a8"
             ],
             [
              0.3333333333333333,
              "#9c179e"
             ],
             [
              0.4444444444444444,
              "#bd3786"
             ],
             [
              0.5555555555555556,
              "#d8576b"
             ],
             [
              0.6666666666666666,
              "#ed7953"
             ],
             [
              0.7777777777777778,
              "#fb9f3a"
             ],
             [
              0.8888888888888888,
              "#fdca26"
             ],
             [
              1,
              "#f0f921"
             ]
            ],
            "type": "heatmapgl"
           }
          ],
          "histogram": [
           {
            "marker": {
             "pattern": {
              "fillmode": "overlay",
              "size": 10,
              "solidity": 0.2
             }
            },
            "type": "histogram"
           }
          ],
          "histogram2d": [
           {
            "colorbar": {
             "outlinewidth": 0,
             "ticks": ""
            },
            "colorscale": [
             [
              0,
              "#0d0887"
             ],
             [
              0.1111111111111111,
              "#46039f"
             ],
             [
              0.2222222222222222,
              "#7201a8"
             ],
             [
              0.3333333333333333,
              "#9c179e"
             ],
             [
              0.4444444444444444,
              "#bd3786"
             ],
             [
              0.5555555555555556,
              "#d8576b"
             ],
             [
              0.6666666666666666,
              "#ed7953"
             ],
             [
              0.7777777777777778,
              "#fb9f3a"
             ],
             [
              0.8888888888888888,
              "#fdca26"
             ],
             [
              1,
              "#f0f921"
             ]
            ],
            "type": "histogram2d"
           }
          ],
          "histogram2dcontour": [
           {
            "colorbar": {
             "outlinewidth": 0,
             "ticks": ""
            },
            "colorscale": [
             [
              0,
              "#0d0887"
             ],
             [
              0.1111111111111111,
              "#46039f"
             ],
             [
              0.2222222222222222,
              "#7201a8"
             ],
             [
              0.3333333333333333,
              "#9c179e"
             ],
             [
              0.4444444444444444,
              "#bd3786"
             ],
             [
              0.5555555555555556,
              "#d8576b"
             ],
             [
              0.6666666666666666,
              "#ed7953"
             ],
             [
              0.7777777777777778,
              "#fb9f3a"
             ],
             [
              0.8888888888888888,
              "#fdca26"
             ],
             [
              1,
              "#f0f921"
             ]
            ],
            "type": "histogram2dcontour"
           }
          ],
          "mesh3d": [
           {
            "colorbar": {
             "outlinewidth": 0,
             "ticks": ""
            },
            "type": "mesh3d"
           }
          ],
          "parcoords": [
           {
            "line": {
             "colorbar": {
              "outlinewidth": 0,
              "ticks": ""
             }
            },
            "type": "parcoords"
           }
          ],
          "pie": [
           {
            "automargin": true,
            "type": "pie"
           }
          ],
          "scatter": [
           {
            "fillpattern": {
             "fillmode": "overlay",
             "size": 10,
             "solidity": 0.2
            },
            "type": "scatter"
           }
          ],
          "scatter3d": [
           {
            "line": {
             "colorbar": {
              "outlinewidth": 0,
              "ticks": ""
             }
            },
            "marker": {
             "colorbar": {
              "outlinewidth": 0,
              "ticks": ""
             }
            },
            "type": "scatter3d"
           }
          ],
          "scattercarpet": [
           {
            "marker": {
             "colorbar": {
              "outlinewidth": 0,
              "ticks": ""
             }
            },
            "type": "scattercarpet"
           }
          ],
          "scattergeo": [
           {
            "marker": {
             "colorbar": {
              "outlinewidth": 0,
              "ticks": ""
             }
            },
            "type": "scattergeo"
           }
          ],
          "scattergl": [
           {
            "marker": {
             "colorbar": {
              "outlinewidth": 0,
              "ticks": ""
             }
            },
            "type": "scattergl"
           }
          ],
          "scattermapbox": [
           {
            "marker": {
             "colorbar": {
              "outlinewidth": 0,
              "ticks": ""
             }
            },
            "type": "scattermapbox"
           }
          ],
          "scatterpolar": [
           {
            "marker": {
             "colorbar": {
              "outlinewidth": 0,
              "ticks": ""
             }
            },
            "type": "scatterpolar"
           }
          ],
          "scatterpolargl": [
           {
            "marker": {
             "colorbar": {
              "outlinewidth": 0,
              "ticks": ""
             }
            },
            "type": "scatterpolargl"
           }
          ],
          "scatterternary": [
           {
            "marker": {
             "colorbar": {
              "outlinewidth": 0,
              "ticks": ""
             }
            },
            "type": "scatterternary"
           }
          ],
          "surface": [
           {
            "colorbar": {
             "outlinewidth": 0,
             "ticks": ""
            },
            "colorscale": [
             [
              0,
              "#0d0887"
             ],
             [
              0.1111111111111111,
              "#46039f"
             ],
             [
              0.2222222222222222,
              "#7201a8"
             ],
             [
              0.3333333333333333,
              "#9c179e"
             ],
             [
              0.4444444444444444,
              "#bd3786"
             ],
             [
              0.5555555555555556,
              "#d8576b"
             ],
             [
              0.6666666666666666,
              "#ed7953"
             ],
             [
              0.7777777777777778,
              "#fb9f3a"
             ],
             [
              0.8888888888888888,
              "#fdca26"
             ],
             [
              1,
              "#f0f921"
             ]
            ],
            "type": "surface"
           }
          ],
          "table": [
           {
            "cells": {
             "fill": {
              "color": "#EBF0F8"
             },
             "line": {
              "color": "white"
             }
            },
            "header": {
             "fill": {
              "color": "#C8D4E3"
             },
             "line": {
              "color": "white"
             }
            },
            "type": "table"
           }
          ]
         },
         "layout": {
          "annotationdefaults": {
           "arrowcolor": "#2a3f5f",
           "arrowhead": 0,
           "arrowwidth": 1
          },
          "autotypenumbers": "strict",
          "coloraxis": {
           "colorbar": {
            "outlinewidth": 0,
            "ticks": ""
           }
          },
          "colorscale": {
           "diverging": [
            [
             0,
             "#8e0152"
            ],
            [
             0.1,
             "#c51b7d"
            ],
            [
             0.2,
             "#de77ae"
            ],
            [
             0.3,
             "#f1b6da"
            ],
            [
             0.4,
             "#fde0ef"
            ],
            [
             0.5,
             "#f7f7f7"
            ],
            [
             0.6,
             "#e6f5d0"
            ],
            [
             0.7,
             "#b8e186"
            ],
            [
             0.8,
             "#7fbc41"
            ],
            [
             0.9,
             "#4d9221"
            ],
            [
             1,
             "#276419"
            ]
           ],
           "sequential": [
            [
             0,
             "#0d0887"
            ],
            [
             0.1111111111111111,
             "#46039f"
            ],
            [
             0.2222222222222222,
             "#7201a8"
            ],
            [
             0.3333333333333333,
             "#9c179e"
            ],
            [
             0.4444444444444444,
             "#bd3786"
            ],
            [
             0.5555555555555556,
             "#d8576b"
            ],
            [
             0.6666666666666666,
             "#ed7953"
            ],
            [
             0.7777777777777778,
             "#fb9f3a"
            ],
            [
             0.8888888888888888,
             "#fdca26"
            ],
            [
             1,
             "#f0f921"
            ]
           ],
           "sequentialminus": [
            [
             0,
             "#0d0887"
            ],
            [
             0.1111111111111111,
             "#46039f"
            ],
            [
             0.2222222222222222,
             "#7201a8"
            ],
            [
             0.3333333333333333,
             "#9c179e"
            ],
            [
             0.4444444444444444,
             "#bd3786"
            ],
            [
             0.5555555555555556,
             "#d8576b"
            ],
            [
             0.6666666666666666,
             "#ed7953"
            ],
            [
             0.7777777777777778,
             "#fb9f3a"
            ],
            [
             0.8888888888888888,
             "#fdca26"
            ],
            [
             1,
             "#f0f921"
            ]
           ]
          },
          "colorway": [
           "#636efa",
           "#EF553B",
           "#00cc96",
           "#ab63fa",
           "#FFA15A",
           "#19d3f3",
           "#FF6692",
           "#B6E880",
           "#FF97FF",
           "#FECB52"
          ],
          "font": {
           "color": "#2a3f5f"
          },
          "geo": {
           "bgcolor": "white",
           "lakecolor": "white",
           "landcolor": "#E5ECF6",
           "showlakes": true,
           "showland": true,
           "subunitcolor": "white"
          },
          "hoverlabel": {
           "align": "left"
          },
          "hovermode": "closest",
          "mapbox": {
           "style": "light"
          },
          "paper_bgcolor": "white",
          "plot_bgcolor": "#E5ECF6",
          "polar": {
           "angularaxis": {
            "gridcolor": "white",
            "linecolor": "white",
            "ticks": ""
           },
           "bgcolor": "#E5ECF6",
           "radialaxis": {
            "gridcolor": "white",
            "linecolor": "white",
            "ticks": ""
           }
          },
          "scene": {
           "xaxis": {
            "backgroundcolor": "#E5ECF6",
            "gridcolor": "white",
            "gridwidth": 2,
            "linecolor": "white",
            "showbackground": true,
            "ticks": "",
            "zerolinecolor": "white"
           },
           "yaxis": {
            "backgroundcolor": "#E5ECF6",
            "gridcolor": "white",
            "gridwidth": 2,
            "linecolor": "white",
            "showbackground": true,
            "ticks": "",
            "zerolinecolor": "white"
           },
           "zaxis": {
            "backgroundcolor": "#E5ECF6",
            "gridcolor": "white",
            "gridwidth": 2,
            "linecolor": "white",
            "showbackground": true,
            "ticks": "",
            "zerolinecolor": "white"
           }
          },
          "shapedefaults": {
           "line": {
            "color": "#2a3f5f"
           }
          },
          "ternary": {
           "aaxis": {
            "gridcolor": "white",
            "linecolor": "white",
            "ticks": ""
           },
           "baxis": {
            "gridcolor": "white",
            "linecolor": "white",
            "ticks": ""
           },
           "bgcolor": "#E5ECF6",
           "caxis": {
            "gridcolor": "white",
            "linecolor": "white",
            "ticks": ""
           }
          },
          "title": {
           "x": 0.05
          },
          "xaxis": {
           "automargin": true,
           "gridcolor": "white",
           "linecolor": "white",
           "ticks": "",
           "title": {
            "standoff": 15
           },
           "zerolinecolor": "white",
           "zerolinewidth": 2
          },
          "yaxis": {
           "automargin": true,
           "gridcolor": "white",
           "linecolor": "white",
           "ticks": "",
           "title": {
            "standoff": 15
           },
           "zerolinecolor": "white",
           "zerolinewidth": 2
          }
         }
        },
        "title": {
         "text": "PERCENTAGE CHANGE OF STOCKS"
        },
        "xaxis": {
         "anchor": "y",
         "domain": [
          0,
          1
         ],
         "title": {
          "text": "index"
         }
        },
        "yaxis": {
         "anchor": "x",
         "domain": [
          0,
          1
         ],
         "title": {
          "text": "Percentage change"
         }
        }
       }
      }
     },
     "metadata": {},
     "output_type": "display_data"
    }
   ],
   "source": [
    "fig = px.bar(sorted_percentage_change,y= sorted_percentage_change['Percentage change'],title='PERCENTAGE CHANGE OF STOCKS')\n",
    "fig.show()"
   ]
  },
  {
   "cell_type": "code",
   "execution_count": 79,
   "metadata": {},
   "outputs": [
    {
     "name": "stdout",
     "output_type": "stream",
     "text": [
      "     Amount of decrease\n",
      "AAA              3016.0\n",
      "AAM              1500.0\n",
      "AAT               843.0\n",
      "ABR              1900.0\n",
      "ABS             -1410.7\n",
      "..                  ...\n",
      "VSH              6695.0\n",
      "VSI              4792.0\n",
      "VTB              1331.6\n",
      "VTO              2951.8\n",
      "YBM              2560.4\n",
      "\n",
      "[353 rows x 1 columns]\n"
     ]
    }
   ],
   "source": [
    "decrease = np.array([1.1 for i in range(0, len(label))])\n",
    "i = 0\n",
    "for name in label:\n",
    "    decrease[i] = stocks[name]['Price'][0] * percentage_change['Percentage change'][i]\n",
    "    i = i + 1\n",
    "decrease_data = pd.DataFrame(data = decrease, index = [name for name in label], columns= ['Amount of decrease'])\n",
    "print(decrease_data)"
   ]
  },
  {
   "cell_type": "code",
   "execution_count": 80,
   "metadata": {},
   "outputs": [
    {
     "data": {
      "application/vnd.plotly.v1+json": {
       "config": {
        "plotlyServerURL": "https://plot.ly"
       },
       "data": [
        {
         "alignmentgroup": "True",
         "hovertemplate": "index=%{x}<br>Amount of decrease=%{y}<extra></extra>",
         "legendgroup": "",
         "marker": {
          "color": "#636efa",
          "pattern": {
           "shape": ""
          }
         },
         "name": "",
         "offsetgroup": "",
         "orientation": "v",
         "showlegend": false,
         "textposition": "auto",
         "type": "bar",
         "x": [
          "AAA",
          "AAM",
          "AAT",
          "ABR",
          "ABS",
          "ABT",
          "ACB",
          "ACC",
          "ACL",
          "ADG",
          "ADS",
          "AGG",
          "AGM",
          "AGR",
          "AMD",
          "ANV",
          "APC",
          "APG",
          "APH",
          "ASG",
          "ASM",
          "ASP",
          "AST",
          "BAF",
          "BBC",
          "BCE",
          "BCG",
          "BCM",
          "BFC",
          "BHN",
          "BIC",
          "BID",
          "BKG",
          "BMC",
          "BMI",
          "BMP",
          "BRC",
          "BSI",
          "BTP",
          "BTT",
          "BVH",
          "BWE",
          "C32",
          "C47",
          "CAV",
          "CCI",
          "CCL",
          "CDC",
          "CHP",
          "CIG",
          "CII",
          "CKG",
          "CLC",
          "CLL",
          "CLW",
          "CMG",
          "CMV",
          "CMX",
          "CNG",
          "COM",
          "CRC",
          "CRE",
          "CSM",
          "CSV",
          "CTD",
          "CTF",
          "CTG",
          "CTI",
          "CTR",
          "CVT",
          "D2D",
          "DAG",
          "DAH",
          "DAT",
          "DBC",
          "DBT",
          "DC4",
          "DCL",
          "DCM",
          "DGC",
          "DGW",
          "DHA",
          "DHC",
          "DHG",
          "DHM",
          "DIG",
          "DLG",
          "DMC",
          "DPG",
          "DQC",
          "DRC",
          "DRH",
          "DRL",
          "DSN",
          "DTA",
          "DTL",
          "DTT",
          "DVP",
          "DXG",
          "DXS",
          "DXV",
          "EIB",
          "ELC",
          "EMC",
          "EVE",
          "EVF",
          "EVG",
          "FMC",
          "FPT",
          "FRT",
          "FTS",
          "GAB",
          "GAS",
          "GDT",
          "GEG",
          "GEX",
          "GIL",
          "GMD",
          "GSP",
          "GTA",
          "GVR",
          "HAG",
          "HAH",
          "HAI",
          "HAP",
          "HAR",
          "HAS",
          "HAX",
          "HBC",
          "HCD",
          "HCM",
          "HDB",
          "HDC",
          "HDG",
          "HHP",
          "HHS",
          "HID",
          "HII",
          "HMC",
          "HNG",
          "HOT",
          "HPG",
          "HPX",
          "HQC",
          "HRC",
          "HSG",
          "HSL",
          "HT1",
          "HTI",
          "HTL",
          "HTN",
          "HTV",
          "HU1",
          "HU3",
          "HUB",
          "HVH",
          "HVX",
          "IBC",
          "ICT",
          "IDI",
          "IJC",
          "ILB",
          "IMP",
          "ITA",
          "ITC",
          "ITD",
          "JVC",
          "KBC",
          "KDC",
          "KHG",
          "KHP",
          "KMR",
          "KOS",
          "KPF",
          "KSB",
          "L10",
          "LAF",
          "LBM",
          "LCG",
          "LDG",
          "LGL",
          "LHG",
          "LIX",
          "LM8",
          "LPB",
          "LSS",
          "MBB",
          "MCG",
          "MCP",
          "MDG",
          "MHC",
          "MIG",
          "MSB",
          "MSH",
          "MSN",
          "MWG",
          "NAF",
          "NAV",
          "NCT",
          "NHA",
          "NHH",
          "NHT",
          "NKG",
          "NLG",
          "NNC",
          "NSC",
          "NT2",
          "NTL",
          "NVL",
          "NVT",
          "OCB",
          "OGC",
          "OPC",
          "ORS",
          "PAC",
          "PAN",
          "PC1",
          "PDN",
          "PDR",
          "PET",
          "PGC",
          "PGD",
          "PGI",
          "PGV",
          "PHC",
          "PHR",
          "PIT",
          "PJT",
          "PLP",
          "PLX",
          "PMG",
          "PNC",
          "PNJ",
          "POM",
          "POW",
          "PPC",
          "PSH",
          "PTB",
          "PTC",
          "PTL",
          "PVD",
          "PVT",
          "QBS",
          "QCG",
          "RAL",
          "RDP",
          "REE",
          "S4A",
          "SAB",
          "SAM",
          "SAV",
          "SBA",
          "SBT",
          "SBV",
          "SC5",
          "SCD",
          "SCR",
          "SCS",
          "SFC",
          "SFG",
          "SFI",
          "SGN",
          "SGR",
          "SGT",
          "SHA",
          "SHB",
          "SHI",
          "SHP",
          "SII",
          "SJD",
          "SJF",
          "SJS",
          "SKG",
          "SMA",
          "SMB",
          "SMC",
          "SPM",
          "SRC",
          "SRF",
          "SSB",
          "SSC",
          "SSI",
          "ST8",
          "STG",
          "STK",
          "SVC",
          "SVD",
          "SVI",
          "SVT",
          "SZC",
          "SZL",
          "TBC",
          "TCB",
          "TCD",
          "TCH",
          "TCL",
          "TCM",
          "TCO",
          "TCR",
          "TCT",
          "TDC",
          "TDG",
          "TDH",
          "TDM",
          "TDP",
          "TDW",
          "TEG",
          "TGG",
          "THG",
          "THI",
          "TIP",
          "TIX",
          "TLD",
          "TLG",
          "TLH",
          "TMP",
          "TMS",
          "TMT",
          "TN1",
          "TNA",
          "TNC",
          "TNH",
          "TNI",
          "TNT",
          "TPB",
          "TPC",
          "TRA",
          "TRC",
          "TSC",
          "TTA",
          "TTB",
          "VJC",
          "VMD",
          "VND",
          "VNE",
          "VNG",
          "VNL",
          "VNM",
          "VNS",
          "VOS",
          "VPB",
          "VPD",
          "VPH",
          "VPI",
          "VPS",
          "VRC",
          "VRE",
          "VSC",
          "VSH",
          "VSI",
          "VTB",
          "VTO",
          "YBM"
         ],
         "xaxis": "x",
         "y": [
          3016,
          1500,
          843,
          1900,
          -1410.7000000000007,
          7094.000000000001,
          -1160,
          8993.900000000001,
          5644,
          9742.330000000002,
          13336.2,
          154,
          6100,
          10750,
          2940,
          848.9000000000015,
          2800,
          12871,
          -17080,
          -3000,
          6846.100000000002,
          6353.9,
          1000,
          7665.999999999999,
          850,
          6907.700000000001,
          12974.300000000001,
          10669,
          3784,
          -1444,
          7938,
          -334.59999999999854,
          2086.199999999999,
          8779.4,
          12501,
          956,
          4013,
          18496.8,
          1303,
          -6997.999999999999,
          -2172,
          8842,
          8232,
          14973.9,
          2862,
          7401,
          3660.7000000000007,
          3700,
          4625.4000000000015,
          7800,
          27350,
          18190.68,
          4385.5,
          700,
          -2077,
          17336.600000000002,
          54.00000000000001,
          6011,
          7180.600000000003,
          -48,
          2707.5,
          8833.000000000002,
          1100,
          14063.1,
          45660,
          729.5999999999985,
          -5728.699999999997,
          12420.1,
          12679,
          4900,
          6855,
          9460,
          1600,
          -4203,
          5586,
          -2100,
          9222.199999999999,
          -7200,
          15147.199999999995,
          35582.600000000006,
          32600.999999999996,
          11314.900000000001,
          4785,
          16755,
          1400,
          57991.8,
          5840,
          2777,
          41081.700000000004,
          11956,
          1405.6000000000022,
          13402.699999999999,
          8651.099999999999,
          10290,
          13650,
          10500,
          3900,
          10689,
          8000,
          5770.75,
          3690,
          5500,
          8978.7,
          350,
          3378.8999999999996,
          1128,
          8465.2,
          14752,
          4148.199999999997,
          48433,
          15891.999999999998,
          1574,
          1947.0000000000002,
          3752,
          7856,
          19905.300000000003,
          10819,
          3711,
          4588.5,
          2408.800000000001,
          536,
          7500,
          25241.100000000006,
          3820,
          2886.9000000000015,
          8910,
          -1050,
          4673.399999999998,
          14697.400000000001,
          6658.1,
          4788.0999999999985,
          1352,
          33440,
          24788,
          2100,
          5201.3,
          6700,
          1967.6000000000001,
          -746.2000000000007,
          1450.0000000000002,
          -2000,
          -4843.700000000004,
          3126.0999999999985,
          5050,
          -13300,
          -4333.299999999999,
          2828.6000000000004,
          7088,
          2358.800000000001,
          3908,
          24055.5,
          1511,
          4800,
          1056.8999999999996,
          8666.599999999999,
          2050,
          2285.5,
          -1300,
          1127,
          9320,
          515,
          5739.9000000000015,
          -1662,
          9150,
          8793.400000000001,
          1428.6000000000004,
          6130,
          15975,
          -1766,
          -1007.2000000000007,
          15316,
          720,
          3200,
          8490.5,
          18936,
          12500,
          9100,
          13146.299999999996,
          8928,
          14160,
          6400,
          8968,
          -5710.5999999999985,
          5561.199999999999,
          -3976,
          3950.0000000000005,
          -2737.7000000000007,
          7400,
          6970,
          1641.5,
          3114.1000000000004,
          4652,
          3964.4900000000016,
          13532.200000000004,
          47566.99999999999,
          17571,
          -5050,
          5986.5,
          11332,
          33984.8,
          -12902,
          1025,
          6770.300000000003,
          28576.199999999997,
          2000,
          -900,
          5937,
          14326.999999999998,
          -603,
          1750,
          2580,
          5260,
          496.99999999999994,
          23528,
          -481.40000000000146,
          11300,
          15050.7,
          12057.999999999998,
          -513.5,
          14349.999999999998,
          5956.700000000001,
          4098,
          5632,
          20626,
          2711.6000000000004,
          18143,
          3500,
          1251.2000000000007,
          5993.799999999999,
          -1600,
          -1200,
          3900,
          -3341,
          -2600,
          5598.4,
          -588,
          -2064,
          7891,
          15166.699999999999,
          11560,
          5606,
          4019.4000000000015,
          5320,
          8230,
          -16117,
          3180,
          9887,
          1800.7000000000007,
          -16339,
          14323.2,
          937.2999999999993,
          3998.9,
          4253,
          3530.5,
          3149,
          700,
          8935.2,
          11788,
          1012,
          8692.7,
          21321.5,
          2766,
          10372.3,
          9951.4,
          2609.5,
          -672,
          -3817,
          4017,
          450,
          3048.800000000003,
          8310,
          20600,
          6099.999999999999,
          370,
          3312,
          912.9000000000015,
          7393.5,
          3237.9999999999995,
          5527,
          7986.899999999998,
          -5056,
          11025.700000000006,
          2253.8,
          11000,
          15578.199999999997,
          41704,
          1645.2900000000009,
          -3341,
          2273.5,
          29766.100000000006,
          13791.800000000003,
          4468.600000000002,
          -3300,
          16941,
          7611.600000000003,
          3029,
          -20956,
          9783.3,
          3920,
          10291,
          8300.5,
          7430,
          5870,
          7367,
          1964,
          1755,
          2088.7000000000007,
          8200,
          7739,
          2954,
          2687,
          3084,
          7189.699999999999,
          8016,
          2950,
          11287,
          26690.999999999996,
          9471.800000000001,
          1264,
          6650,
          7797,
          20240,
          5420,
          10300,
          13494.400000000001,
          1381.3999999999996,
          14707,
          7333.899999999995,
          3685.1000000000004,
          2547,
          5200,
          7600,
          7600.000000000001,
          14152.900000000001,
          7300,
          1200,
          7641,
          -2810.600000000006,
          1650,
          12090,
          -2207.7000000000007,
          3501,
          7946.4,
          20322,
          192,
          22880,
          -1700,
          8710.5,
          6695,
          4792,
          1331.6000000000004,
          2951.7999999999993,
          2560.3999999999996
         ],
         "yaxis": "y"
        }
       ],
       "layout": {
        "barmode": "relative",
        "legend": {
         "tracegroupgap": 0
        },
        "template": {
         "data": {
          "bar": [
           {
            "error_x": {
             "color": "#2a3f5f"
            },
            "error_y": {
             "color": "#2a3f5f"
            },
            "marker": {
             "line": {
              "color": "#E5ECF6",
              "width": 0.5
             },
             "pattern": {
              "fillmode": "overlay",
              "size": 10,
              "solidity": 0.2
             }
            },
            "type": "bar"
           }
          ],
          "barpolar": [
           {
            "marker": {
             "line": {
              "color": "#E5ECF6",
              "width": 0.5
             },
             "pattern": {
              "fillmode": "overlay",
              "size": 10,
              "solidity": 0.2
             }
            },
            "type": "barpolar"
           }
          ],
          "carpet": [
           {
            "aaxis": {
             "endlinecolor": "#2a3f5f",
             "gridcolor": "white",
             "linecolor": "white",
             "minorgridcolor": "white",
             "startlinecolor": "#2a3f5f"
            },
            "baxis": {
             "endlinecolor": "#2a3f5f",
             "gridcolor": "white",
             "linecolor": "white",
             "minorgridcolor": "white",
             "startlinecolor": "#2a3f5f"
            },
            "type": "carpet"
           }
          ],
          "choropleth": [
           {
            "colorbar": {
             "outlinewidth": 0,
             "ticks": ""
            },
            "type": "choropleth"
           }
          ],
          "contour": [
           {
            "colorbar": {
             "outlinewidth": 0,
             "ticks": ""
            },
            "colorscale": [
             [
              0,
              "#0d0887"
             ],
             [
              0.1111111111111111,
              "#46039f"
             ],
             [
              0.2222222222222222,
              "#7201a8"
             ],
             [
              0.3333333333333333,
              "#9c179e"
             ],
             [
              0.4444444444444444,
              "#bd3786"
             ],
             [
              0.5555555555555556,
              "#d8576b"
             ],
             [
              0.6666666666666666,
              "#ed7953"
             ],
             [
              0.7777777777777778,
              "#fb9f3a"
             ],
             [
              0.8888888888888888,
              "#fdca26"
             ],
             [
              1,
              "#f0f921"
             ]
            ],
            "type": "contour"
           }
          ],
          "contourcarpet": [
           {
            "colorbar": {
             "outlinewidth": 0,
             "ticks": ""
            },
            "type": "contourcarpet"
           }
          ],
          "heatmap": [
           {
            "colorbar": {
             "outlinewidth": 0,
             "ticks": ""
            },
            "colorscale": [
             [
              0,
              "#0d0887"
             ],
             [
              0.1111111111111111,
              "#46039f"
             ],
             [
              0.2222222222222222,
              "#7201a8"
             ],
             [
              0.3333333333333333,
              "#9c179e"
             ],
             [
              0.4444444444444444,
              "#bd3786"
             ],
             [
              0.5555555555555556,
              "#d8576b"
             ],
             [
              0.6666666666666666,
              "#ed7953"
             ],
             [
              0.7777777777777778,
              "#fb9f3a"
             ],
             [
              0.8888888888888888,
              "#fdca26"
             ],
             [
              1,
              "#f0f921"
             ]
            ],
            "type": "heatmap"
           }
          ],
          "heatmapgl": [
           {
            "colorbar": {
             "outlinewidth": 0,
             "ticks": ""
            },
            "colorscale": [
             [
              0,
              "#0d0887"
             ],
             [
              0.1111111111111111,
              "#46039f"
             ],
             [
              0.2222222222222222,
              "#7201a8"
             ],
             [
              0.3333333333333333,
              "#9c179e"
             ],
             [
              0.4444444444444444,
              "#bd3786"
             ],
             [
              0.5555555555555556,
              "#d8576b"
             ],
             [
              0.6666666666666666,
              "#ed7953"
             ],
             [
              0.7777777777777778,
              "#fb9f3a"
             ],
             [
              0.8888888888888888,
              "#fdca26"
             ],
             [
              1,
              "#f0f921"
             ]
            ],
            "type": "heatmapgl"
           }
          ],
          "histogram": [
           {
            "marker": {
             "pattern": {
              "fillmode": "overlay",
              "size": 10,
              "solidity": 0.2
             }
            },
            "type": "histogram"
           }
          ],
          "histogram2d": [
           {
            "colorbar": {
             "outlinewidth": 0,
             "ticks": ""
            },
            "colorscale": [
             [
              0,
              "#0d0887"
             ],
             [
              0.1111111111111111,
              "#46039f"
             ],
             [
              0.2222222222222222,
              "#7201a8"
             ],
             [
              0.3333333333333333,
              "#9c179e"
             ],
             [
              0.4444444444444444,
              "#bd3786"
             ],
             [
              0.5555555555555556,
              "#d8576b"
             ],
             [
              0.6666666666666666,
              "#ed7953"
             ],
             [
              0.7777777777777778,
              "#fb9f3a"
             ],
             [
              0.8888888888888888,
              "#fdca26"
             ],
             [
              1,
              "#f0f921"
             ]
            ],
            "type": "histogram2d"
           }
          ],
          "histogram2dcontour": [
           {
            "colorbar": {
             "outlinewidth": 0,
             "ticks": ""
            },
            "colorscale": [
             [
              0,
              "#0d0887"
             ],
             [
              0.1111111111111111,
              "#46039f"
             ],
             [
              0.2222222222222222,
              "#7201a8"
             ],
             [
              0.3333333333333333,
              "#9c179e"
             ],
             [
              0.4444444444444444,
              "#bd3786"
             ],
             [
              0.5555555555555556,
              "#d8576b"
             ],
             [
              0.6666666666666666,
              "#ed7953"
             ],
             [
              0.7777777777777778,
              "#fb9f3a"
             ],
             [
              0.8888888888888888,
              "#fdca26"
             ],
             [
              1,
              "#f0f921"
             ]
            ],
            "type": "histogram2dcontour"
           }
          ],
          "mesh3d": [
           {
            "colorbar": {
             "outlinewidth": 0,
             "ticks": ""
            },
            "type": "mesh3d"
           }
          ],
          "parcoords": [
           {
            "line": {
             "colorbar": {
              "outlinewidth": 0,
              "ticks": ""
             }
            },
            "type": "parcoords"
           }
          ],
          "pie": [
           {
            "automargin": true,
            "type": "pie"
           }
          ],
          "scatter": [
           {
            "fillpattern": {
             "fillmode": "overlay",
             "size": 10,
             "solidity": 0.2
            },
            "type": "scatter"
           }
          ],
          "scatter3d": [
           {
            "line": {
             "colorbar": {
              "outlinewidth": 0,
              "ticks": ""
             }
            },
            "marker": {
             "colorbar": {
              "outlinewidth": 0,
              "ticks": ""
             }
            },
            "type": "scatter3d"
           }
          ],
          "scattercarpet": [
           {
            "marker": {
             "colorbar": {
              "outlinewidth": 0,
              "ticks": ""
             }
            },
            "type": "scattercarpet"
           }
          ],
          "scattergeo": [
           {
            "marker": {
             "colorbar": {
              "outlinewidth": 0,
              "ticks": ""
             }
            },
            "type": "scattergeo"
           }
          ],
          "scattergl": [
           {
            "marker": {
             "colorbar": {
              "outlinewidth": 0,
              "ticks": ""
             }
            },
            "type": "scattergl"
           }
          ],
          "scattermapbox": [
           {
            "marker": {
             "colorbar": {
              "outlinewidth": 0,
              "ticks": ""
             }
            },
            "type": "scattermapbox"
           }
          ],
          "scatterpolar": [
           {
            "marker": {
             "colorbar": {
              "outlinewidth": 0,
              "ticks": ""
             }
            },
            "type": "scatterpolar"
           }
          ],
          "scatterpolargl": [
           {
            "marker": {
             "colorbar": {
              "outlinewidth": 0,
              "ticks": ""
             }
            },
            "type": "scatterpolargl"
           }
          ],
          "scatterternary": [
           {
            "marker": {
             "colorbar": {
              "outlinewidth": 0,
              "ticks": ""
             }
            },
            "type": "scatterternary"
           }
          ],
          "surface": [
           {
            "colorbar": {
             "outlinewidth": 0,
             "ticks": ""
            },
            "colorscale": [
             [
              0,
              "#0d0887"
             ],
             [
              0.1111111111111111,
              "#46039f"
             ],
             [
              0.2222222222222222,
              "#7201a8"
             ],
             [
              0.3333333333333333,
              "#9c179e"
             ],
             [
              0.4444444444444444,
              "#bd3786"
             ],
             [
              0.5555555555555556,
              "#d8576b"
             ],
             [
              0.6666666666666666,
              "#ed7953"
             ],
             [
              0.7777777777777778,
              "#fb9f3a"
             ],
             [
              0.8888888888888888,
              "#fdca26"
             ],
             [
              1,
              "#f0f921"
             ]
            ],
            "type": "surface"
           }
          ],
          "table": [
           {
            "cells": {
             "fill": {
              "color": "#EBF0F8"
             },
             "line": {
              "color": "white"
             }
            },
            "header": {
             "fill": {
              "color": "#C8D4E3"
             },
             "line": {
              "color": "white"
             }
            },
            "type": "table"
           }
          ]
         },
         "layout": {
          "annotationdefaults": {
           "arrowcolor": "#2a3f5f",
           "arrowhead": 0,
           "arrowwidth": 1
          },
          "autotypenumbers": "strict",
          "coloraxis": {
           "colorbar": {
            "outlinewidth": 0,
            "ticks": ""
           }
          },
          "colorscale": {
           "diverging": [
            [
             0,
             "#8e0152"
            ],
            [
             0.1,
             "#c51b7d"
            ],
            [
             0.2,
             "#de77ae"
            ],
            [
             0.3,
             "#f1b6da"
            ],
            [
             0.4,
             "#fde0ef"
            ],
            [
             0.5,
             "#f7f7f7"
            ],
            [
             0.6,
             "#e6f5d0"
            ],
            [
             0.7,
             "#b8e186"
            ],
            [
             0.8,
             "#7fbc41"
            ],
            [
             0.9,
             "#4d9221"
            ],
            [
             1,
             "#276419"
            ]
           ],
           "sequential": [
            [
             0,
             "#0d0887"
            ],
            [
             0.1111111111111111,
             "#46039f"
            ],
            [
             0.2222222222222222,
             "#7201a8"
            ],
            [
             0.3333333333333333,
             "#9c179e"
            ],
            [
             0.4444444444444444,
             "#bd3786"
            ],
            [
             0.5555555555555556,
             "#d8576b"
            ],
            [
             0.6666666666666666,
             "#ed7953"
            ],
            [
             0.7777777777777778,
             "#fb9f3a"
            ],
            [
             0.8888888888888888,
             "#fdca26"
            ],
            [
             1,
             "#f0f921"
            ]
           ],
           "sequentialminus": [
            [
             0,
             "#0d0887"
            ],
            [
             0.1111111111111111,
             "#46039f"
            ],
            [
             0.2222222222222222,
             "#7201a8"
            ],
            [
             0.3333333333333333,
             "#9c179e"
            ],
            [
             0.4444444444444444,
             "#bd3786"
            ],
            [
             0.5555555555555556,
             "#d8576b"
            ],
            [
             0.6666666666666666,
             "#ed7953"
            ],
            [
             0.7777777777777778,
             "#fb9f3a"
            ],
            [
             0.8888888888888888,
             "#fdca26"
            ],
            [
             1,
             "#f0f921"
            ]
           ]
          },
          "colorway": [
           "#636efa",
           "#EF553B",
           "#00cc96",
           "#ab63fa",
           "#FFA15A",
           "#19d3f3",
           "#FF6692",
           "#B6E880",
           "#FF97FF",
           "#FECB52"
          ],
          "font": {
           "color": "#2a3f5f"
          },
          "geo": {
           "bgcolor": "white",
           "lakecolor": "white",
           "landcolor": "#E5ECF6",
           "showlakes": true,
           "showland": true,
           "subunitcolor": "white"
          },
          "hoverlabel": {
           "align": "left"
          },
          "hovermode": "closest",
          "mapbox": {
           "style": "light"
          },
          "paper_bgcolor": "white",
          "plot_bgcolor": "#E5ECF6",
          "polar": {
           "angularaxis": {
            "gridcolor": "white",
            "linecolor": "white",
            "ticks": ""
           },
           "bgcolor": "#E5ECF6",
           "radialaxis": {
            "gridcolor": "white",
            "linecolor": "white",
            "ticks": ""
           }
          },
          "scene": {
           "xaxis": {
            "backgroundcolor": "#E5ECF6",
            "gridcolor": "white",
            "gridwidth": 2,
            "linecolor": "white",
            "showbackground": true,
            "ticks": "",
            "zerolinecolor": "white"
           },
           "yaxis": {
            "backgroundcolor": "#E5ECF6",
            "gridcolor": "white",
            "gridwidth": 2,
            "linecolor": "white",
            "showbackground": true,
            "ticks": "",
            "zerolinecolor": "white"
           },
           "zaxis": {
            "backgroundcolor": "#E5ECF6",
            "gridcolor": "white",
            "gridwidth": 2,
            "linecolor": "white",
            "showbackground": true,
            "ticks": "",
            "zerolinecolor": "white"
           }
          },
          "shapedefaults": {
           "line": {
            "color": "#2a3f5f"
           }
          },
          "ternary": {
           "aaxis": {
            "gridcolor": "white",
            "linecolor": "white",
            "ticks": ""
           },
           "baxis": {
            "gridcolor": "white",
            "linecolor": "white",
            "ticks": ""
           },
           "bgcolor": "#E5ECF6",
           "caxis": {
            "gridcolor": "white",
            "linecolor": "white",
            "ticks": ""
           }
          },
          "title": {
           "x": 0.05
          },
          "xaxis": {
           "automargin": true,
           "gridcolor": "white",
           "linecolor": "white",
           "ticks": "",
           "title": {
            "standoff": 15
           },
           "zerolinecolor": "white",
           "zerolinewidth": 2
          },
          "yaxis": {
           "automargin": true,
           "gridcolor": "white",
           "linecolor": "white",
           "ticks": "",
           "title": {
            "standoff": 15
           },
           "zerolinecolor": "white",
           "zerolinewidth": 2
          }
         }
        },
        "title": {
         "text": "AMOUNT OF DECREASE"
        },
        "xaxis": {
         "anchor": "y",
         "domain": [
          0,
          1
         ],
         "title": {
          "text": "index"
         }
        },
        "yaxis": {
         "anchor": "x",
         "domain": [
          0,
          1
         ],
         "title": {
          "text": "Amount of decrease"
         }
        }
       }
      }
     },
     "metadata": {},
     "output_type": "display_data"
    }
   ],
   "source": [
    "fig = px.bar(decrease_data,y= decrease_data['Amount of decrease'],title='AMOUNT OF DECREASE')\n",
    "fig.show()"
   ]
  },
  {
   "cell_type": "code",
   "execution_count": 81,
   "metadata": {},
   "outputs": [
    {
     "name": "stdout",
     "output_type": "stream",
     "text": [
      "     Amount of decrease\n",
      "DIG             57991.8\n",
      "FRT             48433.0\n",
      "MSN             47567.0\n",
      "CTD             45660.0\n",
      "SVC             41704.0\n",
      "..                  ...\n",
      "HRC            -13300.0\n",
      "RAL            -16117.0\n",
      "SAB            -16339.0\n",
      "APH            -17080.0\n",
      "TCM            -20956.0\n",
      "\n",
      "[353 rows x 1 columns]\n"
     ]
    }
   ],
   "source": [
    "new_label = np.copy(label) \n",
    "new_decrease = np.copy(decrease)\n",
    "for i in range(0,len(label) - 1):\n",
    "    for j in range(i+1, len(label)):\n",
    "        if(new_decrease[i] < new_decrease[j]):\n",
    "            swap = new_decrease[i]\n",
    "            new_decrease[i] = new_decrease[j]\n",
    "            new_decrease[j] = swap\n",
    "            new_swap = new_label[i]\n",
    "            new_label[i] = new_label[j]\n",
    "            new_label[j] = new_swap\n",
    "sorted_decrease_data = pd.DataFrame(data = new_decrease, index = [name for name in new_label], columns= ['Amount of decrease'])\n",
    "print(sorted_decrease_data)"
   ]
  },
  {
   "cell_type": "code",
   "execution_count": 82,
   "metadata": {},
   "outputs": [
    {
     "data": {
      "text/html": [
       "<div>\n",
       "<style scoped>\n",
       "    .dataframe tbody tr th:only-of-type {\n",
       "        vertical-align: middle;\n",
       "    }\n",
       "\n",
       "    .dataframe tbody tr th {\n",
       "        vertical-align: top;\n",
       "    }\n",
       "\n",
       "    .dataframe thead th {\n",
       "        text-align: right;\n",
       "    }\n",
       "</style>\n",
       "<table border=\"1\" class=\"dataframe\">\n",
       "  <thead>\n",
       "    <tr style=\"text-align: right;\">\n",
       "      <th></th>\n",
       "      <th>Amount of decrease</th>\n",
       "    </tr>\n",
       "  </thead>\n",
       "  <tbody>\n",
       "    <tr>\n",
       "      <th>HRC</th>\n",
       "      <td>-13300.0</td>\n",
       "    </tr>\n",
       "    <tr>\n",
       "      <th>RAL</th>\n",
       "      <td>-16117.0</td>\n",
       "    </tr>\n",
       "    <tr>\n",
       "      <th>SAB</th>\n",
       "      <td>-16339.0</td>\n",
       "    </tr>\n",
       "    <tr>\n",
       "      <th>APH</th>\n",
       "      <td>-17080.0</td>\n",
       "    </tr>\n",
       "    <tr>\n",
       "      <th>TCM</th>\n",
       "      <td>-20956.0</td>\n",
       "    </tr>\n",
       "  </tbody>\n",
       "</table>\n",
       "</div>"
      ],
      "text/plain": [
       "     Amount of decrease\n",
       "HRC            -13300.0\n",
       "RAL            -16117.0\n",
       "SAB            -16339.0\n",
       "APH            -17080.0\n",
       "TCM            -20956.0"
      ]
     },
     "execution_count": 82,
     "metadata": {},
     "output_type": "execute_result"
    }
   ],
   "source": [
    "sorted_decrease_data.tail(5)"
   ]
  },
  {
   "cell_type": "code",
   "execution_count": 83,
   "metadata": {},
   "outputs": [
    {
     "data": {
      "application/vnd.plotly.v1+json": {
       "config": {
        "plotlyServerURL": "https://plot.ly"
       },
       "data": [
        {
         "alignmentgroup": "True",
         "hovertemplate": "index=%{x}<br>Amount of decrease=%{y}<extra></extra>",
         "legendgroup": "",
         "marker": {
          "color": "#636efa",
          "pattern": {
           "shape": ""
          }
         },
         "name": "",
         "offsetgroup": "",
         "orientation": "v",
         "showlegend": false,
         "textposition": "auto",
         "type": "bar",
         "x": [
          "DIG",
          "FRT",
          "MSN",
          "CTD",
          "SVC",
          "DPG",
          "DGC",
          "NHA",
          "HDC",
          "DGW",
          "SZC",
          "NLG",
          "CII",
          "TMS",
          "HAH",
          "HDG",
          "HTN",
          "ORS",
          "VRC",
          "SFI",
          "PGV",
          "SJS",
          "VPI",
          "TNH",
          "GEX",
          "KSB",
          "BSI",
          "CKG",
          "PHR",
          "MWG",
          "CMG",
          "TCD",
          "DHG",
          "KBC",
          "FTS",
          "STK",
          "KHP",
          "PTC",
          "DCM",
          "PC1",
          "C47",
          "FMC",
          "TRA",
          "HBC",
          "PET",
          "NTL",
          "SAM",
          "LDG",
          "VND",
          "CSV",
          "SZL",
          "DTA",
          "MSH",
          "TPB",
          "DRH",
          "ADS",
          "LBM",
          "BCG",
          "APG",
          "CTR",
          "BMI",
          "L10",
          "CTI",
          "VOS",
          "PDN",
          "DQC",
          "SCS",
          "PTL",
          "NCT",
          "DHA",
          "PAN",
          "TMP",
          "SSI",
          "STG",
          "GIL",
          "AGR",
          "DVP",
          "BCM",
          "DTL",
          "SGR",
          "TNT",
          "TCT",
          "DSN",
          "SGT",
          "REE",
          "TCO",
          "ADG",
          "TMT",
          "DAG",
          "IDI",
          "DC4",
          "ITA",
          "LAF",
          "ACC",
          "ELC",
          "LHG",
          "SCR",
          "LCG",
          "HAR",
          "BWE",
          "CRE",
          "ITC",
          "BMC",
          "VSC",
          "SFG",
          "HUB",
          "DRL",
          "KPF",
          "EVG",
          "SJF",
          "TDC",
          "C32",
          "QCG",
          "TGG",
          "TLG",
          "DXG",
          "SSB",
          "VPH",
          "BIC",
          "PTB",
          "GEG",
          "CIG",
          "TNC",
          "THG",
          "BAF",
          "VNL",
          "TCH",
          "VMD",
          "VJC",
          "HAG",
          "TDG",
          "CCI",
          "MCG",
          "SPM",
          "TDM",
          "TRC",
          "VNE",
          "TLD",
          "CNG",
          "ABT",
          "HT1",
          "MCP",
          "BCE",
          "D2D",
          "ASM",
          "NKG",
          "HID",
          "VSH",
          "HCD",
          "TNA",
          "LGL",
          "ASP",
          "JVC",
          "AGM",
          "SKG",
          "CMX",
          "PLP",
          "NAV",
          "PGC",
          "NT2",
          "TDH",
          "DLG",
          "DXS",
          "ILB",
          "ACL",
          "PGI",
          "PVD",
          "POW",
          "DBC",
          "LM8",
          "SRF",
          "EIB",
          "TNI",
          "QBS",
          "OGC",
          "HHS",
          "TTB",
          "HQC",
          "CVT",
          "HU1",
          "VSI",
          "HCM",
          "DHC",
          "HAX",
          "MIG",
          "CHP",
          "GSP",
          "TBC",
          "CLC",
          "SBT",
          "FPT",
          "PGD",
          "PVT",
          "SHP",
          "BRC",
          "SBA",
          "MSB",
          "LSS",
          "TCR",
          "HTL",
          "PNC",
          "DTT",
          "HAI",
          "BFC",
          "GDT",
          "GMD",
          "CDC",
          "DXV",
          "TSC",
          "CCL",
          "SBV",
          "VPD",
          "PIT",
          "EVE",
          "SMB",
          "SRC",
          "KOS",
          "RDP",
          "SC5",
          "HPX",
          "MHC",
          "TIX",
          "SJD",
          "TCL",
          "AAA",
          "THI",
          "VTO",
          "TLH",
          "AMD",
          "HAP",
          "CAV",
          "HSL",
          "APC",
          "DMC",
          "SGN",
          "PHC",
          "CRC",
          "TIP",
          "SHA",
          "OCB",
          "YBM",
          "TTA",
          "GTA",
          "HTI",
          "HVX",
          "SVT",
          "ST8",
          "HHP",
          "TEG",
          "BKG",
          "HVH",
          "NNC",
          "HII",
          "TDP",
          "GAS",
          "ABR",
          "S4A",
          "TDW",
          "NVT",
          "VNS",
          "SVD",
          "MDG",
          "DAH",
          "GAB",
          "HTV",
          "AAM",
          "HNG",
          "ITD",
          "DRC",
          "DHM",
          "TPC",
          "HDB",
          "VTB",
          "BTP",
          "TN1",
          "PJT",
          "VNG",
          "EVF",
          "ICT",
          "CSM",
          "HU3",
          "NHT",
          "SFC",
          "AST",
          "BMP",
          "SAV",
          "SMC",
          "BBC",
          "ANV",
          "AAT",
          "CTF",
          "KMR",
          "SCD",
          "CLL",
          "GVR",
          "IJC",
          "OPC",
          "SII",
          "SMA",
          "EMC",
          "VPS",
          "AGG",
          "CMV",
          "COM",
          "BID",
          "PAC",
          "PDR",
          "PPC",
          "NVL",
          "SHB",
          "HMC",
          "NSC",
          "KHG",
          "HAS",
          "ACB",
          "PMG",
          "IBC",
          "ABS",
          "BHN",
          "PLX",
          "IMP",
          "VRE",
          "KDC",
          "HOT",
          "PSH",
          "CLW",
          "DBT",
          "BVH",
          "VPB",
          "POM",
          "MBB",
          "VNM",
          "ASG",
          "TCB",
          "PNJ",
          "SVI",
          "SHI",
          "LPB",
          "DAT",
          "HSG",
          "HPG",
          "NAF",
          "SSC",
          "LIX",
          "CTG",
          "BTT",
          "DCL",
          "NHH",
          "HRC",
          "RAL",
          "SAB",
          "APH",
          "TCM"
         ],
         "xaxis": "x",
         "y": [
          57991.8,
          48433,
          47566.99999999999,
          45660,
          41704,
          41081.700000000004,
          35582.600000000006,
          33984.8,
          33440,
          32600.999999999996,
          29766.100000000006,
          28576.199999999997,
          27350,
          26690.999999999996,
          25241.100000000006,
          24788,
          24055.5,
          23528,
          22880,
          21321.5,
          20626,
          20600,
          20322,
          20240,
          19905.300000000003,
          18936,
          18496.8,
          18190.68,
          18143,
          17571,
          17336.600000000002,
          16941,
          16755,
          15975,
          15891.999999999998,
          15578.199999999997,
          15316,
          15166.699999999999,
          15147.199999999995,
          15050.7,
          14973.9,
          14752,
          14707,
          14697.400000000001,
          14349.999999999998,
          14326.999999999998,
          14323.2,
          14160,
          14152.900000000001,
          14063.1,
          13791.800000000003,
          13650,
          13532.200000000004,
          13494.400000000001,
          13402.699999999999,
          13336.2,
          13146.299999999996,
          12974.300000000001,
          12871,
          12679,
          12501,
          12500,
          12420.1,
          12090,
          12057.999999999998,
          11956,
          11788,
          11560,
          11332,
          11314.900000000001,
          11300,
          11287,
          11025.700000000006,
          11000,
          10819,
          10750,
          10689,
          10669,
          10500,
          10372.3,
          10300,
          10291,
          10290,
          9951.4,
          9887,
          9783.3,
          9742.330000000002,
          9471.800000000001,
          9460,
          9320,
          9222.199999999999,
          9150,
          9100,
          8993.900000000001,
          8978.7,
          8968,
          8935.2,
          8928,
          8910,
          8842,
          8833.000000000002,
          8793.400000000001,
          8779.4,
          8710.5,
          8692.7,
          8666.599999999999,
          8651.099999999999,
          8490.5,
          8465.2,
          8310,
          8300.5,
          8232,
          8230,
          8200,
          8016,
          8000,
          7986.899999999998,
          7946.4,
          7938,
          7891,
          7856,
          7800,
          7797,
          7739,
          7665.999999999999,
          7641,
          7611.600000000003,
          7600.000000000001,
          7600,
          7500,
          7430,
          7401,
          7400,
          7393.5,
          7367,
          7333.899999999995,
          7300,
          7189.699999999999,
          7180.600000000003,
          7094.000000000001,
          7088,
          6970,
          6907.700000000001,
          6855,
          6846.100000000002,
          6770.300000000003,
          6700,
          6695,
          6658.1,
          6650,
          6400,
          6353.9,
          6130,
          6100,
          6099.999999999999,
          6011,
          5993.799999999999,
          5986.5,
          5956.700000000001,
          5937,
          5870,
          5840,
          5770.75,
          5739.9000000000015,
          5644,
          5632,
          5606,
          5598.4,
          5586,
          5561.199999999999,
          5527,
          5500,
          5420,
          5320,
          5260,
          5201.3,
          5200,
          5050,
          4900,
          4800,
          4792,
          4788.0999999999985,
          4785,
          4673.399999999998,
          4652,
          4625.4000000000015,
          4588.5,
          4468.600000000002,
          4385.5,
          4253,
          4148.199999999997,
          4098,
          4019.4000000000015,
          4017,
          4013,
          3998.9,
          3964.4900000000016,
          3950.0000000000005,
          3920,
          3908,
          3900,
          3900,
          3820,
          3784,
          3752,
          3711,
          3700,
          3690,
          3685.1000000000004,
          3660.7000000000007,
          3530.5,
          3501,
          3500,
          3378.8999999999996,
          3312,
          3237.9999999999995,
          3200,
          3180,
          3149,
          3126.0999999999985,
          3114.1000000000004,
          3084,
          3048.800000000003,
          3029,
          3016,
          2954,
          2951.7999999999993,
          2950,
          2940,
          2886.9000000000015,
          2862,
          2828.6000000000004,
          2800,
          2777,
          2766,
          2711.6000000000004,
          2707.5,
          2687,
          2609.5,
          2580,
          2560.3999999999996,
          2547,
          2408.800000000001,
          2358.800000000001,
          2285.5,
          2273.5,
          2253.8,
          2100,
          2088.7000000000007,
          2086.199999999999,
          2050,
          2000,
          1967.6000000000001,
          1964,
          1947.0000000000002,
          1900,
          1800.7000000000007,
          1755,
          1750,
          1650,
          1645.2900000000009,
          1641.5,
          1600,
          1574,
          1511,
          1500,
          1450.0000000000002,
          1428.6000000000004,
          1405.6000000000022,
          1400,
          1381.3999999999996,
          1352,
          1331.6000000000004,
          1303,
          1264,
          1251.2000000000007,
          1200,
          1128,
          1127,
          1100,
          1056.8999999999996,
          1025,
          1012,
          1000,
          956,
          937.2999999999993,
          912.9000000000015,
          850,
          848.9000000000015,
          843,
          729.5999999999985,
          720,
          700,
          700,
          536,
          515,
          496.99999999999994,
          450,
          370,
          350,
          192,
          154,
          54.00000000000001,
          -48,
          -334.59999999999854,
          -481.40000000000146,
          -513.5,
          -588,
          -603,
          -672,
          -746.2000000000007,
          -900,
          -1007.2000000000007,
          -1050,
          -1160,
          -1200,
          -1300,
          -1410.7000000000007,
          -1444,
          -1600,
          -1662,
          -1700,
          -1766,
          -2000,
          -2064,
          -2077,
          -2100,
          -2172,
          -2207.7000000000007,
          -2600,
          -2737.7000000000007,
          -2810.600000000006,
          -3000,
          -3300,
          -3341,
          -3341,
          -3817,
          -3976,
          -4203,
          -4333.299999999999,
          -4843.700000000004,
          -5050,
          -5056,
          -5710.5999999999985,
          -5728.699999999997,
          -6997.999999999999,
          -7200,
          -12902,
          -13300,
          -16117,
          -16339,
          -17080,
          -20956
         ],
         "yaxis": "y"
        }
       ],
       "layout": {
        "barmode": "relative",
        "legend": {
         "tracegroupgap": 0
        },
        "template": {
         "data": {
          "bar": [
           {
            "error_x": {
             "color": "#2a3f5f"
            },
            "error_y": {
             "color": "#2a3f5f"
            },
            "marker": {
             "line": {
              "color": "#E5ECF6",
              "width": 0.5
             },
             "pattern": {
              "fillmode": "overlay",
              "size": 10,
              "solidity": 0.2
             }
            },
            "type": "bar"
           }
          ],
          "barpolar": [
           {
            "marker": {
             "line": {
              "color": "#E5ECF6",
              "width": 0.5
             },
             "pattern": {
              "fillmode": "overlay",
              "size": 10,
              "solidity": 0.2
             }
            },
            "type": "barpolar"
           }
          ],
          "carpet": [
           {
            "aaxis": {
             "endlinecolor": "#2a3f5f",
             "gridcolor": "white",
             "linecolor": "white",
             "minorgridcolor": "white",
             "startlinecolor": "#2a3f5f"
            },
            "baxis": {
             "endlinecolor": "#2a3f5f",
             "gridcolor": "white",
             "linecolor": "white",
             "minorgridcolor": "white",
             "startlinecolor": "#2a3f5f"
            },
            "type": "carpet"
           }
          ],
          "choropleth": [
           {
            "colorbar": {
             "outlinewidth": 0,
             "ticks": ""
            },
            "type": "choropleth"
           }
          ],
          "contour": [
           {
            "colorbar": {
             "outlinewidth": 0,
             "ticks": ""
            },
            "colorscale": [
             [
              0,
              "#0d0887"
             ],
             [
              0.1111111111111111,
              "#46039f"
             ],
             [
              0.2222222222222222,
              "#7201a8"
             ],
             [
              0.3333333333333333,
              "#9c179e"
             ],
             [
              0.4444444444444444,
              "#bd3786"
             ],
             [
              0.5555555555555556,
              "#d8576b"
             ],
             [
              0.6666666666666666,
              "#ed7953"
             ],
             [
              0.7777777777777778,
              "#fb9f3a"
             ],
             [
              0.8888888888888888,
              "#fdca26"
             ],
             [
              1,
              "#f0f921"
             ]
            ],
            "type": "contour"
           }
          ],
          "contourcarpet": [
           {
            "colorbar": {
             "outlinewidth": 0,
             "ticks": ""
            },
            "type": "contourcarpet"
           }
          ],
          "heatmap": [
           {
            "colorbar": {
             "outlinewidth": 0,
             "ticks": ""
            },
            "colorscale": [
             [
              0,
              "#0d0887"
             ],
             [
              0.1111111111111111,
              "#46039f"
             ],
             [
              0.2222222222222222,
              "#7201a8"
             ],
             [
              0.3333333333333333,
              "#9c179e"
             ],
             [
              0.4444444444444444,
              "#bd3786"
             ],
             [
              0.5555555555555556,
              "#d8576b"
             ],
             [
              0.6666666666666666,
              "#ed7953"
             ],
             [
              0.7777777777777778,
              "#fb9f3a"
             ],
             [
              0.8888888888888888,
              "#fdca26"
             ],
             [
              1,
              "#f0f921"
             ]
            ],
            "type": "heatmap"
           }
          ],
          "heatmapgl": [
           {
            "colorbar": {
             "outlinewidth": 0,
             "ticks": ""
            },
            "colorscale": [
             [
              0,
              "#0d0887"
             ],
             [
              0.1111111111111111,
              "#46039f"
             ],
             [
              0.2222222222222222,
              "#7201a8"
             ],
             [
              0.3333333333333333,
              "#9c179e"
             ],
             [
              0.4444444444444444,
              "#bd3786"
             ],
             [
              0.5555555555555556,
              "#d8576b"
             ],
             [
              0.6666666666666666,
              "#ed7953"
             ],
             [
              0.7777777777777778,
              "#fb9f3a"
             ],
             [
              0.8888888888888888,
              "#fdca26"
             ],
             [
              1,
              "#f0f921"
             ]
            ],
            "type": "heatmapgl"
           }
          ],
          "histogram": [
           {
            "marker": {
             "pattern": {
              "fillmode": "overlay",
              "size": 10,
              "solidity": 0.2
             }
            },
            "type": "histogram"
           }
          ],
          "histogram2d": [
           {
            "colorbar": {
             "outlinewidth": 0,
             "ticks": ""
            },
            "colorscale": [
             [
              0,
              "#0d0887"
             ],
             [
              0.1111111111111111,
              "#46039f"
             ],
             [
              0.2222222222222222,
              "#7201a8"
             ],
             [
              0.3333333333333333,
              "#9c179e"
             ],
             [
              0.4444444444444444,
              "#bd3786"
             ],
             [
              0.5555555555555556,
              "#d8576b"
             ],
             [
              0.6666666666666666,
              "#ed7953"
             ],
             [
              0.7777777777777778,
              "#fb9f3a"
             ],
             [
              0.8888888888888888,
              "#fdca26"
             ],
             [
              1,
              "#f0f921"
             ]
            ],
            "type": "histogram2d"
           }
          ],
          "histogram2dcontour": [
           {
            "colorbar": {
             "outlinewidth": 0,
             "ticks": ""
            },
            "colorscale": [
             [
              0,
              "#0d0887"
             ],
             [
              0.1111111111111111,
              "#46039f"
             ],
             [
              0.2222222222222222,
              "#7201a8"
             ],
             [
              0.3333333333333333,
              "#9c179e"
             ],
             [
              0.4444444444444444,
              "#bd3786"
             ],
             [
              0.5555555555555556,
              "#d8576b"
             ],
             [
              0.6666666666666666,
              "#ed7953"
             ],
             [
              0.7777777777777778,
              "#fb9f3a"
             ],
             [
              0.8888888888888888,
              "#fdca26"
             ],
             [
              1,
              "#f0f921"
             ]
            ],
            "type": "histogram2dcontour"
           }
          ],
          "mesh3d": [
           {
            "colorbar": {
             "outlinewidth": 0,
             "ticks": ""
            },
            "type": "mesh3d"
           }
          ],
          "parcoords": [
           {
            "line": {
             "colorbar": {
              "outlinewidth": 0,
              "ticks": ""
             }
            },
            "type": "parcoords"
           }
          ],
          "pie": [
           {
            "automargin": true,
            "type": "pie"
           }
          ],
          "scatter": [
           {
            "fillpattern": {
             "fillmode": "overlay",
             "size": 10,
             "solidity": 0.2
            },
            "type": "scatter"
           }
          ],
          "scatter3d": [
           {
            "line": {
             "colorbar": {
              "outlinewidth": 0,
              "ticks": ""
             }
            },
            "marker": {
             "colorbar": {
              "outlinewidth": 0,
              "ticks": ""
             }
            },
            "type": "scatter3d"
           }
          ],
          "scattercarpet": [
           {
            "marker": {
             "colorbar": {
              "outlinewidth": 0,
              "ticks": ""
             }
            },
            "type": "scattercarpet"
           }
          ],
          "scattergeo": [
           {
            "marker": {
             "colorbar": {
              "outlinewidth": 0,
              "ticks": ""
             }
            },
            "type": "scattergeo"
           }
          ],
          "scattergl": [
           {
            "marker": {
             "colorbar": {
              "outlinewidth": 0,
              "ticks": ""
             }
            },
            "type": "scattergl"
           }
          ],
          "scattermapbox": [
           {
            "marker": {
             "colorbar": {
              "outlinewidth": 0,
              "ticks": ""
             }
            },
            "type": "scattermapbox"
           }
          ],
          "scatterpolar": [
           {
            "marker": {
             "colorbar": {
              "outlinewidth": 0,
              "ticks": ""
             }
            },
            "type": "scatterpolar"
           }
          ],
          "scatterpolargl": [
           {
            "marker": {
             "colorbar": {
              "outlinewidth": 0,
              "ticks": ""
             }
            },
            "type": "scatterpolargl"
           }
          ],
          "scatterternary": [
           {
            "marker": {
             "colorbar": {
              "outlinewidth": 0,
              "ticks": ""
             }
            },
            "type": "scatterternary"
           }
          ],
          "surface": [
           {
            "colorbar": {
             "outlinewidth": 0,
             "ticks": ""
            },
            "colorscale": [
             [
              0,
              "#0d0887"
             ],
             [
              0.1111111111111111,
              "#46039f"
             ],
             [
              0.2222222222222222,
              "#7201a8"
             ],
             [
              0.3333333333333333,
              "#9c179e"
             ],
             [
              0.4444444444444444,
              "#bd3786"
             ],
             [
              0.5555555555555556,
              "#d8576b"
             ],
             [
              0.6666666666666666,
              "#ed7953"
             ],
             [
              0.7777777777777778,
              "#fb9f3a"
             ],
             [
              0.8888888888888888,
              "#fdca26"
             ],
             [
              1,
              "#f0f921"
             ]
            ],
            "type": "surface"
           }
          ],
          "table": [
           {
            "cells": {
             "fill": {
              "color": "#EBF0F8"
             },
             "line": {
              "color": "white"
             }
            },
            "header": {
             "fill": {
              "color": "#C8D4E3"
             },
             "line": {
              "color": "white"
             }
            },
            "type": "table"
           }
          ]
         },
         "layout": {
          "annotationdefaults": {
           "arrowcolor": "#2a3f5f",
           "arrowhead": 0,
           "arrowwidth": 1
          },
          "autotypenumbers": "strict",
          "coloraxis": {
           "colorbar": {
            "outlinewidth": 0,
            "ticks": ""
           }
          },
          "colorscale": {
           "diverging": [
            [
             0,
             "#8e0152"
            ],
            [
             0.1,
             "#c51b7d"
            ],
            [
             0.2,
             "#de77ae"
            ],
            [
             0.3,
             "#f1b6da"
            ],
            [
             0.4,
             "#fde0ef"
            ],
            [
             0.5,
             "#f7f7f7"
            ],
            [
             0.6,
             "#e6f5d0"
            ],
            [
             0.7,
             "#b8e186"
            ],
            [
             0.8,
             "#7fbc41"
            ],
            [
             0.9,
             "#4d9221"
            ],
            [
             1,
             "#276419"
            ]
           ],
           "sequential": [
            [
             0,
             "#0d0887"
            ],
            [
             0.1111111111111111,
             "#46039f"
            ],
            [
             0.2222222222222222,
             "#7201a8"
            ],
            [
             0.3333333333333333,
             "#9c179e"
            ],
            [
             0.4444444444444444,
             "#bd3786"
            ],
            [
             0.5555555555555556,
             "#d8576b"
            ],
            [
             0.6666666666666666,
             "#ed7953"
            ],
            [
             0.7777777777777778,
             "#fb9f3a"
            ],
            [
             0.8888888888888888,
             "#fdca26"
            ],
            [
             1,
             "#f0f921"
            ]
           ],
           "sequentialminus": [
            [
             0,
             "#0d0887"
            ],
            [
             0.1111111111111111,
             "#46039f"
            ],
            [
             0.2222222222222222,
             "#7201a8"
            ],
            [
             0.3333333333333333,
             "#9c179e"
            ],
            [
             0.4444444444444444,
             "#bd3786"
            ],
            [
             0.5555555555555556,
             "#d8576b"
            ],
            [
             0.6666666666666666,
             "#ed7953"
            ],
            [
             0.7777777777777778,
             "#fb9f3a"
            ],
            [
             0.8888888888888888,
             "#fdca26"
            ],
            [
             1,
             "#f0f921"
            ]
           ]
          },
          "colorway": [
           "#636efa",
           "#EF553B",
           "#00cc96",
           "#ab63fa",
           "#FFA15A",
           "#19d3f3",
           "#FF6692",
           "#B6E880",
           "#FF97FF",
           "#FECB52"
          ],
          "font": {
           "color": "#2a3f5f"
          },
          "geo": {
           "bgcolor": "white",
           "lakecolor": "white",
           "landcolor": "#E5ECF6",
           "showlakes": true,
           "showland": true,
           "subunitcolor": "white"
          },
          "hoverlabel": {
           "align": "left"
          },
          "hovermode": "closest",
          "mapbox": {
           "style": "light"
          },
          "paper_bgcolor": "white",
          "plot_bgcolor": "#E5ECF6",
          "polar": {
           "angularaxis": {
            "gridcolor": "white",
            "linecolor": "white",
            "ticks": ""
           },
           "bgcolor": "#E5ECF6",
           "radialaxis": {
            "gridcolor": "white",
            "linecolor": "white",
            "ticks": ""
           }
          },
          "scene": {
           "xaxis": {
            "backgroundcolor": "#E5ECF6",
            "gridcolor": "white",
            "gridwidth": 2,
            "linecolor": "white",
            "showbackground": true,
            "ticks": "",
            "zerolinecolor": "white"
           },
           "yaxis": {
            "backgroundcolor": "#E5ECF6",
            "gridcolor": "white",
            "gridwidth": 2,
            "linecolor": "white",
            "showbackground": true,
            "ticks": "",
            "zerolinecolor": "white"
           },
           "zaxis": {
            "backgroundcolor": "#E5ECF6",
            "gridcolor": "white",
            "gridwidth": 2,
            "linecolor": "white",
            "showbackground": true,
            "ticks": "",
            "zerolinecolor": "white"
           }
          },
          "shapedefaults": {
           "line": {
            "color": "#2a3f5f"
           }
          },
          "ternary": {
           "aaxis": {
            "gridcolor": "white",
            "linecolor": "white",
            "ticks": ""
           },
           "baxis": {
            "gridcolor": "white",
            "linecolor": "white",
            "ticks": ""
           },
           "bgcolor": "#E5ECF6",
           "caxis": {
            "gridcolor": "white",
            "linecolor": "white",
            "ticks": ""
           }
          },
          "title": {
           "x": 0.05
          },
          "xaxis": {
           "automargin": true,
           "gridcolor": "white",
           "linecolor": "white",
           "ticks": "",
           "title": {
            "standoff": 15
           },
           "zerolinecolor": "white",
           "zerolinewidth": 2
          },
          "yaxis": {
           "automargin": true,
           "gridcolor": "white",
           "linecolor": "white",
           "ticks": "",
           "title": {
            "standoff": 15
           },
           "zerolinecolor": "white",
           "zerolinewidth": 2
          }
         }
        },
        "title": {
         "text": "AMOUNT OF DECREASE"
        },
        "xaxis": {
         "anchor": "y",
         "domain": [
          0,
          1
         ],
         "title": {
          "text": "index"
         }
        },
        "yaxis": {
         "anchor": "x",
         "domain": [
          0,
          1
         ],
         "title": {
          "text": "Amount of decrease"
         }
        }
       }
      }
     },
     "metadata": {},
     "output_type": "display_data"
    }
   ],
   "source": [
    "fig = px.bar(sorted_decrease_data,y= sorted_decrease_data['Amount of decrease'],title='AMOUNT OF DECREASE')\n",
    "fig.show()"
   ]
  },
  {
   "cell_type": "code",
   "execution_count": 84,
   "metadata": {},
   "outputs": [],
   "source": [
    "from sklearn.model_selection import train_test_split"
   ]
  },
  {
   "cell_type": "code",
   "execution_count": 85,
   "metadata": {},
   "outputs": [
    {
     "data": {
      "application/vnd.plotly.v1+json": {
       "config": {
        "plotlyServerURL": "https://plot.ly"
       },
       "data": [
        {
         "hovertemplate": "Date=%{x}<br>Price=%{y}<extra></extra>",
         "legendgroup": "",
         "line": {
          "color": "#636efa",
          "dash": "solid"
         },
         "marker": {
          "symbol": "circle"
         },
         "mode": "lines",
         "name": "",
         "orientation": "v",
         "showlegend": false,
         "type": "scatter",
         "x": [
          "2021-07-01T00:00:00",
          "2021-07-02T00:00:00",
          "2021-07-05T00:00:00",
          "2021-07-06T00:00:00",
          "2021-07-07T00:00:00",
          "2021-07-08T00:00:00",
          "2021-07-09T00:00:00",
          "2021-07-12T00:00:00",
          "2021-07-13T00:00:00",
          "2021-07-14T00:00:00",
          "2021-07-15T00:00:00",
          "2021-07-16T00:00:00",
          "2021-07-19T00:00:00",
          "2021-07-20T00:00:00",
          "2021-07-21T00:00:00",
          "2021-07-22T00:00:00",
          "2021-07-23T00:00:00",
          "2021-07-26T00:00:00",
          "2021-07-27T00:00:00",
          "2021-07-28T00:00:00",
          "2021-07-29T00:00:00",
          "2021-07-30T00:00:00",
          "2021-08-02T00:00:00",
          "2021-08-03T00:00:00",
          "2021-08-04T00:00:00",
          "2021-08-05T00:00:00",
          "2021-08-06T00:00:00",
          "2021-08-09T00:00:00",
          "2021-08-10T00:00:00",
          "2021-08-11T00:00:00",
          "2021-08-12T00:00:00",
          "2021-08-13T00:00:00",
          "2021-08-16T00:00:00",
          "2021-08-17T00:00:00",
          "2021-08-18T00:00:00",
          "2021-08-19T00:00:00",
          "2021-08-20T00:00:00",
          "2021-08-23T00:00:00",
          "2021-08-24T00:00:00",
          "2021-08-25T00:00:00",
          "2021-08-26T00:00:00",
          "2021-08-27T00:00:00",
          "2021-08-30T00:00:00",
          "2021-08-31T00:00:00",
          "2021-09-01T00:00:00",
          "2021-09-06T00:00:00",
          "2021-09-07T00:00:00",
          "2021-09-08T00:00:00",
          "2021-09-09T00:00:00",
          "2021-09-10T00:00:00",
          "2021-09-13T00:00:00",
          "2021-09-14T00:00:00",
          "2021-09-15T00:00:00",
          "2021-09-16T00:00:00",
          "2021-09-17T00:00:00",
          "2021-09-20T00:00:00",
          "2021-09-21T00:00:00",
          "2021-09-22T00:00:00",
          "2021-09-23T00:00:00",
          "2021-09-24T00:00:00",
          "2021-09-27T00:00:00",
          "2021-09-28T00:00:00",
          "2021-09-29T00:00:00",
          "2021-09-30T00:00:00",
          "2021-10-01T00:00:00",
          "2021-10-04T00:00:00",
          "2021-10-05T00:00:00",
          "2021-10-06T00:00:00",
          "2021-10-07T00:00:00",
          "2021-10-08T00:00:00",
          "2021-10-11T00:00:00",
          "2021-10-12T00:00:00",
          "2021-10-13T00:00:00",
          "2021-10-14T00:00:00",
          "2021-10-15T00:00:00",
          "2021-10-18T00:00:00",
          "2021-10-19T00:00:00",
          "2021-10-20T00:00:00",
          "2021-10-21T00:00:00",
          "2021-10-22T00:00:00",
          "2021-10-25T00:00:00",
          "2021-10-26T00:00:00",
          "2021-10-27T00:00:00",
          "2021-10-28T00:00:00",
          "2021-10-29T00:00:00",
          "2021-11-01T00:00:00",
          "2021-11-02T00:00:00",
          "2021-11-03T00:00:00",
          "2021-11-04T00:00:00",
          "2021-11-05T00:00:00",
          "2021-11-08T00:00:00",
          "2021-11-09T00:00:00",
          "2021-11-10T00:00:00",
          "2021-11-11T00:00:00",
          "2021-11-12T00:00:00",
          "2021-11-15T00:00:00",
          "2021-11-16T00:00:00",
          "2021-11-17T00:00:00",
          "2021-11-18T00:00:00",
          "2021-11-19T00:00:00",
          "2021-11-22T00:00:00",
          "2021-11-23T00:00:00",
          "2021-11-24T00:00:00",
          "2021-11-25T00:00:00",
          "2021-11-26T00:00:00",
          "2021-11-29T00:00:00",
          "2021-11-30T00:00:00",
          "2021-12-01T00:00:00",
          "2021-12-02T00:00:00",
          "2021-12-03T00:00:00",
          "2021-12-06T00:00:00",
          "2021-12-07T00:00:00",
          "2021-12-08T00:00:00",
          "2021-12-09T00:00:00",
          "2021-12-10T00:00:00",
          "2021-12-13T00:00:00",
          "2021-12-14T00:00:00",
          "2021-12-15T00:00:00",
          "2021-12-16T00:00:00",
          "2021-12-17T00:00:00",
          "2021-12-20T00:00:00",
          "2021-12-21T00:00:00",
          "2021-12-22T00:00:00",
          "2021-12-23T00:00:00",
          "2021-12-24T00:00:00",
          "2021-12-27T00:00:00",
          "2021-12-28T00:00:00",
          "2021-12-29T00:00:00",
          "2021-12-30T00:00:00",
          "2021-12-31T00:00:00"
         ],
         "xaxis": "x",
         "y": [
          14693,
          14693,
          14693,
          15173,
          14597,
          14741,
          14741,
          14741,
          14693,
          14405,
          13637,
          13637,
          14549,
          15557,
          15557,
          15461,
          14789,
          14357,
          14405,
          14405,
          13829,
          14405,
          14309,
          14021,
          13925,
          14309,
          14117,
          14405,
          14837,
          14741,
          14837,
          14693,
          14789,
          14789,
          14741,
          14741,
          14501,
          14213,
          14405,
          14405,
          14405,
          15413,
          16277,
          16133,
          15221,
          15413,
          15125,
          15125,
          14933,
          14789,
          15125,
          14693,
          15221,
          14741,
          14789,
          14933,
          14693,
          15029,
          14981,
          14645,
          14885,
          14885,
          14741,
          14741,
          14549,
          14597,
          14453,
          14885,
          14885,
          14789,
          14549,
          14885,
          14885,
          14885,
          14789,
          14213,
          15173,
          15365,
          14693,
          14789,
          15173,
          14981,
          15173,
          15077,
          14741,
          14885,
          15269,
          14741,
          15125,
          15125,
          15173,
          15173,
          15221,
          15173,
          15269,
          16325,
          16325,
          15845,
          15461,
          15221,
          15269,
          15173,
          15317,
          15269,
          15125,
          15125,
          15605,
          15653,
          16325,
          15845,
          15125,
          15365,
          15317,
          15605,
          14933,
          14981,
          14885,
          14981,
          15077,
          14741,
          14981,
          14885,
          14885,
          14693,
          14789,
          14885,
          14693,
          14885,
          15029,
          14885
         ],
         "yaxis": "y"
        }
       ],
       "layout": {
        "legend": {
         "tracegroupgap": 0
        },
        "margin": {
         "t": 60
        },
        "template": {
         "data": {
          "bar": [
           {
            "error_x": {
             "color": "#2a3f5f"
            },
            "error_y": {
             "color": "#2a3f5f"
            },
            "marker": {
             "line": {
              "color": "#E5ECF6",
              "width": 0.5
             },
             "pattern": {
              "fillmode": "overlay",
              "size": 10,
              "solidity": 0.2
             }
            },
            "type": "bar"
           }
          ],
          "barpolar": [
           {
            "marker": {
             "line": {
              "color": "#E5ECF6",
              "width": 0.5
             },
             "pattern": {
              "fillmode": "overlay",
              "size": 10,
              "solidity": 0.2
             }
            },
            "type": "barpolar"
           }
          ],
          "carpet": [
           {
            "aaxis": {
             "endlinecolor": "#2a3f5f",
             "gridcolor": "white",
             "linecolor": "white",
             "minorgridcolor": "white",
             "startlinecolor": "#2a3f5f"
            },
            "baxis": {
             "endlinecolor": "#2a3f5f",
             "gridcolor": "white",
             "linecolor": "white",
             "minorgridcolor": "white",
             "startlinecolor": "#2a3f5f"
            },
            "type": "carpet"
           }
          ],
          "choropleth": [
           {
            "colorbar": {
             "outlinewidth": 0,
             "ticks": ""
            },
            "type": "choropleth"
           }
          ],
          "contour": [
           {
            "colorbar": {
             "outlinewidth": 0,
             "ticks": ""
            },
            "colorscale": [
             [
              0,
              "#0d0887"
             ],
             [
              0.1111111111111111,
              "#46039f"
             ],
             [
              0.2222222222222222,
              "#7201a8"
             ],
             [
              0.3333333333333333,
              "#9c179e"
             ],
             [
              0.4444444444444444,
              "#bd3786"
             ],
             [
              0.5555555555555556,
              "#d8576b"
             ],
             [
              0.6666666666666666,
              "#ed7953"
             ],
             [
              0.7777777777777778,
              "#fb9f3a"
             ],
             [
              0.8888888888888888,
              "#fdca26"
             ],
             [
              1,
              "#f0f921"
             ]
            ],
            "type": "contour"
           }
          ],
          "contourcarpet": [
           {
            "colorbar": {
             "outlinewidth": 0,
             "ticks": ""
            },
            "type": "contourcarpet"
           }
          ],
          "heatmap": [
           {
            "colorbar": {
             "outlinewidth": 0,
             "ticks": ""
            },
            "colorscale": [
             [
              0,
              "#0d0887"
             ],
             [
              0.1111111111111111,
              "#46039f"
             ],
             [
              0.2222222222222222,
              "#7201a8"
             ],
             [
              0.3333333333333333,
              "#9c179e"
             ],
             [
              0.4444444444444444,
              "#bd3786"
             ],
             [
              0.5555555555555556,
              "#d8576b"
             ],
             [
              0.6666666666666666,
              "#ed7953"
             ],
             [
              0.7777777777777778,
              "#fb9f3a"
             ],
             [
              0.8888888888888888,
              "#fdca26"
             ],
             [
              1,
              "#f0f921"
             ]
            ],
            "type": "heatmap"
           }
          ],
          "heatmapgl": [
           {
            "colorbar": {
             "outlinewidth": 0,
             "ticks": ""
            },
            "colorscale": [
             [
              0,
              "#0d0887"
             ],
             [
              0.1111111111111111,
              "#46039f"
             ],
             [
              0.2222222222222222,
              "#7201a8"
             ],
             [
              0.3333333333333333,
              "#9c179e"
             ],
             [
              0.4444444444444444,
              "#bd3786"
             ],
             [
              0.5555555555555556,
              "#d8576b"
             ],
             [
              0.6666666666666666,
              "#ed7953"
             ],
             [
              0.7777777777777778,
              "#fb9f3a"
             ],
             [
              0.8888888888888888,
              "#fdca26"
             ],
             [
              1,
              "#f0f921"
             ]
            ],
            "type": "heatmapgl"
           }
          ],
          "histogram": [
           {
            "marker": {
             "pattern": {
              "fillmode": "overlay",
              "size": 10,
              "solidity": 0.2
             }
            },
            "type": "histogram"
           }
          ],
          "histogram2d": [
           {
            "colorbar": {
             "outlinewidth": 0,
             "ticks": ""
            },
            "colorscale": [
             [
              0,
              "#0d0887"
             ],
             [
              0.1111111111111111,
              "#46039f"
             ],
             [
              0.2222222222222222,
              "#7201a8"
             ],
             [
              0.3333333333333333,
              "#9c179e"
             ],
             [
              0.4444444444444444,
              "#bd3786"
             ],
             [
              0.5555555555555556,
              "#d8576b"
             ],
             [
              0.6666666666666666,
              "#ed7953"
             ],
             [
              0.7777777777777778,
              "#fb9f3a"
             ],
             [
              0.8888888888888888,
              "#fdca26"
             ],
             [
              1,
              "#f0f921"
             ]
            ],
            "type": "histogram2d"
           }
          ],
          "histogram2dcontour": [
           {
            "colorbar": {
             "outlinewidth": 0,
             "ticks": ""
            },
            "colorscale": [
             [
              0,
              "#0d0887"
             ],
             [
              0.1111111111111111,
              "#46039f"
             ],
             [
              0.2222222222222222,
              "#7201a8"
             ],
             [
              0.3333333333333333,
              "#9c179e"
             ],
             [
              0.4444444444444444,
              "#bd3786"
             ],
             [
              0.5555555555555556,
              "#d8576b"
             ],
             [
              0.6666666666666666,
              "#ed7953"
             ],
             [
              0.7777777777777778,
              "#fb9f3a"
             ],
             [
              0.8888888888888888,
              "#fdca26"
             ],
             [
              1,
              "#f0f921"
             ]
            ],
            "type": "histogram2dcontour"
           }
          ],
          "mesh3d": [
           {
            "colorbar": {
             "outlinewidth": 0,
             "ticks": ""
            },
            "type": "mesh3d"
           }
          ],
          "parcoords": [
           {
            "line": {
             "colorbar": {
              "outlinewidth": 0,
              "ticks": ""
             }
            },
            "type": "parcoords"
           }
          ],
          "pie": [
           {
            "automargin": true,
            "type": "pie"
           }
          ],
          "scatter": [
           {
            "fillpattern": {
             "fillmode": "overlay",
             "size": 10,
             "solidity": 0.2
            },
            "type": "scatter"
           }
          ],
          "scatter3d": [
           {
            "line": {
             "colorbar": {
              "outlinewidth": 0,
              "ticks": ""
             }
            },
            "marker": {
             "colorbar": {
              "outlinewidth": 0,
              "ticks": ""
             }
            },
            "type": "scatter3d"
           }
          ],
          "scattercarpet": [
           {
            "marker": {
             "colorbar": {
              "outlinewidth": 0,
              "ticks": ""
             }
            },
            "type": "scattercarpet"
           }
          ],
          "scattergeo": [
           {
            "marker": {
             "colorbar": {
              "outlinewidth": 0,
              "ticks": ""
             }
            },
            "type": "scattergeo"
           }
          ],
          "scattergl": [
           {
            "marker": {
             "colorbar": {
              "outlinewidth": 0,
              "ticks": ""
             }
            },
            "type": "scattergl"
           }
          ],
          "scattermapbox": [
           {
            "marker": {
             "colorbar": {
              "outlinewidth": 0,
              "ticks": ""
             }
            },
            "type": "scattermapbox"
           }
          ],
          "scatterpolar": [
           {
            "marker": {
             "colorbar": {
              "outlinewidth": 0,
              "ticks": ""
             }
            },
            "type": "scatterpolar"
           }
          ],
          "scatterpolargl": [
           {
            "marker": {
             "colorbar": {
              "outlinewidth": 0,
              "ticks": ""
             }
            },
            "type": "scatterpolargl"
           }
          ],
          "scatterternary": [
           {
            "marker": {
             "colorbar": {
              "outlinewidth": 0,
              "ticks": ""
             }
            },
            "type": "scatterternary"
           }
          ],
          "surface": [
           {
            "colorbar": {
             "outlinewidth": 0,
             "ticks": ""
            },
            "colorscale": [
             [
              0,
              "#0d0887"
             ],
             [
              0.1111111111111111,
              "#46039f"
             ],
             [
              0.2222222222222222,
              "#7201a8"
             ],
             [
              0.3333333333333333,
              "#9c179e"
             ],
             [
              0.4444444444444444,
              "#bd3786"
             ],
             [
              0.5555555555555556,
              "#d8576b"
             ],
             [
              0.6666666666666666,
              "#ed7953"
             ],
             [
              0.7777777777777778,
              "#fb9f3a"
             ],
             [
              0.8888888888888888,
              "#fdca26"
             ],
             [
              1,
              "#f0f921"
             ]
            ],
            "type": "surface"
           }
          ],
          "table": [
           {
            "cells": {
             "fill": {
              "color": "#EBF0F8"
             },
             "line": {
              "color": "white"
             }
            },
            "header": {
             "fill": {
              "color": "#C8D4E3"
             },
             "line": {
              "color": "white"
             }
            },
            "type": "table"
           }
          ]
         },
         "layout": {
          "annotationdefaults": {
           "arrowcolor": "#2a3f5f",
           "arrowhead": 0,
           "arrowwidth": 1
          },
          "autotypenumbers": "strict",
          "coloraxis": {
           "colorbar": {
            "outlinewidth": 0,
            "ticks": ""
           }
          },
          "colorscale": {
           "diverging": [
            [
             0,
             "#8e0152"
            ],
            [
             0.1,
             "#c51b7d"
            ],
            [
             0.2,
             "#de77ae"
            ],
            [
             0.3,
             "#f1b6da"
            ],
            [
             0.4,
             "#fde0ef"
            ],
            [
             0.5,
             "#f7f7f7"
            ],
            [
             0.6,
             "#e6f5d0"
            ],
            [
             0.7,
             "#b8e186"
            ],
            [
             0.8,
             "#7fbc41"
            ],
            [
             0.9,
             "#4d9221"
            ],
            [
             1,
             "#276419"
            ]
           ],
           "sequential": [
            [
             0,
             "#0d0887"
            ],
            [
             0.1111111111111111,
             "#46039f"
            ],
            [
             0.2222222222222222,
             "#7201a8"
            ],
            [
             0.3333333333333333,
             "#9c179e"
            ],
            [
             0.4444444444444444,
             "#bd3786"
            ],
            [
             0.5555555555555556,
             "#d8576b"
            ],
            [
             0.6666666666666666,
             "#ed7953"
            ],
            [
             0.7777777777777778,
             "#fb9f3a"
            ],
            [
             0.8888888888888888,
             "#fdca26"
            ],
            [
             1,
             "#f0f921"
            ]
           ],
           "sequentialminus": [
            [
             0,
             "#0d0887"
            ],
            [
             0.1111111111111111,
             "#46039f"
            ],
            [
             0.2222222222222222,
             "#7201a8"
            ],
            [
             0.3333333333333333,
             "#9c179e"
            ],
            [
             0.4444444444444444,
             "#bd3786"
            ],
            [
             0.5555555555555556,
             "#d8576b"
            ],
            [
             0.6666666666666666,
             "#ed7953"
            ],
            [
             0.7777777777777778,
             "#fb9f3a"
            ],
            [
             0.8888888888888888,
             "#fdca26"
            ],
            [
             1,
             "#f0f921"
            ]
           ]
          },
          "colorway": [
           "#636efa",
           "#EF553B",
           "#00cc96",
           "#ab63fa",
           "#FFA15A",
           "#19d3f3",
           "#FF6692",
           "#B6E880",
           "#FF97FF",
           "#FECB52"
          ],
          "font": {
           "color": "#2a3f5f"
          },
          "geo": {
           "bgcolor": "white",
           "lakecolor": "white",
           "landcolor": "#E5ECF6",
           "showlakes": true,
           "showland": true,
           "subunitcolor": "white"
          },
          "hoverlabel": {
           "align": "left"
          },
          "hovermode": "closest",
          "mapbox": {
           "style": "light"
          },
          "paper_bgcolor": "white",
          "plot_bgcolor": "#E5ECF6",
          "polar": {
           "angularaxis": {
            "gridcolor": "white",
            "linecolor": "white",
            "ticks": ""
           },
           "bgcolor": "#E5ECF6",
           "radialaxis": {
            "gridcolor": "white",
            "linecolor": "white",
            "ticks": ""
           }
          },
          "scene": {
           "xaxis": {
            "backgroundcolor": "#E5ECF6",
            "gridcolor": "white",
            "gridwidth": 2,
            "linecolor": "white",
            "showbackground": true,
            "ticks": "",
            "zerolinecolor": "white"
           },
           "yaxis": {
            "backgroundcolor": "#E5ECF6",
            "gridcolor": "white",
            "gridwidth": 2,
            "linecolor": "white",
            "showbackground": true,
            "ticks": "",
            "zerolinecolor": "white"
           },
           "zaxis": {
            "backgroundcolor": "#E5ECF6",
            "gridcolor": "white",
            "gridwidth": 2,
            "linecolor": "white",
            "showbackground": true,
            "ticks": "",
            "zerolinecolor": "white"
           }
          },
          "shapedefaults": {
           "line": {
            "color": "#2a3f5f"
           }
          },
          "ternary": {
           "aaxis": {
            "gridcolor": "white",
            "linecolor": "white",
            "ticks": ""
           },
           "baxis": {
            "gridcolor": "white",
            "linecolor": "white",
            "ticks": ""
           },
           "bgcolor": "#E5ECF6",
           "caxis": {
            "gridcolor": "white",
            "linecolor": "white",
            "ticks": ""
           }
          },
          "title": {
           "x": 0.05
          },
          "xaxis": {
           "automargin": true,
           "gridcolor": "white",
           "linecolor": "white",
           "ticks": "",
           "title": {
            "standoff": 15
           },
           "zerolinecolor": "white",
           "zerolinewidth": 2
          },
          "yaxis": {
           "automargin": true,
           "gridcolor": "white",
           "linecolor": "white",
           "ticks": "",
           "title": {
            "standoff": 15
           },
           "zerolinecolor": "white",
           "zerolinewidth": 2
          }
         }
        },
        "xaxis": {
         "anchor": "y",
         "domain": [
          0,
          1
         ],
         "title": {
          "text": "Date"
         }
        },
        "yaxis": {
         "anchor": "x",
         "domain": [
          0,
          1
         ],
         "title": {
          "text": "Price"
         }
        }
       }
      }
     },
     "metadata": {},
     "output_type": "display_data"
    }
   ],
   "source": [
    "fig = px.line(VPS,x = VPS['Date'], y= VPS['Price'])\n",
    "fig.show()"
   ]
  }
 ],
 "metadata": {
  "kernelspec": {
   "display_name": "Python 3.10.8 64-bit",
   "language": "python",
   "name": "python3"
  },
  "language_info": {
   "codemirror_mode": {
    "name": "ipython",
    "version": 3
   },
   "file_extension": ".py",
   "mimetype": "text/x-python",
   "name": "python",
   "nbconvert_exporter": "python",
   "pygments_lexer": "ipython3",
   "version": "3.10.8"
  },
  "orig_nbformat": 4,
  "vscode": {
   "interpreter": {
    "hash": "a42ccb73e7d9bfdf27e036f1d2b8b681e55fc0743cc5586bc2474d4a60f4b886"
   }
  }
 },
 "nbformat": 4,
 "nbformat_minor": 2
}
